{
 "cells": [
  {
   "cell_type": "markdown",
   "id": "9a5b6b82",
   "metadata": {
    "slideshow": {
     "slide_type": "slide"
    }
   },
   "source": [
    "# Fundamental Concepts in Data Insight: \n",
    "## <font color=indigo> Data Governance </font>\n",
    "\n",
    "### Fundamentals for a General Audience\n",
    "\n",
    "---"
   ]
  },
  {
   "cell_type": "markdown",
   "id": "8a3e01da",
   "metadata": {
    "slideshow": {
     "slide_type": "slide"
    }
   },
   "source": [
    "QA Ltd. owns the copyright and other intellectual property rights of this material and asserts its moral rights as the author. All rights reserved."
   ]
  },
  {
   "cell_type": "markdown",
   "id": "26b4d8cb",
   "metadata": {
    "slideshow": {
     "slide_type": "slide"
    }
   },
   "source": [
    "### **Data Governance**\n",
    "* What is Data?\n",
    "* What is Data Governance?\n",
    "    * WB. How do you manage data as an asset?\n",
    "    * WB. What does Data Governance oversee?\n",
    "    * What are the goals of Data Governance?\n",
    "    * WB. What areas does governance touch?\n",
    "    * Review: What topics does governance cover?\n",
    "* How does Data Governance relate to Compliance?\n",
    "    * Governing Organizations\n",
    "* How do we govern data systems?\n",
    "    * How does meta-data help govern data systems?\n",
    "    * WB. How are Data Governance roles defined?\n",
    "    * How do organizations implement Governance?\n",
    "    * What is Data Stewardship?\n",
    "* The Data in Data Governance\n",
    "    * How do you value data?\n",
    "    * How do we ensure data quality?\n",
    "    * How do you manage data security?\n",
    "* Group Exercise\n"
   ]
  },
  {
   "cell_type": "markdown",
   "id": "b84101fa",
   "metadata": {
    "slideshow": {
     "slide_type": "slide"
    }
   },
   "source": [
    "## What is Data Governance?"
   ]
  },
  {
   "cell_type": "markdown",
   "id": "1e1bc7e4",
   "metadata": {
    "slideshow": {
     "slide_type": "slide"
    }
   },
   "source": [
    "## What is Data?\n",
    "\n",
    "* (measurements of observable variables....)\n",
    "\n",
    "* a corporate asset\n",
    "    * which must be managed\n",
    "    * to derive maximum value \n",
    "\n",
    "* a support for\n",
    "    * high-quality decision making\n",
    "    \n",
    "* consider:\n",
    "    * how are other organizational assets managed?"
   ]
  },
  {
   "cell_type": "markdown",
   "id": "e9ddae51",
   "metadata": {
    "slideshow": {
     "slide_type": "slide"
    }
   },
   "source": [
    "## WB. How do you manage data as an asset?"
   ]
  },
  {
   "cell_type": "markdown",
   "id": "b9e09d2a",
   "metadata": {
    "slideshow": {
     "slide_type": "slide"
    }
   },
   "source": [
    "## WB. What does Data Governance oversee?\n"
   ]
  },
  {
   "cell_type": "markdown",
   "id": "4f9616d8",
   "metadata": {
    "slideshow": {
     "slide_type": "slide"
    }
   },
   "source": [
    "## What is data governance?\n",
    "* you know\n",
    "    * what data you have\n",
    "    * where it's stored\n",
    "    * who has permissions to access\n",
    "    * how authorized users use it\n",
    "* governance guides all other data management functions\n",
    "* data management *done well*\n",
    "    * ie., formalized policy and procedures\n"
   ]
  },
  {
   "cell_type": "markdown",
   "id": "6150439c",
   "metadata": {
    "slideshow": {
     "slide_type": "slide"
    }
   },
   "source": [
    "## What are the goals of Data Governance?\n",
    "\n",
    "* regulartory compliance\n",
    "* enable organizations ot manage data as an asset\n",
    "* define, approve, communicate principals & practices\n",
    "* monitor and guide policy, compliance and usage\n",
    "\n",
    "* manage & resolve data issues\n",
    "* sponsor, track, oversee data manaagement\n",
    "* understand and promote value of data assets\n",
    "* enforce polices\n",
    "\n",
    "* ensure data strategy follows business strategy \n"
   ]
  },
  {
   "cell_type": "markdown",
   "id": "842a8092",
   "metadata": {
    "slideshow": {
     "slide_type": "slide"
    }
   },
   "source": [
    "## WB. What areas does governance touch?"
   ]
  },
  {
   "cell_type": "markdown",
   "id": "6f3b65bf",
   "metadata": {
    "slideshow": {
     "slide_type": "slide"
    }
   },
   "source": [
    "## Review: What topics does governance cover?\n",
    "* Strategy\n",
    "* Policy\n",
    "    * access, usage, security, standards, and quality\n",
    "* Oversight (stewardship)\n",
    "    * audit, quality, policy \n",
    "* Compliance\n",
    "* Issue management\n",
    "* Data management project sponsorship\n",
    "* Data asset valuation\n",
    "    * framework for valuing data assets"
   ]
  },
  {
   "cell_type": "markdown",
   "id": "1be74be4",
   "metadata": {
    "slideshow": {
     "slide_type": "slide"
    }
   },
   "source": [
    "## How does Data Governance relate to Compliance?\n",
    "\n",
    "* governance teams work with \n",
    "    * business and technical leadership\n",
    "* regulation questions\n",
    "    * which regulation is relevant to organization?\n",
    "    * what does compliance look-like?\n",
    "    * how is compliance monitored and demonstrated?\n",
    "    * what is the risk of non-compliance?\n",
    "    * how is non-compliance redressed? \n",
    "* example regulations\n",
    "    * Basel II for EU bank risk\n",
    "    * Solvency II for insurance\n",
    "    * GDPR for EU data privacy and control"
   ]
  },
  {
   "cell_type": "markdown",
   "id": "adb47fa7",
   "metadata": {
    "slideshow": {
     "slide_type": "slide"
    }
   },
   "source": [
    "## Governing Organizations"
   ]
  },
  {
   "cell_type": "markdown",
   "id": "5ed5494c",
   "metadata": {
    "slideshow": {
     "slide_type": "slide"
    }
   },
   "source": [
    "## How do we govern data systems?\n",
    "* centralise data into a (clould) data systems\n",
    "* data quality & auditing procedures\n",
    "    * data catalogue covers whole data systems\n",
    "* consistent data security procedures enforced by-design\n",
    "* regulatory compliance by-design\n",
    "    * ownership, access, useage, auditing\n",
    "    * compliance-sensitive data flagged"
   ]
  },
  {
   "cell_type": "markdown",
   "id": "c28ddac4",
   "metadata": {
    "slideshow": {
     "slide_type": "slide"
    }
   },
   "source": [
    "## How does meta-data help govern data systems?\n",
    "* meta-data\n",
    "    * data about data\n",
    "* meta-data can track\n",
    "    * what data is used for \n",
    "    * data origin, destination\n",
    "    * data access, ownership\n",
    "* data catalogue\n",
    "    * software which tracks meta-data\n",
    "    * visibility on data access, modification, \n",
    "    "
   ]
  },
  {
   "cell_type": "markdown",
   "id": "bc13154d",
   "metadata": {
    "slideshow": {
     "slide_type": "slide"
    }
   },
   "source": [
    "## WB. How are Data Governance roles defined?\n"
   ]
  },
  {
   "cell_type": "markdown",
   "id": "b1f3529b",
   "metadata": {
    "slideshow": {
     "slide_type": "slide"
    }
   },
   "source": [
    "## How do organizations implement Governance?\n",
    "\n",
    "* change-management via C-level sponsorship\n",
    "* governance team\n",
    "    * departemental stewards\n",
    "        * ensure governance culture\n",
    "* policy and practice development"
   ]
  },
  {
   "cell_type": "markdown",
   "id": "d6ab991b",
   "metadata": {
    "slideshow": {
     "slide_type": "slide"
    }
   },
   "source": [
    "## What is Data Stewardship?\n",
    "\n",
    "* governance = enterprise policy\n",
    "* stewardship = business domain experts who implement\n",
    "    * socailize/normalize governance in their area\n",
    "* data stewards are implementers of data goverannce\n",
    "    * typically several, and specialized to relevant areas \n",
    "* stewards\n",
    "    * create and manage metadata\n",
    "    * business terminology and glossary\n",
    "    * reference data values\n",
    "    * rules, standards and practices"
   ]
  },
  {
   "cell_type": "markdown",
   "id": "3c5da846",
   "metadata": {
    "slideshow": {
     "slide_type": "slide"
    }
   },
   "source": [
    "## The Data in Data Governance"
   ]
  },
  {
   "cell_type": "markdown",
   "id": "65212ae0",
   "metadata": {
    "slideshow": {
     "slide_type": "slide"
    }
   },
   "source": [
    "## How do you value data?\n",
    "\n",
    "* economic value of data\n",
    "    * non-fungible (not interchangeable)\n",
    "    * market valuation\n",
    "    * product valuation\n",
    "    * strategic evaluation\n",
    "* competitive differentiator\n",
    "* replacement cost\n"
   ]
  },
  {
   "cell_type": "markdown",
   "id": "9f1bf45c",
   "metadata": {
    "slideshow": {
     "slide_type": "slide"
    }
   },
   "source": [
    "## How do we ensure data quality?\n",
    "* data insight requires data which is high quality\n",
    "    * accurate\n",
    "    * complete\n",
    "    * well-formatted\n",
    "    * relevant\n",
    "* data steward\n",
    "    * responsible for data quality\n",
    "    * manages meta-data\n",
    "    * auditing procedures\n",
    "* data citizens\n",
    "    * transparent access to organizational data\n",
    "    * coordinate with data stewards"
   ]
  },
  {
   "cell_type": "markdown",
   "id": "7cb212e2",
   "metadata": {
    "slideshow": {
     "slide_type": "slide"
    }
   },
   "source": [
    "## How do you manage data security?\n",
    "\n",
    "* access control and role-based access\n",
    "* column-level and row-level permissions\n",
    "* hide values, communicate type/structure\n",
    "    * eg., credit card details hidden from DBAs\n",
    "* multifactor authentication\n",
    "* encryption\n",
    "    * possibly at-rest and in-flight\n",
    "* redundancy and backup"
   ]
  },
  {
   "cell_type": "markdown",
   "id": "e91ef3d9",
   "metadata": {
    "slideshow": {
     "slide_type": "slide"
    }
   },
   "source": [
    "## Group Exercise\n",
    "\n",
    "Consider how you would communicate value of Data Governace to your organization.\n",
    "\n",
    "* find case studies of\n",
    "    * failures due to lack of goverance\n",
    "    * opportunity costs\n",
    "    * gains of revenue\n",
    "\n",
    "* \"make it real\" to your organization"
   ]
  }
 ],
 "metadata": {
  "celltoolbar": "Slideshow",
  "kernelspec": {
   "display_name": "Python 3",
   "language": "python",
   "name": "python3"
  },
  "language_info": {
   "codemirror_mode": {
    "name": "ipython",
    "version": 3
   },
   "file_extension": ".py",
   "mimetype": "text/x-python",
   "name": "python",
   "nbconvert_exporter": "python",
   "pygments_lexer": "ipython3",
   "version": "3.8.3"
  }
 },
 "nbformat": 4,
 "nbformat_minor": 5
}

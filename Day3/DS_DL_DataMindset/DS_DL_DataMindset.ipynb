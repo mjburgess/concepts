{
 "cells": [
  {
   "cell_type": "markdown",
   "id": "6873920f",
   "metadata": {
    "slideshow": {
     "slide_type": "slide"
    }
   },
   "source": [
    "# Fundamental Concepts in Data Insight: \n",
    "## <font color=indigo> Data Mindset &amp; Skills </font>\n",
    "\n",
    "### Fundamentals for a General Audience\n",
    "\n",
    "---"
   ]
  },
  {
   "cell_type": "markdown",
   "id": "8e4d6e00",
   "metadata": {
    "slideshow": {
     "slide_type": "slide"
    }
   },
   "source": [
    "QA Ltd. owns the copyright and other intellectual property rights of this material and asserts its moral rights as the author. All rights reserved."
   ]
  },
  {
   "cell_type": "markdown",
   "id": "feab4b24",
   "metadata": {
    "slideshow": {
     "slide_type": "slide"
    }
   },
   "source": [
    "### **Data Mindset &amp; Skills**\n",
    "* Why do you need a Data Mindset?\n",
    "    * Discuss: What are the components of a Data Mindset?\n",
    "    * Review: What are the components of a Data Mindset?\n",
    "    * What mindset does a data practicioner need?\n",
    "    * What mindsets does an organization need?\n",
    "* Reasoning\n",
    "    * What is Reasoning?\n",
    "    * What is(n't) Evidence-Based reasoning?\n",
    "        * Superstition\n",
    "        * Speculation\n",
    "        * Evidence-based reasoning\n",
    "    * What techniques and technologies support evidence-based reasoning?\n",
    "    * What are cognitive biases?\n",
    "        * Anchoring and Adjustment Effect\n",
    "        * Clustering illusion\n",
    "        * Framing Effect\n",
    "        * Availability heuristic\n",
    "        * Base rate fallacy\n",
    "        * Selective perception\n",
    "        * Group think\n",
    "    * How do you formulate a hypothesis?\n",
    "    * How does data distinguish between hypotheses?\n",
    "    * Demo: Amnes Room \n",
    "    "
   ]
  },
  {
   "cell_type": "markdown",
   "id": "1fcb834d",
   "metadata": {
    "slideshow": {
     "slide_type": "slide"
    }
   },
   "source": [
    "* Storytelling & Visualization\n",
    "    * What is Data Storytelling?\n",
    "        * Project Valcri\n",
    "    * What is a story?\n",
    "    * Why are data projects presented as stories?\n",
    "    * What is Visual Science?\n",
    "    * How do you create good visuals?\n",
    "    * DEMO: Ted Talk\n",
    "* Group Project: Write a Data Story (30 min)"
   ]
  },
  {
   "cell_type": "markdown",
   "id": "87ecbca1",
   "metadata": {
    "slideshow": {
     "slide_type": "slide"
    }
   },
   "source": [
    "## Why do you need a Data Mindset?"
   ]
  },
  {
   "cell_type": "markdown",
   "id": "2d5837f4",
   "metadata": {
    "slideshow": {
     "slide_type": "fragment"
    }
   },
   "source": [
    "> Intelligence work does not take place in a vacuum. The process of collecting and analysing information is influenced by a range of variables or “human issues”. These issues impact both the process of intelligence and its outputs. They include but are not limited to **cognitive factors such as sense-making, evidential reasoning and bias mitigation** (as described above). \n",
    "\n",
    "> They also include non-cognitive variables including: the quality of one’s data, the nature and quality of inter-and intra-team collaboration, legal and ethical constraints, operational factors, personal and interpersonal factors, situational and dispositional factors, socio-cultural factors, technology and socio-technological dynamics and so on. "
   ]
  },
  {
   "cell_type": "markdown",
   "id": "4dc2b943",
   "metadata": {
    "slideshow": {
     "slide_type": "slide"
    }
   },
   "source": [
    "## Discuss: What are the components of a Data Mindset?"
   ]
  },
  {
   "cell_type": "markdown",
   "id": "86a22d10",
   "metadata": {
    "slideshow": {
     "slide_type": "slide"
    }
   },
   "source": [
    "## Review: What are the components of a Data Mindset?\n",
    "\n",
    "* leadership\n",
    "    * initivative\n",
    "    * strategic \n",
    "    * coordinative\n",
    "    * prioritizing\n",
    "* communication\n",
    "    * storytelling\n",
    "    * clarity and focus\n",
    "    * priortization, audience-empathy\n",
    "    * presentation\n",
    "    * visualization\n",
    "* reasoning thinking\n",
    "    * depthwise\n",
    "    * lateral\n",
    "    * evidential\n",
    "    * systematic...\n"
   ]
  },
  {
   "cell_type": "markdown",
   "id": "5c39341e",
   "metadata": {
    "slideshow": {
     "slide_type": "slide"
    }
   },
   "source": [
    "## What mindset does a data practicioner need?\n",
    "* scepticism\n",
    "    * disagreeable\n",
    "* problem-oriented\n",
    "    * proactive / self-motivated\n",
    "    * \"tasks\" unlikely to be clear\n",
    "        * derived by practicioner from problem\n",
    "* democratic \n",
    "    * cooperative with data\n",
    "* accountability\n",
    "    * data storytelling\n",
    "        * communicates clearly to non-tech audiences\n",
    "    * clarity of thought and justification"
   ]
  },
  {
   "cell_type": "markdown",
   "id": "ba799d66",
   "metadata": {
    "slideshow": {
     "slide_type": "slide"
    }
   },
   "source": [
    "## What mindsets does an organization need?\n",
    "* data literacy\n",
    "    * read: comprehend\n",
    "    * work with: per-role specialism\n",
    "    * analyse: insight\n",
    "    * argue with: evidence-based thinking\n",
    "    * .. data\n",
    "* evidence-based reasoning\n",
    "    * scepticism\n",
    "        * towards tradition\n",
    "        * AND! data\n",
    "    * clarity of thought\n",
    "    * systematic and analytical thinking\n",
    "* problem-oriented\n",
    "    * defining meaningful success criteria\n",
    "    * working towards it\n",
    "    * prioritising the problem (over people, ...)\n",
    "* data democracy  \n",
    "    * jobs defined by value-add not data ownership\n",
    "    * self-serve data systems\n",
    "* accountability \n",
    "    * explanations and justifications given with decisions\n",
    "        * even if, \"hunch\""
   ]
  },
  {
   "cell_type": "markdown",
   "id": "2fcb8ffd",
   "metadata": {
    "slideshow": {
     "slide_type": "slide"
    }
   },
   "source": [
    "## Reasoning"
   ]
  },
  {
   "cell_type": "markdown",
   "id": "e7e10b9c",
   "metadata": {
    "slideshow": {
     "slide_type": "slide"
    }
   },
   "source": [
    "## What is Reasoning?\n",
    "\n",
    "\n",
    "* a priori\n",
    "* a posteriori\n",
    "\n",
    "* instinct\n",
    "    * action which appears immediately appropriate\n",
    "* intuition\n",
    "    * sense of plausibility based on prior experience\n",
    "    * 'immediate' attempt to explain without expermimentation \n",
    "* reasoning\n",
    "    * dialectical (internal or external)\n",
    "    * can be formalized and shared\n",
    "    * systematic\n",
    "\n",
    "* a priori reasoning\n",
    "    * from concepts (may be learned a posteriori)\n",
    "* a posteriori reasoning\n",
    "    * from data/observation (will require concepts not in the data to interpret)"
   ]
  },
  {
   "cell_type": "markdown",
   "id": "a7ecae81",
   "metadata": {
    "slideshow": {
     "slide_type": "slide"
    }
   },
   "source": [
    "## What is(n't) Evidence-Based reasoning?\n",
    "\n",
    "* superstition\n",
    "* vs. speculation\n",
    "* vs. evidence-based reasoning"
   ]
  },
  {
   "cell_type": "markdown",
   "id": "c9d5da50",
   "metadata": {
    "slideshow": {
     "slide_type": "slide"
    }
   },
   "source": [
    "### Superstition\n",
    "* dogmatic vs dialetical\n",
    "* ideas judged *only* by extrinsic properties\n",
    "    * how much they are liked, \n",
    "    * fit with other ideas, etc.\n",
    "* no causal mechanism offered \n",
    "* unrelated concepts connected by association\n",
    "    * vs., plausible mechanism\n",
    "* eg., china, 5g, etc. TODO\n",
    "    "
   ]
  },
  {
   "cell_type": "markdown",
   "id": "93198b7d",
   "metadata": {
    "slideshow": {
     "slide_type": "slide"
    }
   },
   "source": [
    "### Speculation\n",
    "* imaginative simulation\n",
    "    * counterfactuals\n",
    "* appropriate for unmeasurable domains\n",
    "* imaginative process can be exposed and open to reivisoon\n",
    "* possible causal mechanisms offered\n",
    "* concepts related by intrinsic properties\n",
    "    * with detailed explanation\n",
    "* EG>, TODO\n"
   ]
  },
  {
   "cell_type": "markdown",
   "id": "6c53f849",
   "metadata": {
    "slideshow": {
     "slide_type": "slide"
    }
   },
   "source": [
    "### Evidence-based reasoning\n",
    "* probability\n",
    "* multiple hypotheses\n",
    "* confidence intervals\n",
    "* dialectical\n",
    "* causal, mechanistic\n",
    "* appropriate for measurable domains"
   ]
  },
  {
   "cell_type": "markdown",
   "id": "59ce8b6e",
   "metadata": {
    "slideshow": {
     "slide_type": "slide"
    }
   },
   "source": [
    "## What techniques and technologies support evidence-based reasoning?\n",
    "\n",
    "* Machine Learning (Low Quality, Automated)\n",
    "    * Deep Learning (Artifical Intelligence)\n",
    "* Analytics (Medium Quality, Manual)\n",
    "    * Fact-Finding\n",
    "    * Diagnostics\n",
    "* Statistical Modelling (High Quality, Automated/Manual Mix)\n",
    "    * Experiment & Data Science "
   ]
  },
  {
   "cell_type": "markdown",
   "id": "d9f3cccc",
   "metadata": {
    "slideshow": {
     "slide_type": "slide"
    }
   },
   "source": [
    "## What are cognitive biases?"
   ]
  },
  {
   "cell_type": "markdown",
   "id": "e10c926d",
   "metadata": {
    "slideshow": {
     "slide_type": "fragment"
    }
   },
   "source": [
    "Confirmation bias: The tendency to search for or interpret information in a way that confirms one's preconceptions or hypotheses. "
   ]
  },
  {
   "cell_type": "markdown",
   "id": "b308322f",
   "metadata": {
    "slideshow": {
     "slide_type": "slide"
    }
   },
   "source": [
    "\n",
    "##### Anchoring and Adjustment Effect: \n",
    "* The tendency to rely too heavily or 'anchor' on largely unrelated information when making decisions. \n",
    "\n",
    "##### Clustering illusion: \n",
    "* The tendency to see patterns where actually no patterns exist. \n",
    "\n",
    "##### Framing Effect: \n",
    "* The tendency to draw different conclusions from the same information, depending on how that information is presented. \n",
    "\n",
    "##### Availability heuristic: \n",
    "* The tendency to make judgments about the probability of events occurring by how easily these events are brought to mind. \n",
    "\n",
    "##### Base rate fallacy: \n",
    "* The tendency to base judgments on specifics, ignoring general statistical information. \n",
    "\n",
    "##### Selective perception: \n",
    "* Paying particular attention to some parts of their working environment to the point where it distorts the reality of the situation. \n",
    "\n",
    "##### Group think: \n",
    "* A deterioration of mental efficiency, reality testing and moral judgment resulting from group pressure."
   ]
  },
  {
   "cell_type": "markdown",
   "id": "a90fadff",
   "metadata": {
    "slideshow": {
     "slide_type": "skip"
    }
   },
   "source": [
    "* Ref\n",
    "    * Psychological\tFactors\tin\tCriminal\tIntelligence\tAnalysis"
   ]
  },
  {
   "cell_type": "markdown",
   "id": "04be45a7",
   "metadata": {
    "slideshow": {
     "slide_type": "slide"
    }
   },
   "source": [
    "## How do you formulate a hypothesis?\n",
    "* a hypothesis is a claim which can be tested\n",
    "\n",
    "* define the problem as a hypothesis\n",
    "    * factual description (that may or may not be true)\n",
    "    * neutral about solution\n",
    "    * no normative / evaluative language \n",
    "    "
   ]
  },
  {
   "cell_type": "markdown",
   "id": "e3622448",
   "metadata": {
    "slideshow": {
     "slide_type": "slide"
    }
   },
   "source": [
    "## How does data distinguish between hypotheses?\n",
    "\n",
    "* data cannot produce hypotheses \n",
    "    * has no raw intepretation\n",
    "\n",
    "* concepts are needed to intepret data\n",
    "    * measurement of objects does not contain descriptiuons of those objects... \n",
    "    * many (infinitely many) are consistent with data we observe (EG., TODO, Amnes ROOM)"
   ]
  },
  {
   "cell_type": "markdown",
   "id": "18ec51d8",
   "metadata": {
    "slideshow": {
     "slide_type": "slide"
    }
   },
   "source": [
    "## Demo: Amnes Room \n",
    "\n",
    "* multiple hypotheses about geometric structure\n",
    "* how do we decide?"
   ]
  },
  {
   "cell_type": "markdown",
   "id": "9bdc9385",
   "metadata": {
    "slideshow": {
     "slide_type": "slide"
    }
   },
   "source": [
    "## Storytelling & Visualization"
   ]
  },
  {
   "cell_type": "markdown",
   "id": "e8facec4",
   "metadata": {
    "slideshow": {
     "slide_type": "slide"
    }
   },
   "source": [
    "## What is Data Storytelling?\n",
    "* taking a data project and telling a story about it\n",
    "    * will likely involve a audio-visual component simplified for non-technical audience\n",
    "    * will present a call-to-action\n",
    "    \n",
    "    \n",
    "#### Project Valcri\n",
    "> It has been said that making sense of a situation involves fitting its elements into some kind of structure that links them together (Klein, Phillips, Rall, and Peluso, 2007), **such as a story, a map, a script or a plan**. That when people make sense of stimuli they do so by placing them into some kind of framework which allows them to, **“Comprehend, understand, explain, attribute, extrapolate and predict”** (Starbuck and Milliken, 1988). \n",
    "\n",
    "> Most accounts of sensemaking make similar reference to the role of structuring information, whether this be ‘in the head’ or ‘in the world’ (e.g. on paper or computer screens) (see also, Russell, Stefik, Pirolli and Card 1993; Pirolli and Card, 2005)."
   ]
  },
  {
   "cell_type": "markdown",
   "id": "02105431",
   "metadata": {
    "slideshow": {
     "slide_type": "slide"
    }
   },
   "source": [
    "> A narrative on the other hand, is a spoken or written account of events as they unfolded over time. It has the form of a story or chronicle. \n",
    "\n",
    "> From a psychological perspective, narrative seems to be an important form through which people make sense of criminal evidence (c.f. Pennington and Hasties’ Story Model (1992) and Wagenaar and Crombags’ Anchored Narrative Theory (Wagenaar, van Koppen & Crombag, 1993)."
   ]
  },
  {
   "cell_type": "markdown",
   "id": "9a929c68",
   "metadata": {
    "slideshow": {
     "slide_type": "slide"
    }
   },
   "source": [
    "## What is a story?\n",
    "\n",
    "* stories communicate:\n",
    "    * metaphor/framing \n",
    "        * provides prioritiues\n",
    "    * moral/ethical concerns\n",
    "        * motivates caring\n",
    "* stories have:\n",
    "    * plot\n",
    "        * events on a timeline\n",
    "    * characters\n",
    "        * with virtues/vices\n",
    "    * emotional structure: tension/release\n",
    "        * plot arcs: climax/denoument\n",
    "        * character arcs: challenge/triumph\n",
    "    * framing\n",
    "        * core metahpors\n",
    "        * authorial perspective"
   ]
  },
  {
   "cell_type": "markdown",
   "id": "153875c3",
   "metadata": {
    "slideshow": {
     "slide_type": "slide"
    }
   },
   "source": [
    "\n",
    "<img src=\"https://balagan.info/wp-content/uploads/Balagan-3-Act-Story-Structure.png\" width=600px/>"
   ]
  },
  {
   "cell_type": "markdown",
   "id": "ebf962f4",
   "metadata": {
    "slideshow": {
     "slide_type": "slide"
    }
   },
   "source": [
    "<img src=\"https://d2ybmm5cpznb3i.cloudfront.net/wp-content/uploads/2018/07/Rick-and-Morty-Story-Wheel-Annotated.jpg\" width=500px />"
   ]
  },
  {
   "cell_type": "markdown",
   "id": "0065f5aa",
   "metadata": {
    "slideshow": {
     "slide_type": "slide"
    }
   },
   "source": [
    "## Why are data projects presented as stories?\n",
    "* a story is the simplest *universal* communication paradigm\n",
    "\n",
    "* if something can be presented as a story, it is more likely to be universally understood \n",
    "\n",
    "* stories are mostly about building trust and encouraging action\n",
    "\n",
    "* stories (in my view) are NOT explanations!\n",
    "\n"
   ]
  },
  {
   "cell_type": "markdown",
   "id": "7c7ac68a",
   "metadata": {
    "slideshow": {
     "slide_type": "slide"
    }
   },
   "source": [
    "## What is Visual Science?"
   ]
  },
  {
   "cell_type": "markdown",
   "id": "523fcad8",
   "metadata": {
    "slideshow": {
     "slide_type": "slide"
    }
   },
   "source": [
    "<img src=\"images/vizsci1.png\" width=400px style=\"float: left\"/> "
   ]
  },
  {
   "cell_type": "markdown",
   "id": "3c0b4660",
   "metadata": {
    "slideshow": {
     "slide_type": "slide"
    }
   },
   "source": [
    "<img src=\"images/vizsci2.png\" width=400px style=\"float: left\"/>"
   ]
  },
  {
   "cell_type": "markdown",
   "id": "0c8c5ca8",
   "metadata": {
    "slideshow": {
     "slide_type": "slide"
    }
   },
   "source": [
    "## How do you create good visuals?"
   ]
  },
  {
   "cell_type": "code",
   "execution_count": 8,
   "id": "9dc1c436",
   "metadata": {
    "slideshow": {
     "slide_type": "fragment"
    }
   },
   "outputs": [],
   "source": [
    "import seaborn as sns\n",
    "\n",
    "d = sns.load_dataset('tips').astype({'size': 'category'})"
   ]
  },
  {
   "cell_type": "code",
   "execution_count": 9,
   "id": "2929cc2d",
   "metadata": {
    "slideshow": {
     "slide_type": "fragment"
    }
   },
   "outputs": [
    {
     "data": {
      "text/html": [
       "<div>\n",
       "<style scoped>\n",
       "    .dataframe tbody tr th:only-of-type {\n",
       "        vertical-align: middle;\n",
       "    }\n",
       "\n",
       "    .dataframe tbody tr th {\n",
       "        vertical-align: top;\n",
       "    }\n",
       "\n",
       "    .dataframe thead th {\n",
       "        text-align: right;\n",
       "    }\n",
       "</style>\n",
       "<table border=\"1\" class=\"dataframe\">\n",
       "  <thead>\n",
       "    <tr style=\"text-align: right;\">\n",
       "      <th></th>\n",
       "      <th>total_bill</th>\n",
       "      <th>tip</th>\n",
       "      <th>sex</th>\n",
       "      <th>smoker</th>\n",
       "      <th>day</th>\n",
       "      <th>time</th>\n",
       "      <th>size</th>\n",
       "    </tr>\n",
       "  </thead>\n",
       "  <tbody>\n",
       "    <tr>\n",
       "      <th>191</th>\n",
       "      <td>19.81</td>\n",
       "      <td>4.19</td>\n",
       "      <td>Female</td>\n",
       "      <td>Yes</td>\n",
       "      <td>Thur</td>\n",
       "      <td>Lunch</td>\n",
       "      <td>2</td>\n",
       "    </tr>\n",
       "    <tr>\n",
       "      <th>172</th>\n",
       "      <td>7.25</td>\n",
       "      <td>5.15</td>\n",
       "      <td>Male</td>\n",
       "      <td>Yes</td>\n",
       "      <td>Sun</td>\n",
       "      <td>Dinner</td>\n",
       "      <td>2</td>\n",
       "    </tr>\n",
       "    <tr>\n",
       "      <th>226</th>\n",
       "      <td>10.09</td>\n",
       "      <td>2.00</td>\n",
       "      <td>Female</td>\n",
       "      <td>Yes</td>\n",
       "      <td>Fri</td>\n",
       "      <td>Lunch</td>\n",
       "      <td>2</td>\n",
       "    </tr>\n",
       "  </tbody>\n",
       "</table>\n",
       "</div>"
      ],
      "text/plain": [
       "     total_bill   tip     sex smoker   day    time size\n",
       "191       19.81  4.19  Female    Yes  Thur   Lunch    2\n",
       "172        7.25  5.15    Male    Yes   Sun  Dinner    2\n",
       "226       10.09  2.00  Female    Yes   Fri   Lunch    2"
      ]
     },
     "execution_count": 9,
     "metadata": {},
     "output_type": "execute_result"
    }
   ],
   "source": [
    "d.sample(3)"
   ]
  },
  {
   "cell_type": "code",
   "execution_count": 10,
   "id": "066b7f50",
   "metadata": {
    "slideshow": {
     "slide_type": "skip"
    }
   },
   "outputs": [],
   "source": [
    "import matplotlib.pyplot as plt "
   ]
  },
  {
   "cell_type": "code",
   "execution_count": 25,
   "id": "a12fc555",
   "metadata": {
    "scrolled": true,
    "slideshow": {
     "slide_type": "slide"
    }
   },
   "outputs": [
    {
     "data": {
      "image/png": "[encoded data removed]",
      "text/plain": [
       "<Figure size 1080x360 with 2 Axes>"
      ]
     },
     "metadata": {
      "needs_background": "light"
     },
     "output_type": "display_data"
    }
   ],
   "source": [
    "fig, ax =plt.subplots(1, 2, figsize=(15,5))\n",
    "\n",
    "sns.scatterplot(x=d['total_bill'], y=d['tip'], hue=d['size'], ax=ax[0])\n",
    "sns.scatterplot(x=d['total_bill'], y=d['tip'], size=d['size'].astype(float)**4, ax=ax[1]);"
   ]
  },
  {
   "cell_type": "code",
   "execution_count": 41,
   "id": "fedce61e",
   "metadata": {
    "slideshow": {
     "slide_type": "slide"
    }
   },
   "outputs": [
    {
     "data": {
      "image/png": "[encoded data removed]",
      "text/plain": [
       "<Figure size 432x288 with 1 Axes>"
      ]
     },
     "metadata": {
      "needs_background": "light"
     },
     "output_type": "display_data"
    }
   ],
   "source": [
    "\n",
    "sns.scatterplot(\n",
    "    x=d['total_bill'], y=d['tip'], hue=d['size'].astype(float), size=d['size'].astype(float)**4,\n",
    "    palette=\"viridis\"\n",
    ").legend_.remove()"
   ]
  },
  {
   "cell_type": "markdown",
   "id": "a031bb4c",
   "metadata": {
    "slideshow": {
     "slide_type": "slide"
    }
   },
   "source": [
    "## DEMO: Ted Talk"
   ]
  },
  {
   "cell_type": "markdown",
   "id": "00526f61",
   "metadata": {
    "slideshow": {
     "slide_type": "slide"
    }
   },
   "source": [
    "## Group Project: Write a Data Story (30 min)\n",
    "* Group Project: Produce a powerpoint to argue for a new strategy"
   ]
  },
  {
   "cell_type": "markdown",
   "id": "5fcf3ac3",
   "metadata": {
    "slideshow": {
     "slide_type": "slide"
    }
   },
   "source": [
    "### Eg.\n",
    "\n",
    "Two roosters fought for supremacy in the farmyard. \n",
    "\n",
    "Finally one was defeated and he went and hid himself in a corner of the hen-house. \n",
    "\n",
    "The victor flew up to the roof of the barn and begin to crow, “I’ve won, I’ve won!\" \n",
    "\n",
    "An eagle swooped down and carried him away.\n",
    "\n",
    "The rooster that had been defeated suddenly found himself the master of the farmyard. "
   ]
  },
  {
   "cell_type": "markdown",
   "id": "5f869c34",
   "metadata": {
    "slideshow": {
     "slide_type": "slide"
    }
   },
   "source": [
    "### Background \"Implied\" Message\n",
    "* Who is the audience?\n",
    "* What is your message for them?\n",
    "* Where does the story take place?\n",
    "* What team, company, project environment?"
   ]
  },
  {
   "cell_type": "markdown",
   "id": "92e32f3b",
   "metadata": {
    "slideshow": {
     "slide_type": "slide"
    }
   },
   "source": [
    "### Possibly Explicit Components\n",
    "* What is the inciting incident?\n",
    "* Why did the project begin? (What failed, changed, was uncertain?)\n",
    "* Who are the characters?\n",
    "* Who is the protagonist? (Who will be the key character we follow?)\n",
    "* Who is the antagonist? (Were you trying to prove the competition wrong?)\n",
    "* What are the complicating factors?\n",
    "* What is the climax?\n",
    "* What is the memorable event of the project?\n",
    "* How was the conflict/challenge settled? \n",
    "* What lessons have been learnt?"
   ]
  },
  {
   "cell_type": "markdown",
   "id": "f80cb029",
   "metadata": {
    "slideshow": {
     "slide_type": "slide"
    }
   },
   "source": [
    "### Tips\n",
    "* Review the 3-act structure and Dan Harmon's story-circle\n",
    "* The story circle approach works well for TV shows which require protagonists to be in the same situation at the beginning of each episode\n",
    "* Stories that attempt to provoke action (almost always) use outrage\n",
    "    * outrage = the world *should be* like X, but *it isnt* and the *reason* is character fault\n",
    "    * eg., we were naive to think X, X caused a lot of problem, therefore we should do Y\n",
    "    * eg., the PM's pride in the UK has lead to blindness about risks from X, ..."
   ]
  },
  {
   "cell_type": "markdown",
   "id": "95b3f4d4",
   "metadata": {
    "slideshow": {
     "slide_type": "slide"
    }
   },
   "source": [
    "## TED Links\n",
    "\n",
    "Watch the following ted talks\n",
    "* https://www.youtube.com/watch?v=eIho2S0ZahI\n",
    "* https://www.youtube.com/watch?v=6Af6b_wyiwI"
   ]
  }
 ],
 "metadata": {
  "celltoolbar": "Slideshow",
  "kernelspec": {
   "display_name": "Python 3",
   "language": "python",
   "name": "python3"
  },
  "language_info": {
   "codemirror_mode": {
    "name": "ipython",
    "version": 3
   },
   "file_extension": ".py",
   "mimetype": "text/x-python",
   "name": "python",
   "nbconvert_exporter": "python",
   "pygments_lexer": "ipython3",
   "version": "3.8.3"
  }
 },
 "nbformat": 4,
 "nbformat_minor": 5
}

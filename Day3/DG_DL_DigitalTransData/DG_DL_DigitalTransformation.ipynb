{
 "cells": [
  {
   "cell_type": "markdown",
   "id": "04500c11",
   "metadata": {
    "slideshow": {
     "slide_type": "slide"
    }
   },
   "source": [
    "# Fundamental Concepts in Data Insight: \n",
    "## <font color=indigo> Digital Transformation &amp; Data Insight </font>\n",
    "\n",
    "### Fundamentals for a General Audience\n",
    "\n",
    "---"
   ]
  },
  {
   "cell_type": "markdown",
   "id": "fd7ba8ed",
   "metadata": {
    "slideshow": {
     "slide_type": "slide"
    }
   },
   "source": [
    "QA Ltd. owns the copyright and other intellectual property rights of this material and asserts its moral rights as the author. All rights reserved."
   ]
  },
  {
   "cell_type": "markdown",
   "id": "099d6e3b",
   "metadata": {
    "slideshow": {
     "slide_type": "slide"
    }
   },
   "source": [
    "### **Digital Transformation &amp; Data Insight**\n",
    "* Overview\n",
    "    * WB. What have we covered so far?\n",
    "    * Reflection: The topics so far\n",
    "* Data Insight Rewards & Risks\n",
    "    * What are the barriers to adopting insight practices?\n",
    "    * What are the strategic advantages from data insight?\n",
    "    * What are the risks of data insight projects?\n",
    "    * When will data insight be rewarding?\n",
    "* Group: Data & Digital Transformation\n",
    "    * WB. Risks & Rewards\n",
    "    * What are the organizational components of an insight culture?\n",
    "    * WB. The Organizational Structure for Digital Transformation\n",
    "* Data Insight Organizational Questions\n",
    "    * What is a data democracy?\n",
    "    * What do workers want from a data democracy?\n",
    "* Reflection: How do you implement a digital transformation?\n",
    "    * Roundtable\n",
    "        * WB. Roundtable\n",
    "* Case Study: When will data insight help?\n"
   ]
  },
  {
   "cell_type": "markdown",
   "id": "132943f5",
   "metadata": {
    "slideshow": {
     "slide_type": "slide"
    }
   },
   "source": [
    "## WB. What have we covered so far?"
   ]
  },
  {
   "cell_type": "markdown",
   "id": "7eabdeb3",
   "metadata": {
    "slideshow": {
     "slide_type": "slide"
    }
   },
   "source": [
    "## WB. What have we covered so far?"
   ]
  },
  {
   "cell_type": "markdown",
   "id": "39331ca4",
   "metadata": {
    "slideshow": {
     "slide_type": "slide"
    }
   },
   "source": [
    "## Reflection: The topics so far\n",
    "* data science & analysis\n",
    "* artificial intelligence & machine learning\n",
    "* big data \n",
    "* programming & automation\n",
    "* data skills & mindsets\n",
    "* data culture & organizational challenges\n",
    "* deployment challenges & the cloud\n",
    "* risks, rewards & challenges"
   ]
  },
  {
   "cell_type": "markdown",
   "id": "92975541",
   "metadata": {
    "slideshow": {
     "slide_type": "slide"
    }
   },
   "source": [
    "## What are the barriers to adopting insight practices?\n",
    "\n",
    "* technical\n",
    "    * data preceeds insight\n",
    "* cultural\n",
    "    * evidence-based decision-making\n",
    "* organizational\n",
    "    * silos, gate-keeping, ...\n",
    "* techno-organizational\n",
    "    * democratising data access\n",
    "* legal & ethical\n",
    "    * GDPR, law\n",
    "    * ethical data collection\n",
    "    "
   ]
  },
  {
   "cell_type": "markdown",
   "id": "6ed10a7e",
   "metadata": {},
   "source": [
    "\n",
    "## What are the strategic advantages from data insight?\n",
    "* competitors\n",
    "* pivoting\n",
    "* early-warning\n",
    "* products \n",
    "* \"implicit competitors\"\n",
    "    * criminals\n",
    "    * climate change\n",
    "    * ...\n",
    "* data as a store of value\n",
    "    * opens up future possibilities\n",
    "    * market/environment changes are unpredictable\n",
    "        * data is moat\n",
    "        "
   ]
  },
  {
   "cell_type": "markdown",
   "id": "9be69acf",
   "metadata": {
    "slideshow": {
     "slide_type": "slide"
    }
   },
   "source": [
    "    \n",
    "## What are the risks of data insight projects?\n",
    "\n",
    "* ROI is hard\n",
    "* data systems need to be in place (complex, expensive,...)\n",
    "* technical culture (data democracy)\n",
    "* expect 8/10 projects to fail to deliver ROI\n",
    "* experimentation required -> software adaption "
   ]
  },
  {
   "cell_type": "markdown",
   "id": "b9bb3073",
   "metadata": {
    "slideshow": {
     "slide_type": "slide"
    }
   },
   "source": [
    "## When will data insight be rewarding?\n",
    "* automation/software rewards clear... \n",
    "\n",
    "* for strategy, insight small pc of decision-making\n",
    "\n",
    "* human decision making likely already high quality\n",
    "\n",
    "* ROI when = small pc * high value of pc \n",
    "    * optimizing \"last few percent\" of decision making which has vhigh value \n",
    "\n",
    "* speculative methods still likely necessary in many cases \n",
    "    * (lack of data, lack of measurables, many open problems)\n",
    "    \n",
    "    "
   ]
  },
  {
   "cell_type": "markdown",
   "id": "52c71740",
   "metadata": {
    "slideshow": {
     "slide_type": "slide"
    }
   },
   "source": [
    "## Group: Data & Digital Transformation\n",
    "\n",
    "* Why is Data important?\n",
    "    * evidence-based reasoning\n",
    "    * strategic advantages\n",
    "    * organizational objectives\n",
    "* What are the risks from data insight?\n",
    "    * Project/ROI\n",
    "    * Legal/Ethical\n",
    "    * Organizational\n",
    "* How do you account for these risks?"
   ]
  },
  {
   "cell_type": "markdown",
   "id": "fe9cc597",
   "metadata": {
    "slideshow": {
     "slide_type": "slide"
    }
   },
   "source": [
    "## WB. Risks & Rewards"
   ]
  },
  {
   "cell_type": "markdown",
   "id": "da7bb778",
   "metadata": {
    "slideshow": {
     "slide_type": "slide"
    }
   },
   "source": [
    "## What are the organizational components of an insight culture?\n",
    "* data democracy\n",
    "* proactivity & scpeticism\n",
    "    * experiment, fail-fast or fail-well\n",
    "    * prototyping\n",
    "* accountability\n",
    "* experimental culture"
   ]
  },
  {
   "cell_type": "markdown",
   "id": "48d2f19d",
   "metadata": {
    "slideshow": {
     "slide_type": "slide"
    }
   },
   "source": [
    "## WB. The Organizational Structure for Digital Transformation"
   ]
  },
  {
   "cell_type": "markdown",
   "id": "4ef4855a",
   "metadata": {
    "slideshow": {
     "slide_type": "slide"
    }
   },
   "source": [
    "## WB. The Organizational Structure for Digital Transformation"
   ]
  },
  {
   "cell_type": "markdown",
   "id": "40e636e2",
   "metadata": {
    "slideshow": {
     "slide_type": "slide"
    }
   },
   "source": [
    "## What is a data democracy?\n",
    "* elite access to data vs. democratic access\n",
    "* specialist-only vs. all roles\n",
    "* self-serve vs. silo'd "
   ]
  },
  {
   "cell_type": "markdown",
   "id": "b25df560",
   "metadata": {
    "slideshow": {
     "slide_type": "slide"
    }
   },
   "source": [
    "## What do workers want from a data democracy?\n",
    "* managers and executives\n",
    "    * self-service app\n",
    "    * visuals and charts\n",
    "    * point-and-click\n",
    "* front-line workers (police, call centre, retail staff)\n",
    "    * data insight naturally integrated to functional apps\n",
    "    * eg., call centre dashboard displays customer details & history\n",
    "    * eg., police search dashboards displays relevant local predictive crime statistics\n",
    "* data analysts & scientists\n",
    "    * business intelligence platforms\n",
    "    * cloud querying interfaces\n",
    "    * visualization tools\n",
    "    * notebooks\n",
    "    "
   ]
  },
  {
   "cell_type": "markdown",
   "id": "cd6223c8",
   "metadata": {
    "slideshow": {
     "slide_type": "slide"
    }
   },
   "source": [
    "## Roundtable\n",
    "* What are the organizational risks? \n",
    "* How do you mitigate the organizational risks?\n",
    "* What mindsets and roles does a digital transformation require?\n",
    "* What cultural shift does a digital transformation require?\n",
    "* How do you implementation a digital transformation?"
   ]
  },
  {
   "cell_type": "markdown",
   "id": "fa7ed301",
   "metadata": {
    "slideshow": {
     "slide_type": "slide"
    }
   },
   "source": [
    "## WB. Roundtable"
   ]
  },
  {
   "cell_type": "markdown",
   "id": "37c6c7f0",
   "metadata": {
    "slideshow": {
     "slide_type": "slide"
    }
   },
   "source": [
    "## WB. Roundtable"
   ]
  },
  {
   "cell_type": "markdown",
   "id": "a69b385e",
   "metadata": {
    "slideshow": {
     "slide_type": "slide"
    }
   },
   "source": [
    "## Reflection: How do you implement a digital transformation?"
   ]
  },
  {
   "cell_type": "markdown",
   "id": "345f0c73",
   "metadata": {
    "slideshow": {
     "slide_type": "slide"
    }
   },
   "source": [
    "## Reflection\n",
    "* The Importance of Data\n",
    "* Strategic Advantages from Data Science &  Big Data\n",
    "* Group Roundtable: Organizational Risks & Challenges\n",
    "    * Leadership & Culture\n",
    "        * Data Citizens, Dreamers, Doubters\n",
    "    * Infrastructure"
   ]
  },
  {
   "cell_type": "markdown",
   "id": "6eeabfae",
   "metadata": {
    "slideshow": {
     "slide_type": "slide"
    }
   },
   "source": [
    "## Case Study: When will data insight help?\n",
    "\n",
    "* Local Policing -- what areas should police focus on?\n",
    "    * high-quality decisions likely exist but quite delayed by human operation\n",
    "* can we accelerate singals of novel crime occurances / changes?\n",
    "    * clustering on crimes...\n",
    "* what data systems do we need? \n",
    "* how long will it take to build? what's the ROI?\n",
    "    * potentially high if many systems exist..."
   ]
  }
 ],
 "metadata": {
  "celltoolbar": "Slideshow",
  "kernelspec": {
   "display_name": "Python 3",
   "language": "python",
   "name": "python3"
  },
  "language_info": {
   "codemirror_mode": {
    "name": "ipython",
    "version": 3
   },
   "file_extension": ".py",
   "mimetype": "text/x-python",
   "name": "python",
   "nbconvert_exporter": "python",
   "pygments_lexer": "ipython3",
   "version": "3.8.3"
  }
 },
 "nbformat": 4,
 "nbformat_minor": 5
}

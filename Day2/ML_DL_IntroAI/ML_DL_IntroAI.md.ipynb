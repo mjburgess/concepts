{
 "cells": [
  {
   "cell_type": "markdown",
   "id": "c1dabc16",
   "metadata": {
    "slideshow": {
     "slide_type": "slide"
    }
   },
   "source": [
    "# Fundamental Concepts in Data Insight: \n",
    "## <font color=indigo> Introduction to Artifical Intelligence </font>\n",
    "\n",
    "### Fundamentals for a General Audience\n",
    "\n",
    "---"
   ]
  },
  {
   "cell_type": "markdown",
   "id": "3205d19f",
   "metadata": {
    "slideshow": {
     "slide_type": "slide"
    }
   },
   "source": [
    "QA Ltd. owns the copyright and other intellectual property rights of this material and asserts its moral rights as the author. All rights reserved."
   ]
  },
  {
   "cell_type": "markdown",
   "id": "1d841bd0",
   "metadata": {
    "slideshow": {
     "slide_type": "slide"
    }
   },
   "source": [
    "## What is AI?\n",
    "* A Term\n",
    "    * A Marketing Term\n",
    "    * A Research Project\n",
    "    * A System\n",
    "\n",
    "* Artifical Intelligence\n",
    "    * Automation\n",
    "    * Augmentation\n",
    "        * def., ?, reinforcing what we have... \n",
    "        * def., building upon active human intelligence\n",
    "            * dr using a diganostic system\n",
    "    * Assistance\n",
    "        * def., ?\n",
    "\n"
   ]
  },
  {
   "cell_type": "markdown",
   "id": "00f9f540",
   "metadata": {
    "slideshow": {
     "slide_type": "slide"
    }
   },
   "source": [
    "### **Introduction to Artifical Intelligence**\n",
    "* What is AI?\n",
    "    * WB. What is Automation, Augmentation, Assistance...\n",
    "    * WB. What is AI? Weak vs. Strong\n",
    "    * WB. What is Weak AI?\n",
    "    * WB. What is Strong AI?\n",
    "    * WB. What Weak Systems exist?\n",
    "    * WB. How have weak systems developed?\n",
    "    * Review: Weak AI, Strong AI\n",
    "    * Review: When did \"AI\" start?\n",
    "    * Review: What are symbolic AI systems?\n",
    "    * Review: What are statistical AI systems?\n",
    "    * Review: What is the value of AI?\n",
    "* Individual Project:  (10 min)\n",
    "* Group Project (20 min)\n",
    "    * WB. Review: AI Adoption\n",
    "    * WB. Review: AI Barriers\n",
    "    "
   ]
  },
  {
   "cell_type": "markdown",
   "id": "f7c6f2c4",
   "metadata": {
    "slideshow": {
     "slide_type": "slide"
    }
   },
   "source": [
    "* Reflection\n",
    "    * What are the challenges to AI adoption?\n",
    "    * What is Weak vs. Strong AI?\n",
    "    * What is Narrow Intelligence?\n",
    "    * What is General Intelligence?\n",
    "    * Is General Intelligence a form of Narrow Intelligence?\n",
    "    * Saftey\n",
    "        * How do we improve the safety of ML?\n",
    "        * What does intelligence?\n",
    "    * Robotics"
   ]
  },
  {
   "cell_type": "markdown",
   "id": "7cc4808b",
   "metadata": {
    "slideshow": {
     "slide_type": "slide"
    }
   },
   "source": [
    "## WB. What is AI? Automation, Augmentation, Assistance..."
   ]
  },
  {
   "cell_type": "markdown",
   "id": "1bede34f",
   "metadata": {
    "slideshow": {
     "slide_type": "slide"
    }
   },
   "source": [
    "## WB. What is AI? Weak vs. Strong"
   ]
  },
  {
   "cell_type": "markdown",
   "id": "06ed7796",
   "metadata": {
    "slideshow": {
     "slide_type": "slide"
    }
   },
   "source": [
    "## WB. What is Weak AI?"
   ]
  },
  {
   "cell_type": "markdown",
   "id": "193b6007",
   "metadata": {
    "slideshow": {
     "slide_type": "slide"
    }
   },
   "source": [
    "## WB. What is Strong AI?"
   ]
  },
  {
   "cell_type": "markdown",
   "id": "e2527b43",
   "metadata": {
    "slideshow": {
     "slide_type": "slide"
    }
   },
   "source": [
    "## WB. What Weak Systems exist?"
   ]
  },
  {
   "cell_type": "markdown",
   "id": "1bafa635",
   "metadata": {
    "slideshow": {
     "slide_type": "slide"
    }
   },
   "source": [
    "## WB. How have weak systems developed?"
   ]
  },
  {
   "cell_type": "markdown",
   "id": "f39e1c6a",
   "metadata": {
    "slideshow": {
     "slide_type": "slide"
    }
   },
   "source": [
    "## Review: Weak AI: <font color=gray>*Automation*</font>\n",
    "\n",
    "* Symbolic AI: <font color=gray>*Programming*</font>\n",
    "* **Machine Learning**: <font color=gray>*Statistical Programs*</font>\n",
    "    * Supervised Learning: <font color=gray>*History: (Observables X, Unobservables Y)*</font>\n",
    "        * **Regression**: <font color=gray>*Y is a Quantity*</font>\n",
    "            * Linear Regression: <font color=gray>*y = f(x) is a straight line*</font>\n",
    "            * ...\n",
    "        * **Classification**: <font color=gray>*Y is a Category*</font>\n",
    "            * Decision Tree: <font color=gray>*y = f(x) is a series of splits*</font>\n",
    "    * Unsupervised: <font color=gray>*History: (Observables X, ...)*</font>\n",
    "        * **Clustering**: <font color=gray>*X -> {GroupA, GroupB, ...}*</font>\n",
    "            * k-Means \n",
    "        * Compression: <font color=gray>*Big X -> Small X st. keep information*</font>\n",
    "            * PCA\n",
    "        * Descriptive Statistics: <font color=gray>*Summarising Data*</font>\n",
    "            * eg., Mean\n",
    "            \n",
    "            "
   ]
  },
  {
   "cell_type": "markdown",
   "id": "4bde3982",
   "metadata": {
    "slideshow": {
     "slide_type": "slide"
    }
   },
   "source": [
    "## Review: Strong AI: <font color=gray>*Open Exploration*</font>\n",
    "* imagation, curiosity, acting within environment, acting upon environment, \n",
    "* internal motivation system (\"emotion\", obligation, ...),\n",
    "* body (motor system, ...)"
   ]
  },
  {
   "cell_type": "markdown",
   "id": "7e420112",
   "metadata": {
    "slideshow": {
     "slide_type": "slide"
    }
   },
   "source": [
    "## Review: When did \"AI\" start?\n",
    "* anchient superstition that humans are more than biological animal organisms\n",
    "\n",
    "* 50s logic programming\n",
    "* 80s expert systems\n",
    "* 00s machine learning\n",
    "* 10s deep learning"
   ]
  },
  {
   "cell_type": "markdown",
   "id": "9a379d4a",
   "metadata": {
    "slideshow": {
     "slide_type": "slide"
    }
   },
   "source": [
    "## Review: What are symbolic AI systems?\n",
    "* programming\n",
    "* formal reasoning \n",
    "* discrete constraints"
   ]
  },
  {
   "cell_type": "markdown",
   "id": "ae8b1554",
   "metadata": {
    "slideshow": {
     "slide_type": "slide"
    }
   },
   "source": [
    "## Review: What are statistical AI systems?\n",
    "* machine learning\n",
    "* approximate reasoning\n",
    "* interpolation"
   ]
  },
  {
   "cell_type": "markdown",
   "id": "a5a9b6f4",
   "metadata": {
    "slideshow": {
     "slide_type": "slide"
    }
   },
   "source": [
    "## Review: What is the value of AI?\n",
    "* What is automation?\n",
    "    * systems which replace or assit human operators \n",
    "        * eg., the loom, car building robots, ...\n",
    "* What is the value in AI?\n",
    "    * **automating** insight \n",
    "* Is there anything new?\n",
    "    * AI as a product suit\n",
    "    * AI as technique\n",
    "    * AI as data"
   ]
  },
  {
   "cell_type": "markdown",
   "id": "46c75597",
   "metadata": {
    "slideshow": {
     "slide_type": "slide"
    }
   },
   "source": [
    "## Individual Project:  (10 min)\n",
    "* cloud services\n",
    "\n",
    "## Group Project (20 min)\n",
    "\n",
    "* How can organizations adopt AI?\n",
    "* What are the advantages of using AI?\n",
    "* What external (political, public) barriers exist to deploying AI?"
   ]
  },
  {
   "cell_type": "markdown",
   "id": "e7188819",
   "metadata": {
    "slideshow": {
     "slide_type": "slide"
    }
   },
   "source": [
    "## WB. Review: AI Adoption"
   ]
  },
  {
   "cell_type": "markdown",
   "id": "7b257e45",
   "metadata": {
    "slideshow": {
     "slide_type": "slide"
    }
   },
   "source": [
    "## WB. Review: AI Barriers"
   ]
  },
  {
   "cell_type": "markdown",
   "id": "67fe1566",
   "metadata": {
    "slideshow": {
     "slide_type": "slide"
    }
   },
   "source": [
    "## Reflection\n",
    "* History of AI\n",
    "    * Logic & Expert Systems\n",
    "    * Machine & Deep Learning\n",
    "* Limitations & Opportunities\n",
    "    * Weak vs. Strong AI\n",
    "    * Statistical Learning vs. Reasoning\n",
    "* AI as a Buisness Strategy\n",
    "    * Strategic Advantages\n",
    "    * Organizational Challenges\n",
    "* Individual Project: "
   ]
  },
  {
   "cell_type": "markdown",
   "id": "5a276486",
   "metadata": {
    "slideshow": {
     "slide_type": "slide"
    }
   },
   "source": [
    "## Appendix"
   ]
  },
  {
   "cell_type": "markdown",
   "id": "044fbfac",
   "metadata": {
    "slideshow": {
     "slide_type": "slide"
    }
   },
   "source": [
    "## What are the challenges to AI adoption?\n",
    "\n",
    "Businesses can derive value from Weak AI (, Machine Learning) in the same ways they derive value from any type of automation. In the Machine Learning case we are automating analytical tasks which can then be performed at-scale or, otherwise, in situations which humans would find challenging.\n",
    "\n",
    "However the quality of this automation is highly sensitive to the historical data available, and even when perfectly matched, typically produces lower quality decisions than humans would make. The advantages of ML is are the same of automation, and it is not an effective strategy at replacing humans when high-quality decision making is required (eg., especially, for safety). Here ML can assist human decision makers, but as merely “repeating history” it cannot wonder about alternative possibilities which is natural and essential to human prediction and reasoning (, …and safety). "
   ]
  },
  {
   "cell_type": "markdown",
   "id": "2c111928",
   "metadata": {
    "slideshow": {
     "slide_type": "fragment"
    }
   },
   "source": [
    "## What is Weak vs. Strong AI?\n",
    "Weak Artificial Intelligence is, essentially, automation. It is any system which can behave as-if human on highly specialised problems, which in humans, require intelligence. An electronic door arm automates the process of opening a door, and indeed, opening a door in humans requires many faculties of intelligence (perception, coordination, reasoning, etc.). \n",
    "\n",
    "Strong Artificial Intelligence is, essentially, building a person. It is any system which can behave as-if human on general problems, which in humans, require intelligence. No such systems exist."
   ]
  },
  {
   "cell_type": "markdown",
   "id": "faf7e3b3",
   "metadata": {
    "slideshow": {
     "slide_type": "slide"
    }
   },
   "source": [
    "## What is Narrow Intelligence?\n",
    "The difference is between “specialised” and “general” problems, which may seem connected, but are radically different. \n",
    "\n",
    "In the specialised case, for the problem, we have: clearly defined success criteria, relevant variables established and measured, and a reliable mechanism to realise success. "
   ]
  },
  {
   "cell_type": "markdown",
   "id": "64261425",
   "metadata": {
    "slideshow": {
     "slide_type": "slide"
    }
   },
   "source": [
    "## What is General Intelligence?\n",
    "In the general case, we have none of that. We do not know what success looks like, we aren’t sure what to measure, we haven’t measured it, and we don’t even know what techniques will be reliable. "
   ]
  },
  {
   "cell_type": "markdown",
   "id": "0b3ef9eb",
   "metadata": {
    "slideshow": {
     "slide_type": "slide"
    }
   },
   "source": [
    "## Is General Intelligence a form of Narrow Intelligence?\n",
    "\n",
    "General problems are extremely common. Consider an infant walking into a room they have never been in: within an hour they are an expert. They know what all the buttons do, where everything is, and so on. After that hour, they can solve any specific problem. \n",
    "\n",
    "But they were not solving a specific problem in order to get there. Rather they were using imagination (what would happen if?), direct sensory-motor action on the environment (hand-eye coordination in pressing buttons and observing effects), and were driven by emotions rather than problem-specific goals (curiosity, boredom, excitement, etc.). \n",
    "\n",
    "It is highly likely such capabilities are necessary in the development of general intelligence, but do not exist today and are not part of any AI system. "
   ]
  },
  {
   "cell_type": "markdown",
   "id": "080a5c95",
   "metadata": {
    "slideshow": {
     "slide_type": "slide"
    }
   },
   "source": [
    "## Saftey"
   ]
  },
  {
   "cell_type": "markdown",
   "id": "f45db1c0",
   "metadata": {
    "slideshow": {
     "slide_type": "fragment"
    }
   },
   "source": [
    "#### How do we improve the safety of ML?\n",
    " \n",
    "* ensure, by human inspection & control, the environment has no potential faults\n",
    "* explicitly program control system (non-ML control systems)\n",
    "* the datasets observe events which are *identical in kind* to the events likely to occur\n",
    "* include a human operator to review decisions\n",
    "* BEST CASE:\n",
    "    * use system where approximate and even wrong answers are OK"
   ]
  },
  {
   "cell_type": "markdown",
   "id": "49fd7d36",
   "metadata": {
    "slideshow": {
     "slide_type": "slide"
    }
   },
   "source": [
    "### What does intelligence?\n",
    "* causal reasoning\n",
    "    * what are the concequence of my actions?\n",
    "    * what specific effect does a specific action have?\n",
    "* counterfactual reasoning\n",
    "    * a human being considers possibilities\n",
    "        * what would happen if the oven were turned on?\n",
    "        * what would happen if I ignored the order?\n",
    "        * what would happen if I made a mistake?\n",
    "        * what was the intention behind the order?\n",
    "    * vs., y  = f(x) = ..\n",
    "    * if y > 0.5, turn oven on, else off\n",
    "* generalised interaction capacities\n",
    "    * machines have highly restricted input/output boundaries\n",
    "        * keyboard, etc.\n",
    "    * a person may have to:\n",
    "        * look at the oven\n",
    "        * look around the kitchen\n",
    "        * shout to the commander\n",
    "        * warn people around the oven\n",
    "        * ...pick up knife (maybe its in the over)\n",
    "* self reflection\n",
    "    * if i fail to turn the oven on, why was that?\n",
    "    * let me try again, with the relevant change\n",
    "    * does that work etc.\n",
    "\n"
   ]
  },
  {
   "cell_type": "markdown",
   "id": "c1680916",
   "metadata": {
    "slideshow": {
     "slide_type": "slide"
    }
   },
   "source": [
    "##  Robotics\n",
    "Robotics is the field of artificial intelligence which properly (and correctly) regards intelligence as an engineering challenge. Systems which can behave as-if human need to be able to: explore and adapt environments, reason about them as they change, adapt their bodies to use new tools, and engage in hand-eye coordination (sensory-motor activity) as all this happens. \n",
    "\n",
    "There are two primary approaches to building robots which can solve specialized problems, rather than that of general intelligence above. "
   ]
  },
  {
   "cell_type": "markdown",
   "id": "9e49e1e1",
   "metadata": {
    "slideshow": {
     "slide_type": "slide"
    }
   },
   "source": [
    "The first is to design a robot with an extremely limited range of actions (eg., move left, right, …) which are taken for extremely simple reasons to do with external sensor simulation. Eg., consider an automated vacuum robot which navigates an environment just because its image sensor detects obstacles. It’s objective is to return to its starting position having walked along a given path using a sequence of simple actions and reactions. \n",
    "\n",
    "The second approach is to build, via programming, an internal representation of the environment into the robot itself: a complete picture of all relevant actions open to it in the environment (it’s 3D structure, behaviour and other such facets). This can be achieved in simple cases (eg., robots which build things) however it is dead end for natural open-environments which require an infinite amount of storage to accurately capture all their depth."
   ]
  },
  {
   "cell_type": "markdown",
   "id": "ea455dcf",
   "metadata": {
    "slideshow": {
     "slide_type": "slide"
    }
   },
   "source": [
    "A more general robot must blend action of the first type, alongside an ability to partially represent an environment. It likely that much of this work will be driven by engineering advances in devices: sensors, robotic arms which can be fully adaptive to arbitrary tool use, electronic eyes which can track objects and negotiate attention with other robots and animals (especially humans). \n",
    "\t\n",
    "As an emerging research discipline working in robotics typically requires a relevant graduate degree (MSc, PhD); or working within a business which has researchers to hand. \n",
    "\n",
    "An apparently related term “robotic process automation” does not use robots, rather it is a software approach to simulate (typically,) the keyboard and mouse behaviour of human operators. With RPA, software records human operates using computer devices and simulates this use with software that requires these types of interface (eg., custom internal user apps)."
   ]
  }
 ],
 "metadata": {
  "celltoolbar": "Slideshow",
  "kernelspec": {
   "display_name": "Python 3",
   "language": "python",
   "name": "python3"
  },
  "language_info": {
   "codemirror_mode": {
    "name": "ipython",
    "version": 3
   },
   "file_extension": ".py",
   "mimetype": "text/x-python",
   "name": "python",
   "nbconvert_exporter": "python",
   "pygments_lexer": "ipython3",
   "version": "3.8.3"
  }
 },
 "nbformat": 4,
 "nbformat_minor": 5
}

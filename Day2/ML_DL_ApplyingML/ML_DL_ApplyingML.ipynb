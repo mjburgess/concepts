{
 "cells": [
  {
   "cell_type": "markdown",
   "metadata": {
    "slideshow": {
     "slide_type": "slide"
    }
   },
   "source": [
    "# Fundamental Concepts in Data Insight: \n",
    "## <font color=indigo> Applying Machine Learning </font>\n",
    "\n",
    "### Fundamentals for a General Audience\n",
    "\n",
    "---"
   ]
  },
  {
   "cell_type": "markdown",
   "metadata": {
    "slideshow": {
     "slide_type": "slide"
    }
   },
   "source": [
    "QA Ltd. owns the copyright and other intellectual property rights of this material and asserts its moral rights as the author. All rights reserved."
   ]
  },
  {
   "cell_type": "markdown",
   "metadata": {
    "slideshow": {
     "slide_type": "slide"
    }
   },
   "source": [
    "\n",
    "### **Applying Machine Learning**\n",
    " * Review: What is AI?\n",
    " * What is Machine Learning?\n",
    "    * What can Machine Learning do?\n",
    "    * WB. The types of Machine Learning\n",
    "    * WB. How does Machine Learning work?\n",
    "    * WB. Regression\n",
    "    * WB. Classification\n",
    "    * WB. Clustering\n",
    "    * Demo: How do you create machine learning systems?\n",
    "    * Review: How does Machine Learning work?\n",
    " * When can Machine Learning add value?\n",
    "    * Demo: sklearn Classifier Comparison\n",
    " * What is Deep Learning?\n",
    "    * Where is the business value in Deep Learning?\n",
    "    * Deep Learning: What is Natural Language Processing?\n",
    "    * Deep Learning: What is Computer Vision?\n",
    "    * Demo: AI as a Service: How can you deploy Deep Learning?\n",
    " * Case Studies\n",
    "    * Case Studies: Supervised Learning\n",
    "        * Automated Facial Recognition\n",
    "        * Voice Identification\n",
    "    * Case Study: Forensic Unsupervised Learning \n",
    "    * Predictive Identification\n",
    "* Individual & Group Project"
   ]
  },
  {
   "cell_type": "markdown",
   "metadata": {
    "slideshow": {
     "slide_type": "slide"
    }
   },
   "source": [
    "## Review: What is AI?\n",
    "\n",
    "#### Weak AI: <font color=gray>*Automation*</font>\n",
    "* Symbolic AI: <font color=gray>*Programming*</font>\n",
    "* **<font color=red>Machine Learning</font>**: <font color=gray>*Statistical Programs*</font>\n",
    "    * Supervised Learning: <font color=gray>*History: (Observables X, Unobservables Y)*</font>\n",
    "        * **Regression**: <font color=gray>*Y is a Quantity*</font>\n",
    "            * Linear Regression: <font color=gray>*y = f(x) is a straight line*</font>\n",
    "            * ...\n",
    "        * **Classification**: <font color=gray>*Y is a Category*</font>\n",
    "            * Decision Tree: <font color=gray>*y = f(x) is a series of splits*</font>\n",
    "    * Unsupervised: <font color=gray>*History: (Observables X, ...)*</font>\n",
    "        * **Clustering**: <font color=gray>*X -> {GroupA, GroupB, ...}*</font>\n",
    "            * k-Means \n",
    "        * Compression: <font color=gray>*Big X -> Small X st. keep information*</font>\n",
    "            * PCA\n",
    "        * Descriptive Statistics: <font color=gray>*Summarising Data*</font>\n",
    "            * eg., Mean\n",
    "            "
   ]
  },
  {
   "cell_type": "markdown",
   "metadata": {
    "slideshow": {
     "slide_type": "slide"
    }
   },
   "source": [
    "## What is Machine Learning?\n",
    "* automated statistical inference\n",
    "    * automated = the system requires no active human supervision\n",
    "    * statistical = associative, non-explanatory\n",
    "    * inference = decisions/conclusions \n",
    "* supervised\n",
    "    * compute an unobservable from observables\n",
    "* unsupervised\n",
    "    * infer (non-obvious) patterns in observables"
   ]
  },
  {
   "cell_type": "markdown",
   "metadata": {
    "slideshow": {
     "slide_type": "slide"
    }
   },
   "source": [
    "## What can Machine Learning do?\n",
    "* Machine Learning is the leading technique in weak AI. \n",
    "\n",
    "* It the use of statistical associations in historical datasets \n",
    "    * to compute predictions for future occurrences \n",
    "    * (linear regression is a paradigm case of machine learning). \n",
    "\n",
    "* It is suitable when we have \n",
    "    * a very large amount of exactly-relevant data \n",
    "    * which is very likely to mirror the future. \n",
    "\n",
    "* In this case we don’t have to worry about\n",
    "    * the machine imagining “what if?” \n",
    "    * because we never expect the future to be uncertain in this respect. "
   ]
  },
  {
   "cell_type": "markdown",
   "metadata": {
    "slideshow": {
     "slide_type": "slide"
    }
   },
   "source": [
    "## WB. The types of Machine Learning"
   ]
  },
  {
   "cell_type": "markdown",
   "metadata": {},
   "source": [
    "## WB. How does Machine Learning work?"
   ]
  },
  {
   "cell_type": "markdown",
   "metadata": {
    "slideshow": {
     "slide_type": "slide"
    }
   },
   "source": [
    "## WB. Regression"
   ]
  },
  {
   "cell_type": "markdown",
   "metadata": {
    "slideshow": {
     "slide_type": "slide"
    }
   },
   "source": [
    "## WB. Classification"
   ]
  },
  {
   "cell_type": "markdown",
   "metadata": {
    "slideshow": {
     "slide_type": "slide"
    }
   },
   "source": [
    "## WB. Clustering"
   ]
  },
  {
   "cell_type": "markdown",
   "metadata": {
    "slideshow": {
     "slide_type": "slide"
    }
   },
   "source": [
    "## Demo: How do you create machine learning systems?"
   ]
  },
  {
   "cell_type": "markdown",
   "metadata": {
    "slideshow": {
     "slide_type": "slide"
    }
   },
   "source": [
    "## Review: How does Machine Learning work?\n",
    "* Step 0. Get Data: Import -> Select -> Prepare Data\n",
    "* Step 1. Learning: Data -> Algorithm -> Model\n",
    "* Step 2. Inference: NewData -> Model -> Prediction "
   ]
  },
  {
   "cell_type": "markdown",
   "metadata": {
    "slideshow": {
     "slide_type": "slide"
    }
   },
   "source": [
    "## When can Machine Learning add value?\n",
    "* future looks like past\n",
    "* low-quality, automated, decision making\n",
    "* assiting human operators"
   ]
  },
  {
   "cell_type": "markdown",
   "metadata": {
    "slideshow": {
     "slide_type": "slide"
    }
   },
   "source": [
    "## Demo: sklearn Classifier Comparison\n",
    "\n",
    "<img src=https://scikit-learn.org/stable/_images/sphx_glr_plot_classifier_comparison_001.png />"
   ]
  },
  {
   "cell_type": "markdown",
   "metadata": {
    "slideshow": {
     "slide_type": "slide"
    }
   },
   "source": [
    "## What is Deep Learning?\n",
    "* a form of machine learning suited to complex data \n",
    "    * text, images, audio, ...\n",
    "* deep learning systems are sometimes called \"deep neural networks\"\n",
    "    * this can be confusing terminology\n",
    "    * \"neural\" here is a metaphor, and not related to brain function"
   ]
  },
  {
   "cell_type": "markdown",
   "metadata": {
    "slideshow": {
     "slide_type": "slide"
    }
   },
   "source": [
    "## Where is the business value in Deep Learning?\n",
    "\n",
    "* highly specific use cases, but these can have big impact\n",
    "* systems are very limited (weak AI) \n",
    "    * very constrained by historical data\n",
    "\n",
    "* novel systems can require big research projects\n",
    "    * massive experimentation and data collection\n",
    "    * can require PhD-level experience in developing novel algorithms"
   ]
  },
  {
   "cell_type": "markdown",
   "metadata": {
    "slideshow": {
     "slide_type": "slide"
    }
   },
   "source": [
    "## Deep Learning: What is Natural Language Processing?\n",
    "* types of deep text analysis:\n",
    "    * sentiment analysis\n",
    "    * topic analysis\n",
    "    * text generation \n",
    "\n",
    "* text -> numeric representation -> enriched -> insight"
   ]
  },
  {
   "cell_type": "markdown",
   "metadata": {
    "slideshow": {
     "slide_type": "slide"
    }
   },
   "source": [
    "## Deep Learning: What is Computer Vision?\n",
    "* image = pixels = matrix of numbers\n",
    "    * machine learning: correlations in those numbers with human-provided labels\n",
    "\n",
    "* types of computer vision problem\n",
    "    * object detection\n",
    "    * pose estimation\n",
    "    * image generation\n",
    "    * & more"
   ]
  },
  {
   "cell_type": "markdown",
   "metadata": {
    "slideshow": {
     "slide_type": "slide"
    }
   },
   "source": [
    "## Demo: AI as a Service: How can you deploy Deep Learning?\n",
    "\n",
    "* https://aidemos.microsoft.com/\n",
    "    * https://aidemos.microsoft.com/text-analytics\n",
    "* similar available from google, amazon, et al."
   ]
  },
  {
   "cell_type": "markdown",
   "metadata": {
    "slideshow": {
     "slide_type": "slide"
    }
   },
   "source": [
    "## Case Studies"
   ]
  },
  {
   "cell_type": "markdown",
   "metadata": {
    "slideshow": {
     "slide_type": "slide"
    }
   },
   "source": [
    "## Case Studies: Supervised Learning\n",
    "### Automated Facial Recognition\n",
    "> Automated Facial Recognition is used to identify individuals at soccer matches, protests, festivals or in neighbourhoods (Ferris, 2018). Mobile or fixed cameras capture images of individuals in the ‘wild’, extract machine readable facial prints, and use these to cross reference them against the police database or follow persons of interest across the city (Gates, 2011). \n",
    "\n",
    "> The London police are testing AFR for the purpose of public order policing, experimenting with facial recognition at the Nothing Hill Carnival and with mobile camera units on the city streets for the identification of persons of interest (Ferris, 2018; London Policing Ethics Panel, 2018: 10). For personal surveillance, the city of London proposes to update the “ring of steel” surveillance system that connects the ANPR and\n",
    "CCTV networks in the city with amongst other facial recognition"
   ]
  },
  {
   "cell_type": "markdown",
   "metadata": {
    "slideshow": {
     "slide_type": "slide"
    }
   },
   "source": [
    "### Voice Identification\n",
    "> Interpol and the Italian, German, Portuguese and U.K.’s Metropolitan Police force (Met) were involved in the Speaker Identification Integrated Project (SiiP), a technology developed by Verint Systems Ltd and co-financed by the EU’s funding program Horizon2020 . \n",
    "\n",
    "> The SiiP database operate alongside Interpol’s existing fingerprint and face database, and allow police to match voice samples taken from YouTube, Facebook, phone calls, voice-over-internetprotocol (VOIP) recordings, and recordings from CCTV cameras to voice recordings stored in a database (Kofman, 2018; Dumiak, 2018; Monroy, 2017). “SiiP will then search local and global audio databases using key identifiers such as gender, age, language, and accent. It will also search social media channels to find matches with individuals not yet known to police” (European Commission, 2018). \n",
    "\n",
    "> In 2017 the London MET and Portugal police force tested the SiiP system in the wild (European Commission, 2018; Dumiak, 2018). Voice identification is not a new police technique, research into the use of speaker recognition by police and secret services published by Verint Systems indicated that the technology was used in one form or another in 69 countries (Morrison et al, 2016). Known "
   ]
  },
  {
   "cell_type": "markdown",
   "metadata": {
    "slideshow": {
     "slide_type": "slide"
    }
   },
   "source": [
    "## Case Study: Forensic Unsupervised Learning \n",
    "\n",
    "## Predictive Identification\n",
    "\n",
    "> Predictive identification aims at predicting who is most likely to become a potential offender or potential victim of crime. The most common practice of this type of technology in Europe is risk modelling, in which individuals are identified and ranked according to the likelihood they will engage in criminal or violent activity. In the U.K. there are three distinct predictive identification programs in London, Avon and Somerset and the West Midlands (Couchman, 2019; Amnesty International, 2018). The London MET developed the Gang Matrix to identify potential gang members and score them according to the risk they pose to society. "
   ]
  },
  {
   "cell_type": "markdown",
   "metadata": {
    "slideshow": {
     "slide_type": "slide"
    }
   },
   "source": [
    "---\n",
    "\n",
    "## Individual Project\n",
    "* investigate and run the demos associated with this module:\n",
    "    * Demo: Supervised: k-Nearest Neighbors: Stop & Search Outcome Prediction\n",
    "    * Demo: Unsupervised: Graph Gang Analysis\n",
    "    * Demo: Deep Learning: Suspect Messaging Analysis\n",
    "\n",
    "## Group Project\n",
    "\n",
    "* Review the case studies presented in this module, including the demos \n",
    "* Brainstorm: What problems do you foresee with these systems?\n",
    "    * technical, ethical, strategic\n",
    "* Brainstorm: What advantages exist (compared to non-automated alternatives)?\n",
    "---"
   ]
  },
  {
   "cell_type": "markdown",
   "metadata": {
    "slideshow": {
     "slide_type": "slide"
    }
   },
   "source": [
    "## WB. Review"
   ]
  },
  {
   "cell_type": "markdown",
   "metadata": {
    "slideshow": {
     "slide_type": "slide"
    }
   },
   "source": [
    "## WB. Review"
   ]
  },
  {
   "cell_type": "markdown",
   "metadata": {
    "slideshow": {
     "slide_type": "slide"
    }
   },
   "source": [
    "## Reflection\n",
    "* Supervised & Unsupervised Learning\n",
    "    * Forensic Examplars\n",
    "* Domains of Application\n",
    "    * NLP, Computer Vision & Robotics\n",
    "* AI as a Service\n",
    "* Group Project: Predictive Policing Case Study\n",
    "    * Comparing traditional policing with predictive policing"
   ]
  },
  {
   "cell_type": "markdown",
   "metadata": {
    "slideshow": {
     "slide_type": "slide"
    }
   },
   "source": []
  }
 ],
 "metadata": {
  "kernelspec": {
   "display_name": "Python 3",
   "language": "python",
   "name": "python3"
  },
  "language_info": {
   "codemirror_mode": {
    "name": "ipython",
    "version": 3
   },
   "file_extension": ".py",
   "mimetype": "text/x-python",
   "name": "python",
   "nbconvert_exporter": "python",
   "pygments_lexer": "ipython3",
   "version": "3.8.3"
  }
 },
 "nbformat": 4,
 "nbformat_minor": 5
}

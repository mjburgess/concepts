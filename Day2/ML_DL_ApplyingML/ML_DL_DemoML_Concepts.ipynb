{
 "cells": [
  {
   "cell_type": "markdown",
   "metadata": {
    "slideshow": {
     "slide_type": "slide"
    }
   },
   "source": [
    "# Fundamental Concepts in Data Insight: \n",
    "## <font color=indigo>Demo: Machine Learning Concepts </font>\n",
    "\n",
    "### Fundamentals for a General Audience\n",
    "---"
   ]
  },
  {
   "cell_type": "markdown",
   "metadata": {
    "slideshow": {
     "slide_type": "slide"
    }
   },
   "source": [
    "QA Ltd. owns the copyright and other intellectual property rights of this material and asserts its moral rights as the author. All rights reserved."
   ]
  },
  {
   "cell_type": "markdown",
   "metadata": {
    "slideshow": {
     "slide_type": "slide"
    }
   },
   "source": [
    "The following code sets up the datasets needed for the demo. It obtains a stop and search dataset for \"The City of London\" and inserts it into a relational database."
   ]
  },
  {
   "cell_type": "code",
   "execution_count": 17,
   "metadata": {
    "slideshow": {
     "slide_type": "skip"
    }
   },
   "outputs": [],
   "source": [
    "import sqlite3 \n",
    "import pandas as pd\n",
    "from sklearn.neighbors import KNeighborsClassifier as KNN"
   ]
  },
  {
   "cell_type": "code",
   "execution_count": 18,
   "metadata": {
    "slideshow": {
     "slide_type": "fragment"
    }
   },
   "outputs": [],
   "source": [
    "stopsearch = pd.read_csv('data/stopandsearch.csv').dropna()\n",
    "database = sqlite3.connect(':memory:')\n",
    "query    = database.cursor()\n",
    "\n",
    "stopsearch.to_sql('stopsearch', database, if_exists='replace')"
   ]
  },
  {
   "cell_type": "markdown",
   "metadata": {
    "slideshow": {
     "slide_type": "skip"
    }
   },
   "source": [
    "---"
   ]
  },
  {
   "cell_type": "markdown",
   "metadata": {
    "slideshow": {
     "slide_type": "slide"
    }
   },
   "source": [
    "## What dataset are we using?"
   ]
  },
  {
   "cell_type": "code",
   "execution_count": 9,
   "metadata": {
    "slideshow": {
     "slide_type": "fragment"
    }
   },
   "outputs": [
    {
     "data": {
      "text/html": [
       "<div>\n",
       "<style scoped>\n",
       "    .dataframe tbody tr th:only-of-type {\n",
       "        vertical-align: middle;\n",
       "    }\n",
       "\n",
       "    .dataframe tbody tr th {\n",
       "        vertical-align: top;\n",
       "    }\n",
       "\n",
       "    .dataframe thead th {\n",
       "        text-align: right;\n",
       "    }\n",
       "</style>\n",
       "<table border=\"1\" class=\"dataframe\">\n",
       "  <thead>\n",
       "    <tr style=\"text-align: right;\">\n",
       "      <th></th>\n",
       "      <th>Age</th>\n",
       "      <th>Gender</th>\n",
       "      <th>Date</th>\n",
       "      <th>Outcome</th>\n",
       "    </tr>\n",
       "  </thead>\n",
       "  <tbody>\n",
       "    <tr>\n",
       "      <th>252</th>\n",
       "      <td>21.0</td>\n",
       "      <td>Male</td>\n",
       "      <td>2021-03-29T10:12:24+00:00</td>\n",
       "      <td>False</td>\n",
       "    </tr>\n",
       "    <tr>\n",
       "      <th>139</th>\n",
       "      <td>29.5</td>\n",
       "      <td>Male</td>\n",
       "      <td>2021-03-18T02:53:22+00:00</td>\n",
       "      <td>True</td>\n",
       "    </tr>\n",
       "    <tr>\n",
       "      <th>287</th>\n",
       "      <td>13.5</td>\n",
       "      <td>Male</td>\n",
       "      <td>2021-03-31T06:56:46+00:00</td>\n",
       "      <td>True</td>\n",
       "    </tr>\n",
       "    <tr>\n",
       "      <th>214</th>\n",
       "      <td>29.5</td>\n",
       "      <td>Male</td>\n",
       "      <td>2021-03-26T06:58:28+00:00</td>\n",
       "      <td>False</td>\n",
       "    </tr>\n",
       "    <tr>\n",
       "      <th>148</th>\n",
       "      <td>29.5</td>\n",
       "      <td>Male</td>\n",
       "      <td>2021-03-19T01:23:37+00:00</td>\n",
       "      <td>False</td>\n",
       "    </tr>\n",
       "    <tr>\n",
       "      <th>0</th>\n",
       "      <td>21.0</td>\n",
       "      <td>Male</td>\n",
       "      <td>2021-03-01T03:11:45+00:00</td>\n",
       "      <td>True</td>\n",
       "    </tr>\n",
       "    <tr>\n",
       "      <th>99</th>\n",
       "      <td>29.5</td>\n",
       "      <td>Male</td>\n",
       "      <td>2021-03-12T10:07:18+00:00</td>\n",
       "      <td>False</td>\n",
       "    </tr>\n",
       "    <tr>\n",
       "      <th>262</th>\n",
       "      <td>29.5</td>\n",
       "      <td>Male</td>\n",
       "      <td>2021-03-30T05:57:21+00:00</td>\n",
       "      <td>True</td>\n",
       "    </tr>\n",
       "    <tr>\n",
       "      <th>258</th>\n",
       "      <td>42.5</td>\n",
       "      <td>Male</td>\n",
       "      <td>2021-03-30T03:26:17+00:00</td>\n",
       "      <td>False</td>\n",
       "    </tr>\n",
       "    <tr>\n",
       "      <th>263</th>\n",
       "      <td>21.0</td>\n",
       "      <td>Male</td>\n",
       "      <td>2021-03-30T06:38:22+00:00</td>\n",
       "      <td>False</td>\n",
       "    </tr>\n",
       "  </tbody>\n",
       "</table>\n",
       "</div>"
      ],
      "text/plain": [
       "      Age Gender                       Date  Outcome\n",
       "252  21.0   Male  2021-03-29T10:12:24+00:00    False\n",
       "139  29.5   Male  2021-03-18T02:53:22+00:00     True\n",
       "287  13.5   Male  2021-03-31T06:56:46+00:00     True\n",
       "214  29.5   Male  2021-03-26T06:58:28+00:00    False\n",
       "148  29.5   Male  2021-03-19T01:23:37+00:00    False\n",
       "0    21.0   Male  2021-03-01T03:11:45+00:00     True\n",
       "99   29.5   Male  2021-03-12T10:07:18+00:00    False\n",
       "262  29.5   Male  2021-03-30T05:57:21+00:00     True\n",
       "258  42.5   Male  2021-03-30T03:26:17+00:00    False\n",
       "263  21.0   Male  2021-03-30T06:38:22+00:00    False"
      ]
     },
     "execution_count": 9,
     "metadata": {},
     "output_type": "execute_result"
    }
   ],
   "source": [
    "stopsearch.sample(10)"
   ]
  },
  {
   "cell_type": "markdown",
   "metadata": {
    "slideshow": {
     "slide_type": "slide"
    }
   },
   "source": [
    "## How do I query this dataset?"
   ]
  },
  {
   "cell_type": "markdown",
   "metadata": {
    "slideshow": {
     "slide_type": "fragment"
    }
   },
   "source": [
    "```sql\n",
    "SELECT AVG(Outcome) AS RateOfSuccess\n",
    "FROM stopsearch\n",
    "WHERE age < 18\n",
    "```"
   ]
  },
  {
   "cell_type": "code",
   "execution_count": 11,
   "metadata": {
    "slideshow": {
     "slide_type": "skip"
    }
   },
   "outputs": [],
   "source": [
    "result = pd.read_sql(\"\"\"\n",
    "SELECT AVG(Outcome) AS RateOfSuccess\n",
    "FROM stopsearch\n",
    "WHERE age < 18\n",
    "\"\"\", database)"
   ]
  },
  {
   "cell_type": "code",
   "execution_count": 12,
   "metadata": {
    "slideshow": {
     "slide_type": "fragment"
    }
   },
   "outputs": [
    {
     "data": {
      "text/html": [
       "<div>\n",
       "<style scoped>\n",
       "    .dataframe tbody tr th:only-of-type {\n",
       "        vertical-align: middle;\n",
       "    }\n",
       "\n",
       "    .dataframe tbody tr th {\n",
       "        vertical-align: top;\n",
       "    }\n",
       "\n",
       "    .dataframe thead th {\n",
       "        text-align: right;\n",
       "    }\n",
       "</style>\n",
       "<table border=\"1\" class=\"dataframe\">\n",
       "  <thead>\n",
       "    <tr style=\"text-align: right;\">\n",
       "      <th></th>\n",
       "      <th>RateOfSuccess</th>\n",
       "    </tr>\n",
       "  </thead>\n",
       "  <tbody>\n",
       "    <tr>\n",
       "      <th>0</th>\n",
       "      <td>0.233333</td>\n",
       "    </tr>\n",
       "  </tbody>\n",
       "</table>\n",
       "</div>"
      ],
      "text/plain": [
       "   RateOfSuccess\n",
       "0       0.233333"
      ]
     },
     "execution_count": 12,
     "metadata": {},
     "output_type": "execute_result"
    }
   ],
   "source": [
    "result"
   ]
  },
  {
   "cell_type": "markdown",
   "metadata": {
    "slideshow": {
     "slide_type": "slide"
    }
   },
   "source": [
    "## How do I predict probability of a stop-and-search success?"
   ]
  },
  {
   "cell_type": "markdown",
   "metadata": {
    "slideshow": {
     "slide_type": "fragment"
    }
   },
   "source": [
    "As with all machine learning predictive problems, we are looking to predict an unobserable $y$ in a new situation, where we can only observe $x$.\n",
    "\n",
    "Here suppose we want to predict whether a police officer will find an illegal item of interest ($y$) given only the supects age $x$ (NB. this dataset is specific to a small policing area, where age could be a significant predictive factor). \n",
    "\n",
    "To do this we will use the `k`-Nearest neighbors algorithm (kNN)."
   ]
  },
  {
   "cell_type": "markdown",
   "metadata": {
    "slideshow": {
     "slide_type": "slide"
    }
   },
   "source": [
    "kNN is a predictive machine learnig algorithm, it says,\n",
    "\n",
    "1. query your historical dataset for `k` similar points in $x$ (eg., `k = 3`, so *3 rows*)\n",
    "2. report the average of their historical value for $y$\n",
    "\n",
    "You, the practicioner, choose `k`. \n",
    "\n",
    "A small `k` averages a few similar rows, a big `k` nearly the whole dataset. The bigger the `k`, the more your predictions will all be very similar. A big `k` is useful if there's lots of noise in the dataset and if if all your suspects are quite similar. "
   ]
  },
  {
   "cell_type": "markdown",
   "metadata": {
    "slideshow": {
     "slide_type": "slide"
    }
   },
   "source": [
    "## What's a k-NN query?"
   ]
  },
  {
   "cell_type": "markdown",
   "metadata": {
    "slideshow": {
     "slide_type": "fragment"
    }
   },
   "source": [
    "Suppose I choose `k = 5`, and I'm interested in a prediction for a `suspect_age = 18`,"
   ]
  },
  {
   "cell_type": "markdown",
   "metadata": {
    "slideshow": {
     "slide_type": "fragment"
    }
   },
   "source": [
    "```sql\n",
    "SELECT \n",
    "    18            AS \"Suspect Age\", \n",
    "    AVG(Outcome)  AS \"Prob(FindingItem)\"\n",
    "FROM stopsearch\n",
    "ORDER BY ABS( age - 18 ) \n",
    "LIMIT 5\n",
    "```"
   ]
  },
  {
   "cell_type": "code",
   "execution_count": 15,
   "metadata": {
    "slideshow": {
     "slide_type": "skip"
    }
   },
   "outputs": [],
   "source": [
    "k = 5\n",
    "suspect_age = 18\n",
    "\n",
    "sql = f\"\"\"\n",
    "\n",
    "SELECT \n",
    "    {suspect_age} AS \"Suspect Age\", \n",
    "    AVG(Outcome)  AS \"Prob(FindingItem)\"\n",
    "FROM stopsearch\n",
    "ORDER BY ABS( age - {suspect_age} ) \n",
    "LIMIT {k}\n",
    "\n",
    "\"\"\""
   ]
  },
  {
   "cell_type": "code",
   "execution_count": 16,
   "metadata": {
    "slideshow": {
     "slide_type": "fragment"
    }
   },
   "outputs": [
    {
     "data": {
      "text/html": [
       "<div>\n",
       "<style scoped>\n",
       "    .dataframe tbody tr th:only-of-type {\n",
       "        vertical-align: middle;\n",
       "    }\n",
       "\n",
       "    .dataframe tbody tr th {\n",
       "        vertical-align: top;\n",
       "    }\n",
       "\n",
       "    .dataframe thead th {\n",
       "        text-align: right;\n",
       "    }\n",
       "</style>\n",
       "<table border=\"1\" class=\"dataframe\">\n",
       "  <thead>\n",
       "    <tr style=\"text-align: right;\">\n",
       "      <th></th>\n",
       "      <th>Suspect Age</th>\n",
       "      <th>Prob(FindingItem)</th>\n",
       "    </tr>\n",
       "  </thead>\n",
       "  <tbody>\n",
       "    <tr>\n",
       "      <th>0</th>\n",
       "      <td>18</td>\n",
       "      <td>0.340741</td>\n",
       "    </tr>\n",
       "  </tbody>\n",
       "</table>\n",
       "</div>"
      ],
      "text/plain": [
       "   Suspect Age  Prob(FindingItem)\n",
       "0           18           0.340741"
      ]
     },
     "execution_count": 16,
     "metadata": {},
     "output_type": "execute_result"
    }
   ],
   "source": [
    "pd.read_sql(sql, database)"
   ]
  },
  {
   "cell_type": "markdown",
   "metadata": {
    "slideshow": {
     "slide_type": "fragment"
    }
   },
   "source": [
    "The query here *ranks* searches by how similar their suspect's age was, `ABS(age - {suspect_age})` and chooses `k` of them, `LIMIT {k}`.\n",
    "\n",
    "`ABS` here means *ignoring the sign*, so if my age was $25$ then we count people $23$ and $27$ as equally similar to me. "
   ]
  },
  {
   "cell_type": "markdown",
   "metadata": {
    "slideshow": {
     "slide_type": "slide"
    }
   },
   "source": [
    "## How would we automate this analysis with python?"
   ]
  },
  {
   "cell_type": "markdown",
   "metadata": {
    "slideshow": {
     "slide_type": "fragment"
    }
   },
   "source": [
    "Above we have used SQL and manually written the algorithm (in SQL) to compute our prediction. We do not have to do this. \n",
    "\n",
    "Almost all algorithms are pre-written, and can be fully executed in one line of code,"
   ]
  },
  {
   "cell_type": "code",
   "execution_count": 54,
   "metadata": {
    "slideshow": {
     "slide_type": "fragment"
    }
   },
   "outputs": [],
   "source": [
    "model = KNN(5).fit(stopsearch[['Age']], stopsearch['Outcome'])"
   ]
  },
  {
   "cell_type": "markdown",
   "metadata": {
    "slideshow": {
     "slide_type": "fragment"
    }
   },
   "source": [
    "We call the solution of a machine learning problem a *model*. It is the device which allows us to make predictions,"
   ]
  },
  {
   "cell_type": "markdown",
   "metadata": {
    "slideshow": {
     "slide_type": "slide"
    }
   },
   "source": [
    "Here now, it is very easy to predict a tip for various ages: $25$, $10$, $45$,"
   ]
  },
  {
   "cell_type": "code",
   "execution_count": 56,
   "metadata": {
    "slideshow": {
     "slide_type": "fragment"
    }
   },
   "outputs": [
    {
     "data": {
      "text/plain": [
       "array([[0.6, 0.4],\n",
       "       [1. , 0. ],\n",
       "       [1. , 0. ]])"
      ]
     },
     "execution_count": 56,
     "metadata": {},
     "output_type": "execute_result"
    }
   ],
   "source": [
    "model.predict_proba([\n",
    "    [25],\n",
    "    [10],\n",
    "    [45],\n",
    "])"
   ]
  },
  {
   "cell_type": "markdown",
   "metadata": {
    "slideshow": {
     "slide_type": "fragment"
    }
   },
   "source": [
    "Above, `[0.6, 0.4]` means a $60\\%$ chance of `Outcome = False`, and a $40%$ change of `True`."
   ]
  },
  {
   "cell_type": "markdown",
   "metadata": {
    "slideshow": {
     "slide_type": "fragment"
    }
   },
   "source": [
    "So, $P(FindItem | Age = 25) = 40\\%$"
   ]
  },
  {
   "cell_type": "markdown",
   "metadata": {
    "slideshow": {
     "slide_type": "slide"
    }
   },
   "source": [
    "## Aside: Expanding this example"
   ]
  },
  {
   "cell_type": "markdown",
   "metadata": {
    "slideshow": {
     "slide_type": "fragment"
    }
   },
   "source": [
    "We can also involve the other columns: gender, time of day, month. Also, the original dataset contains lat/long locations which are likely to be predictive. \n",
    "\n",
    "Analysis of these variables was omitted for clarity."
   ]
  },
  {
   "cell_type": "markdown",
   "metadata": {
    "slideshow": {
     "slide_type": "slide"
    }
   },
   "source": [
    "## Summary & Review"
   ]
  },
  {
   "cell_type": "markdown",
   "metadata": {
    "slideshow": {
     "slide_type": "fragment"
    }
   },
   "source": [
    "The purpose of this demo was to *illustrate* how simple machine learning systems are in practice. Though some experience is required in programming, the amount of programming needed to create a machine learning solution is minimal.\n",
    "\n",
    "In realworld projects, the vast majority of programming goes into obtaining, cleaning, preparing and reporting on datasets; or into the automation systems behind applications: **not** into machine learning itself!"
   ]
  }
 ],
 "metadata": {
  "celltoolbar": "Slideshow",
  "kernelspec": {
   "display_name": "Python 3",
   "language": "python",
   "name": "python3"
  },
  "language_info": {
   "codemirror_mode": {
    "name": "ipython",
    "version": 3
   },
   "file_extension": ".py",
   "mimetype": "text/x-python",
   "name": "python",
   "nbconvert_exporter": "python",
   "pygments_lexer": "ipython3",
   "version": "3.8.3"
  }
 },
 "nbformat": 4,
 "nbformat_minor": 4
}

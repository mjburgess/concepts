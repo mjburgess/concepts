{
 "cells": [
  {
   "cell_type": "markdown",
   "metadata": {
    "slideshow": {
     "slide_type": "slide"
    }
   },
   "source": [
    "# Fundamental Concepts in Data Insight: \n",
    "## <font color=indigo>Demo: AI &amp; Deep Learning </font>\n",
    "\n",
    "### Fundamentals for a General Audience\n",
    "\n",
    "---"
   ]
  },
  {
   "cell_type": "markdown",
   "metadata": {
    "slideshow": {
     "slide_type": "slide"
    }
   },
   "source": [
    "QA Ltd. owns the copyright and other intellectual property rights of this material and asserts its moral rights as the author. All rights reserved."
   ]
  },
  {
   "cell_type": "markdown",
   "metadata": {
    "slideshow": {
     "slide_type": "slide"
    }
   },
   "source": [
    "The code below loads the \"Natural Language Proecssing Toolkit\" and downloads the \"vader lexicon\": a dataset which enables the tookit to perform sentiment analysis."
   ]
  },
  {
   "cell_type": "code",
   "execution_count": 17,
   "metadata": {
    "slideshow": {
     "slide_type": "skip"
    }
   },
   "outputs": [],
   "source": [
    "import json\n",
    "import nltk\n",
    "from random import sample"
   ]
  },
  {
   "cell_type": "code",
   "execution_count": 18,
   "metadata": {
    "slideshow": {
     "slide_type": "fragment"
    }
   },
   "outputs": [],
   "source": [
    "try: \n",
    "    nltk.data.find('sentiment/vader_lexicon.zip')\n",
    "except:\n",
    "    nltk.download(['vader_lexicon'])\n",
    "    \n",
    "    \n",
    "from nltk.sentiment import SentimentIntensityAnalyzer \n",
    "sentiment = SentimentIntensityAnalyzer()"
   ]
  },
  {
   "cell_type": "markdown",
   "metadata": {
    "slideshow": {
     "slide_type": "skip"
    }
   },
   "source": [
    "---"
   ]
  },
  {
   "cell_type": "markdown",
   "metadata": {
    "slideshow": {
     "slide_type": "slide"
    }
   },
   "source": [
    "## What data set are we analysing?"
   ]
  },
  {
   "cell_type": "markdown",
   "metadata": {
    "slideshow": {
     "slide_type": "fragment"
    }
   },
   "source": [
    "The gang messages log is a simulated set of messages, hypothetically sent between gang members,"
   ]
  },
  {
   "cell_type": "code",
   "execution_count": 19,
   "metadata": {
    "slideshow": {
     "slide_type": "skip"
    }
   },
   "outputs": [],
   "source": [
    "events = [json.loads(line) for line in open('data/gangmessages.log')]"
   ]
  },
  {
   "cell_type": "code",
   "execution_count": 20,
   "metadata": {
    "slideshow": {
     "slide_type": "fragment"
    }
   },
   "outputs": [
    {
     "data": {
      "text/plain": [
       "[{'subject': '+44 77133 00082',\n",
       "  'verb': 'SEND',\n",
       "  'object': '+44 77133 00064',\n",
       "  'context': {'body': 'ok', 'created': 1621839523.4468455},\n",
       "  'event': {'created': 1621839523.4468455, 'inserted': None}},\n",
       " {'subject': '+44 77133 00094',\n",
       "  'verb': 'SEND',\n",
       "  'object': '+44 77133 00034',\n",
       "  'context': {'body': 'do that!', 'created': 1621839523.4468455},\n",
       "  'event': {'created': 1621839523.4468455, 'inserted': None}}]"
      ]
     },
     "execution_count": 20,
     "metadata": {},
     "output_type": "execute_result"
    }
   ],
   "source": [
    "sample(events, 2)"
   ]
  },
  {
   "cell_type": "markdown",
   "metadata": {
    "slideshow": {
     "slide_type": "slide"
    }
   },
   "source": [
    "## What is sentiment analysis?"
   ]
  },
  {
   "cell_type": "markdown",
   "metadata": {
    "slideshow": {
     "slide_type": "fragment"
    }
   },
   "source": [
    "Sentiment is how positive or negative a fragment of text is; where \"positive\" is roughly, how \"nice\" we would find it; and \"negative\" how \"critical\". \n",
    "\n",
    "To produce a sentiment analysis system we need a historical set of words (, phrases, sentences) which have been **labelled by human operators** as positive or negative. "
   ]
  },
  {
   "cell_type": "markdown",
   "metadata": {
    "slideshow": {
     "slide_type": "slide"
    }
   },
   "source": [
    "A sample of five such *negative* words are,"
   ]
  },
  {
   "cell_type": "code",
   "execution_count": 10,
   "metadata": {
    "slideshow": {
     "slide_type": "fragment"
    }
   },
   "outputs": [],
   "source": [
    "negative_words = set(word for word, sentiment in sentiment.lexicon.items() if sentiment < 1 )\n",
    "positive_words = set(word for word, sentiment in sentiment.lexicon.items() if sentiment > 1 )"
   ]
  },
  {
   "cell_type": "code",
   "execution_count": 11,
   "metadata": {
    "scrolled": false,
    "slideshow": {
     "slide_type": "fragment"
    }
   },
   "outputs": [
    {
     "data": {
      "text/plain": [
       "['champer', 'reached', 'tranquillest', 'winnower', 'battleships']"
      ]
     },
     "execution_count": 11,
     "metadata": {},
     "output_type": "execute_result"
    }
   ],
   "source": [
    "sample(negative_words, 5)"
   ]
  },
  {
   "cell_type": "markdown",
   "metadata": {
    "slideshow": {
     "slide_type": "fragment"
    }
   },
   "source": [
    "...and positive,"
   ]
  },
  {
   "cell_type": "code",
   "execution_count": 12,
   "metadata": {
    "scrolled": true,
    "slideshow": {
     "slide_type": "fragment"
    }
   },
   "outputs": [
    {
     "data": {
      "text/plain": [
       "['wealthiness', 'calmer', 'benefic', 'innovates', 'appreciative']"
      ]
     },
     "execution_count": 12,
     "metadata": {},
     "output_type": "execute_result"
    }
   ],
   "source": [
    "sample(positive_words, 5)"
   ]
  },
  {
   "cell_type": "markdown",
   "metadata": {
    "slideshow": {
     "slide_type": "slide"
    }
   },
   "source": [
    "The sentiment analysis system used here scores each word of some text and aggregates the scores,"
   ]
  },
  {
   "cell_type": "code",
   "execution_count": 13,
   "metadata": {
    "slideshow": {
     "slide_type": "fragment"
    }
   },
   "outputs": [
    {
     "data": {
      "text/plain": [
       "{'neg': 0.444, 'neu': 0.178, 'pos': 0.379, 'compound': -0.2714}"
      ]
     },
     "execution_count": 13,
     "metadata": {},
     "output_type": "execute_result"
    }
   ],
   "source": [
    "sentiment.polarity_scores(\"I am the trustiest peacetime grim outraged president!\")"
   ]
  },
  {
   "cell_type": "markdown",
   "metadata": {
    "slideshow": {
     "slide_type": "fragment"
    }
   },
   "source": [
    "We can see how negative, how positive and how neutral a piece of text is as aggregate score of negative/positive/neutral words. The `compound` score is a net estimate for the sentiment of the whole. "
   ]
  },
  {
   "cell_type": "markdown",
   "metadata": {
    "slideshow": {
     "slide_type": "slide"
    }
   },
   "source": [
    "## What messages does the dataset contain?"
   ]
  },
  {
   "cell_type": "code",
   "execution_count": 101,
   "metadata": {
    "slideshow": {
     "slide_type": "fragment"
    }
   },
   "outputs": [
    {
     "data": {
      "text/plain": [
       "['ok',\n",
       " 'where are you?',\n",
       " 'do it NOW!',\n",
       " 'do that!',\n",
       " \"I can't believe we are in this mess!\"]"
      ]
     },
     "execution_count": 101,
     "metadata": {},
     "output_type": "execute_result"
    }
   ],
   "source": [
    "sample(set(e['context']['body'] for e in events), 5)"
   ]
  },
  {
   "cell_type": "markdown",
   "metadata": {
    "slideshow": {
     "slide_type": "slide"
    }
   },
   "source": [
    "## What sentiments does the dataset contain?"
   ]
  },
  {
   "cell_type": "markdown",
   "metadata": {
    "slideshow": {
     "slide_type": "fragment"
    }
   },
   "source": [
    "Let's analyse *all* of these messages for their *sentiment*, with a `cutoff = 0.5`,"
   ]
  },
  {
   "cell_type": "code",
   "execution_count": 15,
   "metadata": {
    "slideshow": {
     "slide_type": "skip"
    }
   },
   "outputs": [],
   "source": [
    "cutoff = 0.5 # try 0.3"
   ]
  },
  {
   "cell_type": "code",
   "execution_count": 16,
   "metadata": {
    "slideshow": {
     "slide_type": "fragment"
    }
   },
   "outputs": [
    {
     "name": "stdout",
     "output_type": "stream",
     "text": [
      "\n",
      "\n",
      "        FROM:  +44 77133 00092\n",
      "        TO:    +44 77133 00082\n",
      "        SCORE: -0.7088\n",
      "        MSG:   What the hell is going on!? \n",
      "\n",
      "\n",
      "        FROM:  +44 77133 00064\n",
      "        TO:    +44 77133 00092\n",
      "        SCORE: 0.6239\n",
      "        MSG:   amazing! \n"
     ]
    }
   ],
   "source": [
    "for event in events:\n",
    "    \n",
    "    score = sentiment.polarity_scores(event['context']['body'])['compound']\n",
    "    \n",
    "    if abs(score) > cutoff:\n",
    "        print(f\"\"\"\n",
    "\n",
    "        FROM:  {event['subject']}\n",
    "        TO:    {event['object']}\n",
    "        SCORE: {score}\n",
    "        MSG:   {event['context']['body']} \"\"\")\n",
    "        \n",
    "        "
   ]
  }
 ],
 "metadata": {
  "kernelspec": {
   "display_name": "Python 3",
   "language": "python",
   "name": "python3"
  },
  "language_info": {
   "codemirror_mode": {
    "name": "ipython",
    "version": 3
   },
   "file_extension": ".py",
   "mimetype": "text/x-python",
   "name": "python",
   "nbconvert_exporter": "python",
   "pygments_lexer": "ipython3",
   "version": "3.8.3"
  }
 },
 "nbformat": 4,
 "nbformat_minor": 4
}

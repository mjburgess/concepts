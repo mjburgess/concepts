{
 "cells": [
  {
   "cell_type": "markdown",
   "id": "a0b1e74f",
   "metadata": {
    "slideshow": {
     "slide_type": "slide"
    }
   },
   "source": [
    "# Fundamental Concepts in Data Insight: \n",
    "## <font color=indigo> Introduction to Big Data </font>\n",
    "\n",
    "### Fundamentals for a General Audience\n",
    "\n",
    "---"
   ]
  },
  {
   "cell_type": "markdown",
   "id": "dba5fdff",
   "metadata": {
    "slideshow": {
     "slide_type": "slide"
    }
   },
   "source": [
    "QA Ltd. owns the copyright and other intellectual property rights of this material and asserts its moral rights as the author. All rights reserved."
   ]
  },
  {
   "cell_type": "markdown",
   "id": "87671185",
   "metadata": {
    "slideshow": {
     "slide_type": "slide"
    }
   },
   "source": [
    "### **Introduction to Big Data**\n",
    "* Why now?\n",
    "    * Why is Big Data important?\n",
    "    * WB. Who cares about Big Data?\n",
    "* What is Big Data?\n",
    "    * How do we decide if a problem is Big Data?\n",
    "    * WB. When is a problem Big Data?\n",
    "    * WB. Are all Big Data Systems for Big Data?\n",
    "    * WB. What is a relational database?\n",
    "* The 3 Vs\n",
    "    * Velocity\n",
    "* Vairety\n",
    "    * WB. Variety: Relational & Non-Relational\n",
    "    * WB. Variety: K-V, Documents\n",
    "    * WB. Variety: Graphs\n",
    "    * WB. Variety: Columnar\n",
    "    * WB. Variety: Images & Audio\n",
    "* Volume\n",
    "* Review: What is a Data Model?\n",
    "* Review: What types of Big Data Systems are there?\n",
    "* WB. Data Archicture & Components  \n",
    "    * What does a modern data system need?\n",
    "    * Case Study: NoSQL vs. Relational \n",
    "* Individual Project (10 min)\n",
    "* Group Project (20 min)"
   ]
  },
  {
   "cell_type": "markdown",
   "id": "519ea4de",
   "metadata": {
    "slideshow": {
     "slide_type": "slide"
    }
   },
   "source": [
    "## Why now?\n",
    "* traditional data needs\n",
    "    * retail\n",
    "    * transactions\n",
    "    * data essential to online needs\n",
    "\n",
    "* origins of big data\n",
    "    * user behaviour\n",
    "    * internet\n",
    "    * public agencies\n",
    "    * sensor data\n",
    "    * images, audio, text\n",
    "        * OCR, ...\n",
    "\n",
    "* hardware to easily stored\n",
    "    * HDDs, SSDs\n",
    "\n",
    "* networks to easily transfer\n",
    "    * 1Gb/s to 100Gb/s"
   ]
  },
  {
   "cell_type": "markdown",
   "id": "465779bd",
   "metadata": {
    "slideshow": {
     "slide_type": "slide"
    }
   },
   "source": [
    "## Why is Big Data important?\n",
    "\n",
    "* Effective data insight and decision-making requires\n",
    "    * high quality data\n",
    "    * large amounts of data\n",
    "    * live and updated data\n",
    "* Digital transformation or pivots require data\n",
    "    * must begin by instituing big data systems"
   ]
  },
  {
   "cell_type": "markdown",
   "id": "fd4cb3fd",
   "metadata": {
    "slideshow": {
     "slide_type": "slide"
    }
   },
   "source": [
    "## WB. Who cares about Big Data?\n",
    "* executives, analysts,  engineers"
   ]
  },
  {
   "cell_type": "markdown",
   "id": "43ad1476",
   "metadata": {
    "slideshow": {
     "slide_type": "slide"
    }
   },
   "source": [
    "## What is Big Data?\n",
    "\n",
    "* Big Data is a term without a definition. \n",
    "* It is a term set against something else. \n",
    "* The other: traditional data systems. \n",
    "\n",
    "> Big data is a field that treats ways to analyze, systematically extract information from, or otherwise deal with data sets that are too large or complex to be dealt with by **traditional data-processing application software**. \n",
    "\n",
    "\n",
    "> Big data challenges include capturing data, data storage, data analysis, search, sharing, transfer, visualization, querying, updating, information privacy.\n",
    "\n",
    "\n",
    "- wikipedia, Big Data"
   ]
  },
  {
   "cell_type": "markdown",
   "id": "4cb41acd",
   "metadata": {
    "slideshow": {
     "slide_type": "slide"
    }
   },
   "source": [
    "## How do we decide if a problem is Big Data?"
   ]
  },
  {
   "cell_type": "markdown",
   "id": "ded6f2c4",
   "metadata": {
    "slideshow": {
     "slide_type": "slide"
    }
   },
   "source": [
    "## WB. When is a problem Big Data?"
   ]
  },
  {
   "cell_type": "markdown",
   "id": "c38da744",
   "metadata": {
    "slideshow": {
     "slide_type": "slide"
    }
   },
   "source": [
    "## WB. Are all Big Data Systems for Big Data?"
   ]
  },
  {
   "cell_type": "markdown",
   "id": "2b0d9b38",
   "metadata": {
    "slideshow": {
     "slide_type": "slide"
    }
   },
   "source": [
    "## WB. What is a relational database?"
   ]
  },
  {
   "cell_type": "markdown",
   "id": "2e715833",
   "metadata": {
    "slideshow": {
     "slide_type": "slide"
    }
   },
   "source": [
    "## The 3 Vs\n",
    "* Velocity\n",
    "* Variety \n",
    "* Volume"
   ]
  },
  {
   "cell_type": "markdown",
   "id": "a8edaf13",
   "metadata": {
    "slideshow": {
     "slide_type": "slide"
    }
   },
   "source": [
    "## Velocity\n",
    "* real-time\n",
    "* problems \"quickly\" become non-traditional\n",
    "    * traditional solutions *do not scale well*\n",
    "* response required < 1s\n",
    "* ratio = traditional-query-time / response-time\n",
    "* is this close-to or more-than 1?\n",
    "    * eg., 60 seconds / 120 secods = 0.5\n",
    "    * eg., 60 seconds / 30 seconds = 2\n"
   ]
  },
  {
   "cell_type": "markdown",
   "id": "36bf0f7d",
   "metadata": {
    "slideshow": {
     "slide_type": "slide"
    }
   },
   "source": [
    "## WB. Variety: Relational & Non-Relational"
   ]
  },
  {
   "cell_type": "markdown",
   "id": "44720fa0",
   "metadata": {
    "slideshow": {
     "slide_type": "slide"
    }
   },
   "source": [
    "## WB. Variety: K-V, Documents"
   ]
  },
  {
   "cell_type": "markdown",
   "id": "31bfdf3a",
   "metadata": {
    "slideshow": {
     "slide_type": "slide"
    }
   },
   "source": [
    "## WB. Variety: Graphs"
   ]
  },
  {
   "cell_type": "markdown",
   "id": "abcc2285",
   "metadata": {
    "slideshow": {
     "slide_type": "slide"
    }
   },
   "source": [
    "## WB. Variety: Columnar"
   ]
  },
  {
   "cell_type": "markdown",
   "id": "b9a0bcae",
   "metadata": {
    "slideshow": {
     "slide_type": "slide"
    }
   },
   "source": [
    "## WB. Variety: Images & Audio"
   ]
  },
  {
   "cell_type": "markdown",
   "id": "865cc33e",
   "metadata": {
    "slideshow": {
     "slide_type": "slide"
    }
   },
   "source": [
    "## Vairety\n",
    "* data complexity \n",
    "* problems \"quickly\" become non-traditional\n",
    "    * traditional solutions *do not scale well*\n",
    "* independent dimensions in the dataset\n",
    "    * independent attributes of the data\n",
    "* repeated information:\n",
    "    * (lat, long), (address), (geotag)\n",
    "* large amounts of *relevant* non-repeated information\n",
    "* image: 1MP is 1,000,000\n",
    "    * even a small image is 1-million dimensions\n",
    "* if you're considering >20 *relevant*, *indepedent* attributes, may have big-data problem\n",
    "\n",
    "    "
   ]
  },
  {
   "cell_type": "markdown",
   "id": "7e837ebc",
   "metadata": {
    "slideshow": {
     "slide_type": "slide"
    }
   },
   "source": [
    "## Volume\n",
    "* traditional solutions *scale well*\n",
    "* RAM\n",
    "    * how much memory does a query need?\n",
    "    * ratio = query-need / machine-amount\n",
    "        * of the best plausible single machine\n",
    "    * eg., 100 GB / 512 GB\n",
    "        * not a big data problem\n",
    "    * eg., 1 TB / 512 GB\n",
    "        * could be a big data problem\n",
    "        * may also be possible to optimize the query \n",
    "* Storage\n",
    "    * how big is the entire dataset?\n",
    "    * ratio = disk-size / machine-amount\n",
    "    * eg., 10 TB / 16TB\n",
    "        * not a big data problem\n"
   ]
  },
  {
   "cell_type": "markdown",
   "id": "a9a377c7",
   "metadata": {
    "slideshow": {
     "slide_type": "slide"
    }
   },
   "source": [
    "## Review: What is a Data Model?\n",
    "\n",
    "* The data model describes how the data is structured. \n",
    "    * The query brings together datasets, reshapes and summaries\n",
    "* There's a tradeoff\n",
    "    * either structure data *specific* to a need, \n",
    "        * query simpler & faster\n",
    "    * or make the structure general, \n",
    "        * querying takes longer. \n",
    "\n",
    "* Relational databases have a universal data structure \n",
    "    * ie., a table\n",
    "    * this *can* have negative performance implications \n",
    "        * if you're problem requires non-tabular structure\n",
    "            * order, \n",
    "            * sparcity, \n",
    "            * heirachy, \n",
    "            * extensive re-structuring. "
   ]
  },
  {
   "cell_type": "markdown",
   "id": "12587ee8",
   "metadata": {
    "slideshow": {
     "slide_type": "slide"
    }
   },
   "source": [
    "## Review: What types of Big Data Systems are there?\n",
    "* non-relational (ie., non-tabular): NoSQL\n",
    "    * documents\n",
    "    * graphs\n",
    "    * columnar stores\n",
    "        * dataframes, bigtables\n",
    "    * text, audio, images\n",
    "* fast small systems\n",
    "    * event systems\n",
    "* slow big systems\n",
    "    * distributied file systems"
   ]
  },
  {
   "cell_type": "markdown",
   "id": "79086928",
   "metadata": {
    "slideshow": {
     "slide_type": "slide"
    }
   },
   "source": [
    "## WB. Data Archicture & Components  "
   ]
  },
  {
   "cell_type": "markdown",
   "id": "a360e168",
   "metadata": {
    "slideshow": {
     "slide_type": "slide"
    }
   },
   "source": [
    "## What does a modern data system need?\n",
    "* data lake\n",
    "    * raw unstructured data\n",
    "    * images, archives, ...\n",
    "* data warehouse\n",
    "    * data structured for analysis\n",
    "* data applications\n",
    "    * customer-facing software\n",
    "    * internal analytical software\n",
    "* data engineering\n",
    "    * systems to pipeline and ETL data\n",
    "* data science\n",
    "    * systems of data insight and analysis"
   ]
  },
  {
   "cell_type": "markdown",
   "id": "bafd3113",
   "metadata": {
    "slideshow": {
     "slide_type": "slide"
    }
   },
   "source": [
    "## Case Study: NoSQL vs. Relational "
   ]
  },
  {
   "cell_type": "markdown",
   "id": "69021c8d",
   "metadata": {
    "slideshow": {
     "slide_type": "slide"
    }
   },
   "source": [
    "**WHITEBOARD**"
   ]
  },
  {
   "cell_type": "markdown",
   "id": "10a79170",
   "metadata": {
    "slideshow": {
     "slide_type": "skip"
    }
   },
   "source": [
    "---"
   ]
  },
  {
   "cell_type": "markdown",
   "id": "3e84c830",
   "metadata": {
    "slideshow": {
     "slide_type": "slide"
    }
   },
   "source": [
    "## Individual Project (10 min)\n",
    "\n",
    "* open the demo files for this module\n",
    "* run, explore and modify"
   ]
  },
  {
   "cell_type": "markdown",
   "id": "161e7760",
   "metadata": {
    "slideshow": {
     "slide_type": "slide"
    }
   },
   "source": [
    "\n",
    "## Group Project (20 min)\n",
    "\n",
    "* consider these types of data, brain storm what detials they have:\n",
    "    * suspect network\n",
    "    * case files\n",
    "    * history of credit card transactions\n",
    "    * realtime observations of criminal behaviour on honeytrap darkweb sites\n",
    "    \n",
    "\n",
    "* choose from:\n",
    "    * graph database, document database, relational, event systems\n",
    "    * not all answers \"wrong\""
   ]
  },
  {
   "cell_type": "markdown",
   "id": "bf74d765",
   "metadata": {
    "slideshow": {
     "slide_type": "slide"
    }
   },
   "source": [
    "## Reflection \n",
    "* The Strengths & Weaknesses of Relational Databases\n",
    "* Forensic Case Studies in Big Data\n",
    "    * NoSQL Systems\n",
    "    * Event Systems\n",
    "    * Image & Audio Analysis\n",
    "* Duplicating Data & Polyglot Persistance\n",
    "* Realtime vs. Batch Analysis"
   ]
  },
  {
   "cell_type": "markdown",
   "id": "cb5c05b6",
   "metadata": {
    "slideshow": {
     "slide_type": "slide"
    }
   },
   "source": [
    "## Appendix"
   ]
  },
  {
   "cell_type": "markdown",
   "id": "3e590d46",
   "metadata": {
    "slideshow": {
     "slide_type": "slide"
    }
   },
   "source": [
    "## What is SQL?\n",
    "* structured query language\n",
    "* increasinly, lingua franca of data"
   ]
  },
  {
   "cell_type": "markdown",
   "id": "d4e222df",
   "metadata": {
    "attributes": {
     "classes": [
      "sql"
     ],
     "id": ""
    },
    "slideshow": {
     "slide_type": "fragment"
    }
   },
   "source": [
    "```sql\n",
    "\n",
    "CREATE TABLE evidence ( \n",
    "    id int, category text, report text, department text \n",
    ");\n",
    "\n",
    "INSERT INTO evidence VALUES (1, \"Money\", \"...\", \"Finance\" );\n",
    "\n",
    "SELECT * FROM evidence WHERE department = \"finance\";\n",
    "```"
   ]
  },
  {
   "cell_type": "markdown",
   "id": "930bbab7",
   "metadata": {
    "slideshow": {
     "slide_type": "slide"
    }
   },
   "source": [
    "## How do big data systems work together?\n",
    "* events capture maximal analytical info\n",
    "* data duplicated\n",
    "    * polyglot persistance\n",
    "    * including, esp. traditional systems\n",
    "* realtime and batch analysis \n",
    "* events are achived on distributed file systems\n",
    "    * old event streams can be processed whenever\n",
    "    * \"as-if live\""
   ]
  },
  {
   "cell_type": "markdown",
   "id": "a3c3cc46",
   "metadata": {
    "slideshow": {
     "slide_type": "slide"
    }
   },
   "source": [
    "### What is a Traditional Data System?\n",
    "\n",
    "A traditional data system is relational (ie., tabular) and designed to store live transactional data and to provide this data for historical reporting (fact-finding). \n",
    "\n",
    "Traditional systems are excellent at this task, and handily beat any “big data” system which could be used to accomplish it (often, by a very long way). "
   ]
  },
  {
   "cell_type": "markdown",
   "id": "bdb57ac3",
   "metadata": {
    "slideshow": {
     "slide_type": "slide"
    }
   },
   "source": [
    "### When do traditional systems win?\n",
    "Organizations are in a difficult place when they have to leave the traditional world; always only a problem cannot be solved using those techniques. The big-data world requires complex skills, timelines, project scope and costs.\n",
    "\n",
    "Traditional systems provide global consistency (the data looks up-to-date from where-ever and when-ever you are); and tabular datasets (rows, columns). Consistency comes with a performance penalty: if everyone has to be up to date, you have to slow parts (or disable them) to keep the whole system accurate. A tabular structure is also not efficient for storing non-tabular datasets: graphs; sparse documents; images and highly complex data (1000s+ columns)."
   ]
  },
  {
   "cell_type": "markdown",
   "id": "0e65b2f0",
   "metadata": {
    "slideshow": {
     "slide_type": "slide"
    }
   },
   "source": [
    "### When do traditional systems fail?\n",
    "\n",
    "There is no fixed point when a traditional system fails and a big data system is needed. Typically, metrics such as the volume (size), velocity (eg., query rate), and variety (data complexity) are used. However these are moving goal posts. In 2000 when “Big Data” became a term of art, volume was the greatest challenge: 1 TB of data would require a very large number of machines. Today, an iPad comes with 1TB, and purchasing several 12 TB hard drives is cheap and easy. "
   ]
  },
  {
   "cell_type": "markdown",
   "id": "80410df3",
   "metadata": {
    "slideshow": {
     "slide_type": "slide"
    }
   },
   "source": [
    "### When is a big data system needed?\n",
    "Today medium-size mainstream businesses are unlikely to depart from traditional systems due to volume constraints alone. Rather, if big data systems are needed it is for velocity (eg., real-time analytics) or variety (eg., working with images). However, of course, increasingly some businesses really do have large volume requirements (multi-petabyte).  \n",
    "\n",
    "Modern big data systems are driven by real-time event capture: a highly efficient means of storing information in its most complete form (who, what, where, when). This enables high-velocity querying. From these event systems non-traditional data systems receive data (graphs for social network analysis, file systems for archives and images,  and so on). This data is duplicated in many places, including within traditional systems, to enable a highly flexible and isolated approach to analytics. \n",
    "\n",
    "In such modern big data systems data is highly available for all analytical tasks, and captured in a maximally insight-driven way (capturing who/what/where/when enables insight)."
   ]
  },
  {
   "cell_type": "markdown",
   "id": "b68857da",
   "metadata": {
    "slideshow": {
     "slide_type": "slide"
    }
   },
   "source": [
    "### What roles enable big data?\n",
    "\n",
    "Building these systems requires, in order: software engineers, data engineers, data analysis, and data scientists. "
   ]
  },
  {
   "cell_type": "markdown",
   "id": "2751f427",
   "metadata": {
    "slideshow": {
     "slide_type": "slide"
    }
   },
   "source": [
    "Software engineers build the automated systems of data collection (“ingestion”) which provide the raw data from the outside; either from apps in the case of user data, or eg., IoT devices which provide sensor data. \n",
    "\n",
    "Data Engineers build the pipelines which accept data from these applications, transform it into a usable structure, and determine how and where it will be stored. Their role is to bridge the user-facing world of software to the internal world of analytics by automating and building data systems to enrich and structure data ready for analytics. \n",
    "\n",
    "Data Analysts are the first fact-finding layer of data recipients. They work with analytical tools (eg., excel) and dashboards (typically built by software engineers). Their job is to summarize and aggregate the relevant datasets they are presented with to answer fact-finding strategic business questions. \n",
    "\n",
    "Data Scientists are the final hire. They are accelerators across all these prior functions: software engineering, data engineering, analytics & insight. They are able to derive the last-mile high-value from these practice areas. They bring to software engineering, intelligent applications; to data engineering, systems which enrich and structure data for greater insight; to analytics, deep explanatory and predictive projects. "
   ]
  },
  {
   "cell_type": "markdown",
   "id": "dd0e4917",
   "metadata": {
    "slideshow": {
     "slide_type": "slide"
    }
   },
   "source": [
    "However, a data scientist can, typically, only operate to advance existing systems (or, otherwise, is a very expensive resource to build them with). \n",
    "\n",
    "A medium business requires perhaps three software teams, one data engineering team, two analytical teams and perhaps two or three data scientists. A large business may want to double or treble these numbers. National organizations may have dedicated data science functions."
   ]
  }
 ],
 "metadata": {
  "celltoolbar": "Slideshow",
  "kernelspec": {
   "display_name": "Python 3",
   "language": "python",
   "name": "python3"
  },
  "language_info": {
   "codemirror_mode": {
    "name": "ipython",
    "version": 3
   },
   "file_extension": ".py",
   "mimetype": "text/x-python",
   "name": "python",
   "nbconvert_exporter": "python",
   "pygments_lexer": "ipython3",
   "version": "3.8.3"
  }
 },
 "nbformat": 4,
 "nbformat_minor": 5
}

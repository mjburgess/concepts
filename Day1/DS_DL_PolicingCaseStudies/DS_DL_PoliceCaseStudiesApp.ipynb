{
 "cells": [
  {
   "cell_type": "markdown",
   "id": "ab029b2b",
   "metadata": {
    "slideshow": {
     "slide_type": "slide"
    }
   },
   "source": [
    "# Fundamental Concepts in Data Insight: \n",
    "## <font color=indigo> Case Studies in Police Data Systems </font>\n",
    "\n",
    "### Fundamentals for a General Audience\n",
    "\n",
    "---"
   ]
  },
  {
   "cell_type": "markdown",
   "id": "d74c5f46",
   "metadata": {
    "slideshow": {
     "slide_type": "slide"
    }
   },
   "source": [
    "QA Ltd. owns the copyright and other intellectual property rights of this material and asserts its moral rights as the author. All rights reserved."
   ]
  },
  {
   "cell_type": "markdown",
   "id": "f7a0b4f4",
   "metadata": {
    "slideshow": {
     "slide_type": "slide"
    }
   },
   "source": [
    "## General Observations"
   ]
  },
  {
   "cell_type": "markdown",
   "id": "639a3cac",
   "metadata": {
    "slideshow": {
     "slide_type": "slide"
    }
   },
   "source": [
    "### General Trends\n",
    "> It outlines four key trends: investment in databases, real-time identification of individuals and objects, predictive policing, and the analysis of heterogeneous datasets, for which police departments are increasingly experimenting with integrating data and technologies into their policing practices. While it should be acknowledged that the adoption and integration of data-driven policing technologies are still in its infancy, pilot programs are mushrooming across Europe. "
   ]
  },
  {
   "cell_type": "markdown",
   "id": "1058d8bf",
   "metadata": {
    "slideshow": {
     "slide_type": "slide"
    }
   },
   "source": [
    "> A clear example is the reliance on Palantir for analysing heterogeneous databases, in which the French secret service turns to this American company for lack of a French or EU alternatives along with several other police forces in Europe, and the facial recognition market which is also dominated by a small group of computational suppliers (Gates, 2011). In addition, there are signs which indicate how different technologies will in the near future fold into one, i.e. the proposal of the city of London to integrate AFR into the ‘ring of steel’ and the possibility to use real time identification as input for predictive policing systems. This will enable the police, with the support of a small group of computational suppliers, to collect data in real time, analyse heterogeneous databases and support the police in their investigation or predict crime."
   ]
  },
  {
   "cell_type": "markdown",
   "id": "286222b9",
   "metadata": {
    "slideshow": {
     "slide_type": "slide"
    }
   },
   "source": [
    "> Concerns are raised on the fundamental premise on which data-driven technologies are built, where police can monitor everyone in a public space and take action on the basis of this data. For specific programs, human rights groups and oversight committees question the proportionality and scope of these technologies, the shortcomings in responsible data practices, the lack of clarity on the criteria and processes for including individuals in databases and the failure to delete ‘old’ data. There is a clear need to explore how these data-driven policing programs are currently being applied, where, on which crime and question the potential negative impact on poorer neighbourhoods and affected communities. "
   ]
  },
  {
   "cell_type": "markdown",
   "id": "0b4699aa",
   "metadata": {
    "slideshow": {
     "slide_type": "slide"
    }
   },
   "source": [
    "### General Innovation Topics\n",
    "* predictive policing\n",
    "    * where will crime be?\n",
    "    * crime mapping\n",
    "    * identification of suspects\n",
    "* risk analysis\n",
    "    * reoffence\n",
    "    * victimization\n",
    "* multimedia analytics\n",
    "    * facial recog\n",
    "    * object recog\n",
    "    * text within images\n",
    "* communication patterns\n",
    "* automated number place recog (ANPR)\n",
    "* natural language processing \n",
    "* automation of intelligence\n",
    "    * efficient policing\n",
    "* real-time identification\n",
    "    * facial, voice"
   ]
  },
  {
   "cell_type": "markdown",
   "id": "eaad42a0",
   "metadata": {
    "slideshow": {
     "slide_type": "slide"
    }
   },
   "source": [
    "### General Policing Areas\n",
    "* human trafficking\n",
    "    * darkweb text/multimedia analysis\n",
    "* exploitation \n",
    "* narcotics\n",
    "* weapons\n",
    "* smuggling\n",
    "* counterfeitting \n",
    "* terrorism & terrorist speech\n",
    "* self-harm promotion"
   ]
  },
  {
   "cell_type": "markdown",
   "id": "c02036bc",
   "metadata": {
    "slideshow": {
     "slide_type": "slide"
    }
   },
   "source": [
    "### General Ethical Topics\n",
    "* bias\n",
    "    * eg., predictive policing\n",
    "    * can it be reduced?\n",
    "        * relative to human\n",
    "* rights infrinment\n",
    "    * eg., over-collection, illegal collection\n",
    "* efficacy\n",
    "    * eg., facial recog & innocence\n",
    "    * eg., resource misallocation\n",
    "    "
   ]
  },
  {
   "cell_type": "markdown",
   "id": "1624f348",
   "metadata": {
    "slideshow": {
     "slide_type": "slide"
    }
   },
   "source": [
    "### General Organizational Challenges\n",
    "* front-line staff (police) working with data specialists\n",
    "* front-line staff data collectors, handlers, managers\n",
    "* data security\n",
    "* reliable data management\n",
    "* formal training requirements"
   ]
  },
  {
   "cell_type": "markdown",
   "id": "2e383432",
   "metadata": {
    "slideshow": {
     "slide_type": "slide"
    }
   },
   "source": [
    "### General Cultural Challenges\n",
    "\n",
    "* command & control hierachies\n",
    "    * vs., quick adaption & innovation\n",
    "* culture promotes insight and strategic foresight\n",
    "* a culture of merit / ideas vs. hierachy / status\n",
    "    * lengthy chains of command\n",
    "    * ideas filtered through 'one disapprover' rejected\n",
    "    * disillusionment\n",
    "* risk-aversion vs. risk-tolerance\n",
    "    * innovation = trying without knowing full concequences\n",
    "* culture of blame vs. culture of learning\n",
    "    * proactive sharing\n",
    "* cooperation with external partners\n",
    "    * public-private\n",
    "    * private-academia\n",
    "    * public-academia\n",
    "    * rewarding information sharing\n",
    "* resources and priortization of strategic foresight"
   ]
  },
  {
   "cell_type": "markdown",
   "id": "88ea0759",
   "metadata": {
    "slideshow": {
     "slide_type": "slide"
    }
   },
   "source": [
    "### General Regulatory Challenges\n",
    "* focus on privacy and security\n",
    "* GDPR\n",
    "* pending\n",
    "    * e-evidence package\n",
    "    * ePrivacy regulation\n",
    "* regulartory cooperation\n",
    "    * collection\n",
    "    * retention\n",
    "    * exchange\n",
    "    * ... of data"
   ]
  },
  {
   "cell_type": "markdown",
   "id": "e15dfbd9",
   "metadata": {
    "slideshow": {
     "slide_type": "slide"
    }
   },
   "source": [
    "### General Technical Challenges\n",
    "* interoperability between databases\n",
    "* cloud data systems\n",
    "* data collection \n",
    "* data quality"
   ]
  },
  {
   "cell_type": "markdown",
   "id": "81c22e17",
   "metadata": {
    "slideshow": {
     "slide_type": "slide"
    }
   },
   "source": [
    "## Case Studies & Applications"
   ]
  },
  {
   "cell_type": "markdown",
   "id": "0bfd2302",
   "metadata": {
    "slideshow": {
     "slide_type": "fragment"
    }
   },
   "source": [
    "### Data Collection"
   ]
  },
  {
   "cell_type": "markdown",
   "id": "0f516b11",
   "metadata": {
    "slideshow": {
     "slide_type": "slide"
    }
   },
   "source": [
    "#### Boders & Querying\n",
    "\n",
    "> SIS is a database containing information on criminal activity, immigration violations, and various objects and missing persons. \n",
    "\n",
    "> A discrete check allows the issuing police to be informed about an individual’s whereabouts, their activity and the people they are associated with when this individual gets in contact with law enforcement through a routine check, border crossing, surveillance action or investigation anywhere in Europe.\n",
    "\n",
    "> Previously, the fingerprint data of SIS was only searchable through name and date of birth, now AFIS has made the fingerprint database biometrically searchable. Since the integration, it can be witnessed that the police are increasing the number of fingerprints they upload in the system (The Sofia Globe, 2018)."
   ]
  },
  {
   "cell_type": "markdown",
   "id": "82635bbb",
   "metadata": {
    "slideshow": {
     "slide_type": "slide"
    }
   },
   "source": [
    "#### Automated Licence Plate Readers\n",
    "\n",
    "> Cameras on highways and roads capture images from the front and the back of a vehicle, collecting data on the license plate, the colour and model of the vehicle, and in some cases the driver or passengers (Politie-verhoor.nl, 2019). \n",
    "\n",
    "> The 2015/2016 U.K’s Surveillance Camera Commissioner report showed that at that time the U.K had “approximately 8,500 cameras in use capable of capturing 35 million and 40 million ‘reads’ a day and storing upwards of 30 billion ‘reads’ a year” (Surveillance Camera Commissioner, 2016: 23). "
   ]
  },
  {
   "cell_type": "markdown",
   "id": "fe8482e7",
   "metadata": {
    "slideshow": {
     "slide_type": "slide"
    }
   },
   "source": [
    "#### Automated Facial Recognition\n",
    "> Automated Facial Recognition is used to identify individuals at soccer matches, protests, festivals or in neighbourhoods (Ferris, 2018). Mobile or fixed cameras capture images of individuals in the ‘wild’, extract machine readable facial prints, and use these to cross reference them against the police database or follow persons of interest across the city (Gates, 2011). \n",
    "\n",
    "> The London police are testing AFR for the purpose of public order policing, experimenting with facial recognition at the Nothing Hill Carnival and with mobile camera units on the city streets for the identification of persons of interest (Ferris, 2018; London Policing Ethics Panel, 2018: 10). For personal surveillance, the city of London proposes to update the “ring of steel” surveillance system that connects the ANPR and\n",
    "CCTV networks in the city with amongst other facial recognition"
   ]
  },
  {
   "cell_type": "markdown",
   "id": "61645384",
   "metadata": {
    "slideshow": {
     "slide_type": "slide"
    }
   },
   "source": [
    "#### Voice Identification\n",
    "\n",
    "> Interpol and the Italian, German, Portuguese and U.K.’s Metropolitan Police force (Met) were involved in the Speaker Identification Integrated Project (SiiP), a technology developed by Verint Systems Ltd and co-financed by the EU’s funding program Horizon2020 . The SiiP database operate alongside Interpol’s existing fingerprint and face database, and allow police to match voice samples taken from YouTube, Facebook, phone calls, voice-over-internetprotocol (VOIP) recordings, and recordings from CCTV cameras to voice recordings stored in a database (Kofman, 2018; Dumiak, 2018; Monroy, 2017). \n",
    "\n",
    "> “SiiP will then search local and global audio databases using key identifiers such as gender, age, language, and accent. It will also search social media channels to find matches with individuals not yet known to police” (European Commission, 2018). In 2017 the London MET and Portugal police force tested the SiiP system in the wild (European Commission, 2018; Dumiak, 2018). Voice identification is not a new police technique, research into the use of speaker recognition by police and secret services published by Verint Systems indicated that the technology was used in one form or another in 69 countries (Morrison et al, 2016). Known "
   ]
  },
  {
   "cell_type": "markdown",
   "id": "64fcbf30",
   "metadata": {
    "slideshow": {
     "slide_type": "slide"
    }
   },
   "source": [
    "#### Predictive Mapping\n",
    "> Police forces in Europe are each experimenting with their own approach to predictive mapping, also known as hotspot policing. There is a wide range of products being developed, of which all are primarily used to predict the locations of high impact crime, i.e. robbery, theft, and burglary. There are two distinct models, near repeat and time-space. Where the first predominantly relies on police data (type of crime, location and time) to predict where high impact crime is most likely to happen in the near future, the later also includes variable like weather, holidays, events, and distance to highways (Hardyns et all, 2017; Ferguson, 2017).\n",
    "\n",
    "> KLB-operativ, which is the Hessen in-house built predictive policing model, is based on near-repeat but instead of solely relying on police crime data, socio-economic data is included in the analysis, which is then mapped on a mobile phone app that allows the patrolling police officer to do searchers and apply filters (Seidensticker et al, 2018)."
   ]
  },
  {
   "cell_type": "markdown",
   "id": "d90b24cd",
   "metadata": {
    "slideshow": {
     "slide_type": "slide"
    }
   },
   "source": [
    "> The police departments in North Rhine Westphalia (Skala), Berlin (KrimPo) and Amsterdam (CAS) have built a time-space predictive policing model, calculating the likelihood crime will occur on the basis of a wide range of variables. Skala is built on a strong theoretical framework and includes police data, infrastructural conditions, and demographic data in it’s modelling.\n",
    "\n",
    "> Several police forces in the Netherlands are turning to the Crime Anticipation System (CAS) after a successful pilot in Amsterdam in 2014. This predictive policing tool is based on the computation of crime data, socio-economic data of the neighbourhood, location specific characteristics like type of retail, distance to the highway or closest known offender (Vries, 2016; Drenth et al, 2017; William, 2014). "
   ]
  },
  {
   "cell_type": "markdown",
   "id": "0f57b0e4",
   "metadata": {
    "slideshow": {
     "slide_type": "slide"
    }
   },
   "source": [
    "#### Predictive Identification\n",
    "\n",
    "> In analysing historical police records the software found that data on an individual’s criminal history and the number of crimes committed within their social network were the strongest indicators to predict future crime (Baraniuk, 2018). In Avon and Somerset the police program Qlik aims to predict two things, the likelihood someone will commit a certain crime and offer a beat officer the ability to predict the likelihood someone will become violent during a stop (Dencik et all, 2018)."
   ]
  },
  {
   "cell_type": "markdown",
   "id": "66b9ff79",
   "metadata": {
    "slideshow": {
     "slide_type": "slide"
    }
   },
   "source": [
    "### Databases"
   ]
  },
  {
   "cell_type": "markdown",
   "id": "686ac74d",
   "metadata": {
    "slideshow": {
     "slide_type": "fragment"
    }
   },
   "source": [
    "#### Hetrogenous Databases\n",
    "> The increase of available data poses a challenge for those who try to make sense of it. Police are investing in technologies that enable them to effectively search through large quantities of heterogeneous data, from multiple sources, formats and in different databases"
   ]
  },
  {
   "cell_type": "markdown",
   "id": "efc28114",
   "metadata": {
    "slideshow": {
     "slide_type": "slide"
    }
   },
   "source": [
    "#### Mixing Data Systems\n",
    "\n",
    ">  Open source data is broadly defined and can include information from the internet and public spaces like ANPR data, but also information bought from commercial vendors (EDRi, 2017). In Hessen, Germany, police use an adapted version of Palantir’s Predictive Policing tool Gotham called Hessendata. The software is licensed to the German state for 0.01 Euro, which substantially spend 600.000 to training police officers in its use (Borchers, 2018). Hessendata builds social graphs around potential terrorist suspects, using seven data sources including police databases and Facebook profiles to create profiles and social graphs. The police have praised the tool for its interface, its ability to process data and find patterns that would have otherwise not be understood (Brühl, 2018)."
   ]
  },
  {
   "cell_type": "markdown",
   "id": "271ae1e4",
   "metadata": {
    "slideshow": {
     "slide_type": "slide"
    }
   },
   "source": [
    "#### UK DB Interoperability\n",
    "\n",
    "> The U.K and Germany are making significant investments to update and increase interoperability\n",
    "between different police databases. The U.K has a federated law enforcement structure, which\n",
    "historically has provided local police forces autonomy to buy and implement their own policing\n",
    "technologies and has led to the proliferation of different databases and database structures.\n",
    "\n",
    "> The Home Office is spearheading by the National Law Enforcement Data Programme (NLEPD), under which it aims to create the National Law Enforcement Data Service (NLEDS) , connecting the databases of the different U.K police forces into one centralized system.\n",
    "\n",
    "> The national ANPR database receives around 50 million ANPR ‘reads’ a day (Police.uk, 2019; Surveillance Camera Commissioner, 2016: 23). IBM has been awarded the £12,000,000 contract to assist the NLEPD with the transformation of the existing systems into the NLEDS (Home Office, 2016B). "
   ]
  },
  {
   "cell_type": "markdown",
   "id": "1df542a3",
   "metadata": {
    "slideshow": {
     "slide_type": "slide"
    }
   },
   "source": [
    "#### DB Proliferation\n",
    "\n",
    "> The signing of the Schengen Agreement in 1985 resulted in the disappearance of internal border checks and increased the need to share data among European nations for the purpose of border control and police cooperation. The number of data-driven programmes and subsequently the number of databases has increased since then. "
   ]
  },
  {
   "cell_type": "markdown",
   "id": "d2b4119b",
   "metadata": {
    "slideshow": {
     "slide_type": "slide"
    }
   },
   "source": [
    "#### Europol Databases\n",
    "\n",
    "> To achieve this Europol has set up the organized crime and terrorism analysis projects, under which several databases are administered. \n",
    "\n",
    "\n",
    "> 1) Hydra; prevention and combating of terrorism-related crimes, including data on individuals, groups, networks or organizations who evoke Islam to justify their actions, 2) Piracy; which covers “East of Africa and Gulf of Aden maritime piracy”, and 3) Dolphin; which includes all other terrorist activities, i.e. right-wing terrorism (Europol, 2015; Europol, 2018B). "
   ]
  },
  {
   "cell_type": "markdown",
   "id": "dd60cb31",
   "metadata": {
    "slideshow": {
     "slide_type": "slide"
    }
   },
   "source": [
    "> Europol’s website does not have any current references to the Piracy database but has added the Travellers Database, which contains information on 34.000 “foreign fighters” (EUObserver, 2016). To increase the efficient exchange of police records for criminal activities that fall outside the scope of Europol, several European Member States have successfully lobbied for the creation of EPRIS (Focant et al, 2012). \n",
    "\n",
    "> Administered by Europol, the mandate of EPRIS is to provide police with a quick overview if and where police records on an individual can be found in Europe. As such Europol is developing EPRIS as an INDEX, which allows police forces to search in each other’s databases. The result will be ‘hit’/‘no hit’; in the case of a ‘hit’ the querying members state police department can then go through the proper judicial channels to gain access to the information (Jones, 2011). "
   ]
  },
  {
   "cell_type": "markdown",
   "id": "bcaf3e76",
   "metadata": {
    "slideshow": {
     "slide_type": "slide"
    }
   },
   "source": [
    "### Ethics\n",
    "\n",
    "#### Data Storage\n",
    "\n",
    "> Investment in databases and their functionalities has met opposition from oversight commission, human rights, and public interest groups. In the U.K “The Biometrics Commissioner has warned [the police] that many of the 20 million custody photographs currently stored on their systems are being held unlawfully and might need to be destroyed” (Loeb, 2018). \n",
    "\n",
    "> Merging the three databases into the NLEDS, not only accumulates these existing concerns it also creates new ones related to proportionality, legitimacy, and ownership of data. While “proportionality will be a design feature of the system with permission-based access, with a full audit trail and a description of purpose of access. There is much work to do in terms of exact detail” (Surveillance Camera Commissioner, 2016: 23). "
   ]
  },
  {
   "cell_type": "markdown",
   "id": "20ea159a",
   "metadata": {
    "slideshow": {
     "slide_type": "slide"
    }
   },
   "source": [
    ">  There is much work to do in terms of exact detail” (Surveillance Camera Commissioner, 2016: 23). One of these exact details is around specifying who will have access to what part of the database (Big Brother Watch, 2018: 13-14). In Germany and the U.K human rights groups argue that the criteria for being included in a database are often defined too broadly in terms of ‘terrorism’, ‘violent crime’ or ‘gang-affiliated’, sweeping up to many innocent citizens (Monroy, 2018A; Amnesty International, 2018). \n",
    "\n",
    "> It can be observed that the integration of AFIS into SIS resulted in the collection and storage of more fingerprints than before, demonstrating that once functionality has been added police will use it (The Sofia Globe, 2018). "
   ]
  },
  {
   "cell_type": "markdown",
   "id": "87854cfb",
   "metadata": {
    "slideshow": {
     "slide_type": "slide"
    }
   },
   "source": [
    "#### Law breaks the Law \n",
    "\n",
    "> A clear example of this was during the G20 summit in Hamburg, Germany when the accreditation of 32 journalists was revoked as a result of them being labeled as ‘left motivated violent offenders’ in a BKA database (Monroy et al, 2018). Legal challenges revealed that the decision to revoke their accreditation was based on ‘old’ data which was never deleted. According to the BKA, it is the responsibility of the authorities, who enter data on suspects into the system, to delete old records. In most cases, data entry is done by the German states, which fail to remove ‘old’ data (Fiedler, 2017)."
   ]
  },
  {
   "cell_type": "markdown",
   "id": "40502354",
   "metadata": {
    "slideshow": {
     "slide_type": "slide"
    }
   },
   "source": [
    "> In Cardiff, the South Wales Police received £2.6m from the Police Transformation\n",
    "Fund to lead on the testing and deployment of AFR, and in some instances LFR. “South Wales Police has admitted it has used AFR technology to target petty criminals, such as ticket touts and pickpockets outside football matches, but they have also used it on peaceful protesters” (Liberty, 2018). "
   ]
  },
  {
   "cell_type": "markdown",
   "id": "8a4dd62d",
   "metadata": {
    "slideshow": {
     "slide_type": "slide"
    }
   },
   "source": [
    "> The Gang Matrix is a clear example of how biases systems, when targeting or being piloted in specific neighbourhoods and not others increases stigmatization of affected communities. In the Gang Matrix, the names of ‘gang nominals’ where shared with the education, health care and housing providers, and the Driver and Vehicle Licensing Authority (DVLA). The DVLA took actions and send letters to ‘gang nominals’ in the London borough of Haringey that they are considered unfit to drive. Some letter recipients were required to return their license immediately, while others had to provide information about their drug history and some had to take drug tests (Amnesty International, 2019; Scott, 2018: 26-27; Couchman, 2019). "
   ]
  },
  {
   "cell_type": "markdown",
   "id": "cc16793c",
   "metadata": {
    "slideshow": {
     "slide_type": "slide"
    }
   },
   "source": [
    "#### Extra-Legal Actions (no legal frameworks)\n",
    "\n",
    "> It notes that the rapidly expanding ANPR system is creating a large-scale surveillance system that operates outside the realm of parliamentary oversight and without proper legal frameworks in place (Surveillance Camera Commissioner, 2016). In the Netherlands, the police have about 450 road cameras and 150 mobile units at their disposal for ANPR. A ‘hit’ in the system will allow the police to monitor the vehicle while travelling, run additional checks or take actions (Privacy First, 2018). In January 2019 a new law on ANPR went into effect, allowing the Dutch police to capture and store the license plate, location, time and picture of the vehicle through the ANPR system for up to 28 days, regardless if it was a ‘hit’ or not. (Privacy First, 2019; Politie, 2019)."
   ]
  },
  {
   "cell_type": "markdown",
   "id": "b15f1643",
   "metadata": {
    "slideshow": {
     "slide_type": "slide"
    }
   },
   "source": [
    "#### Social Groups & Privacy\n",
    "> Scholars, technologists, human rights groups and oversight committees critique the use of real time identification systems by police. The large scale capturing of data and monitoring of individuals is considered to violate people’s fundamental human rights. \n",
    "\n",
    "> In the U.K Big Brother Watch (2019: 13) found that there is no legal basis for the use of live facial recognition, and raises concerns that real time identification systems operate in the grey areas of the law. These systems capture data in the ‘wild’, monitoring everyone who passes a camera or speaker system in the public space, and in the case of facial and voice recognition requires police departments to test flawed technology live on citizens. "
   ]
  },
  {
   "cell_type": "markdown",
   "id": "130912e9",
   "metadata": {
    "slideshow": {
     "slide_type": "slide"
    }
   },
   "source": [
    "#### Bias \n",
    "> The AFR systems used in by U.K police were found to perform abdominally poorly, with “on average, a staggering 95% of ‘matches’ wrongly identified innocent people” (Ferris, 2018: 13), who were subsequently stopped and asked to prove their identity. These findings of flawed facial recognition technology are in line with research showing inherent bias in facial recognition systems towards women and people of colour (Buolamwini et all, 2018; Ferris, 2018). "
   ]
  },
  {
   "cell_type": "markdown",
   "id": "001412c8",
   "metadata": {
    "slideshow": {
     "slide_type": "slide"
    }
   },
   "source": [
    "> London City Hall on ethics of policing has in its report on the London Met’s facial recognition trial acknowledged the validity of these concerns but does not question the use of the technology in itself. It has recommended that the Met “should publish its view on the legality of using facial recognition technology before any further trials ... and continue working closely with the relevant commissioners to ensure proper oversight of its use” (Mayor of London, 2018b)."
   ]
  },
  {
   "cell_type": "markdown",
   "id": "9dc29118",
   "metadata": {
    "slideshow": {
     "slide_type": "slide"
    }
   },
   "source": [
    "> The London MET developed the Gang Matrix to identify potential gang members and score them according to the risk they pose to society. Research by Amnesty International (2018) and Scott (2018) revealed the discriminatory nature of this predictive identification program, in which the majority of individuals were young black men. The MET was ordered to radically reform the matrix within a year by the Mayor of London, and are currently working on a new program called the ‘Concern Hub’ (Mayor or London, 2018a: Dodd, 2018; Crisp, 2019). "
   ]
  },
  {
   "cell_type": "markdown",
   "id": "acad0694",
   "metadata": {
    "slideshow": {
     "slide_type": "slide"
    }
   },
   "source": [
    "> The use of predictive policing technologies has raised many concerns. Scholars in the USA have demonstrated how historically biased police data in predictive policing programs is perpetuating the over-policing of African American neighbourhoods (Lum et al, 2016). In the U.K Liberty found a similar negative feedback loop, people from \"back, Asian and minority ethnic (BAME) communities are disproportionately more likely to be arrested, leading the program to assume, wrongly that the area in which they live or spend time are the areas where there is more crime” (Couchman, 2019: 4). "
   ]
  },
  {
   "cell_type": "markdown",
   "id": "86ff2120",
   "metadata": {
    "slideshow": {
     "slide_type": "slide"
    }
   },
   "source": [
    "### AI & Insight"
   ]
  },
  {
   "cell_type": "markdown",
   "id": "c9b65486",
   "metadata": {
    "slideshow": {
     "slide_type": "fragment"
    }
   },
   "source": [
    "#### Predictive Policing\n",
    "> Predictive policing technologies use historical and real time data to predict when and where a crime is most likely to occur or who is most likely to engage in or become a victim of criminal activity (Brakel, 2016). European police forces are investing in the development and piloting of several predictive mapping and predictive identification systems that should allow them to more efficiently allocate resources to pre-emptively intervene and deter crime. This type of policing practice shifts from investigating a crime once it has occurred or as it happens, to relying on statistical probability to intervene and take action prior to a criminal act. These predictive models are based on the assumption that when the underlying social and economic conditions remain the same crime spreads as violence will incite other violence, or a perpetrator will likely commit a similar crime in the same area (Brayne et al, 2015)."
   ]
  },
  {
   "cell_type": "markdown",
   "id": "be867d5d",
   "metadata": {
    "slideshow": {
     "slide_type": "slide"
    }
   },
   "source": [
    "#### Predictive Mapping\n",
    "\n",
    "> Police forces in Europe are each experimenting with their own approach to predictive mapping, also known as hotspot policing. There is a wide range of products being developed, of which all are primarily used to predict the locations of high impact crime, i.e. robbery, theft, and burglary. There are two distinct models, near repeat and time-space. Where the first predominantly relies on police data (type of crime, location and time) to predict where high impact crime is most likely to happen in the near future, the later also includes variable like weather, holidays, events, and distance to highways (Hardyns et all, 2017; Ferguson, 2017)."
   ]
  },
  {
   "cell_type": "markdown",
   "id": "5b91bfa9",
   "metadata": {
    "slideshow": {
     "slide_type": "slide"
    }
   },
   "source": [
    "#### Predictive Identification\n",
    "\n",
    "> Predictive identification aims at predicting who is most likely to become a potential offender or potential victim of crime. The most common practice of this type of technology in Europe is risk modelling, in which individuals are identified and ranked according to the likelihood they will engage in criminal or violent activity. In the U.K. there are three distinct predictive identification programs in London, Avon and Somerset and the West Midlands (Couchman, 2019; Amnesty International, 2018). The London MET developed the Gang Matrix to identify potential gang members and score them according to the risk they pose to society. "
   ]
  },
  {
   "cell_type": "markdown",
   "id": "d204d7c1",
   "metadata": {
    "slideshow": {
     "slide_type": "slide"
    }
   },
   "source": [
    "> In Amsterdam in the Netherlands, there are two distinct risk modelling programs, the top\n",
    "600 and the top 400 (ProKid 12).\tThe top 600 focuses on repeat offenders who in the past 5 years have been arrested for a high impact crime, and have had a criminal conviction at least twice for individuals under 21 years old, and three times for individuals over 21 years old (Openbaar Ministerie, 2019). The top 400 builds on ProKid 12, developed by the police department of Gelderland-Midden to score the likelihood of children under the age of 12 to become potential criminals. Once identified the idea is to holistically intervene and deter repeat offenders and potential criminals from engaging in future criminal activity (Abraham et al, 2011). In Germany the BKA developed the RADAR-iTE system to create a top 500 list, ranking potential terrorists according to the dangers these pose to society (BKA, 2018)."
   ]
  },
  {
   "cell_type": "markdown",
   "id": "2c0bd5d7",
   "metadata": {
    "slideshow": {
     "slide_type": "slide"
    }
   },
   "source": [
    "#### Real-time Identification\n",
    "\n",
    "> Another trend in data-driven policing practices is investments into technology that allows for the real time identification of individuals and objects, ranging from Automated License Place Readers (ANPR), Automated Facial Recognition (AFR), and voice identification systems. These technologies can be distinguished from more established forms of police identification, such as fingerprints or DNA identification, as it allows for data to be captured in the ‘wild’ without the individuals’ knowledge or consent, which can be compared to a database in real time (Surveillance Camera Commissioner, 2016; Gates, 2011). In the case of a ‘hit’, a positive identification of an individual or object against a database, "
   ]
  },
  {
   "cell_type": "markdown",
   "id": "dc0a453a",
   "metadata": {
    "slideshow": {
     "slide_type": "slide"
    }
   },
   "source": [
    "#### Automated License Plate Readers\n",
    "> ANPR is a widely adopted real time identification system in Western Europe, which aims to monitor the movements of suspects across cities and the country. Cameras on highways and roads capture images from the front and the back of a vehicle, collecting data on the license plate, the colour and model of the vehicle, and in some cases the driver or passengers (Politie-verhoor.nl, 2019). The ANPR system scans these images for license plates of passing cars which are cross-referenced with police databases, containing lists of license plate numbers which are associated suspects or persons of interest (Surveillance Camera Commissioner, 2016: 24; Politie, 2019; NPCC, 2016). "
   ]
  },
  {
   "cell_type": "markdown",
   "id": "5c80a7a0",
   "metadata": {
    "slideshow": {
     "slide_type": "slide"
    }
   },
   "source": [
    "#### Automated Facial Recognition\n",
    "\n",
    "> ). In Germany, AFR was developed and deployed for public order policing during the G20 summit in Hamburg and continues to be used today. Initially, the AFR software was used for the retrospective identification of ‘violent’ protesters at the G20 summit. Images captured through surveillance cameras were used to identify people as objects that could be followed across collected images. In a later stage, some facial prints were cross-matched against the BKA INPOL police system. In Hamburg, AFR is seen as increasing the likelihood violent crimes are detected and acted upon (Monroy, 2018B). The Dutch police use the software CATCH to match the images of suspects captured on a security camera, ATM machine, social media or ‘observation-units’ to images in a database that hold a million images of convicted or arrested individuals."
   ]
  },
  {
   "cell_type": "markdown",
   "id": "fdded7c2",
   "metadata": {
    "slideshow": {
     "slide_type": "slide"
    }
   },
   "source": [
    "#### Voice Identification \n",
    "\n",
    "> Interpol and the Italian, German, Portuguese and U.K.’s Metropolitan Police force (Met) were involved in the Speaker Identification Integrated Project (SiiP), a technology developed by Verint Systems Ltd and co-financed by the EU’s funding program Horizon2020 . The SiiP database operate alongside Interpol’s existing fingerprint and face database, and allow police to match voice samples taken from YouTube, Facebook, phone calls, voice-over-internetprotocol (VOIP) recordings, and recordings from CCTV cameras to voice recordings stored in a database (Kofman, 2018; Dumiak, 2018; Monroy, 2017). "
   ]
  },
  {
   "cell_type": "markdown",
   "id": "80be7a6c",
   "metadata": {
    "slideshow": {
     "slide_type": "slide"
    }
   },
   "source": [
    "### Regulatory Challenges"
   ]
  },
  {
   "cell_type": "markdown",
   "id": "f43b94af",
   "metadata": {
    "slideshow": {
     "slide_type": "fragment"
    }
   },
   "source": [
    "#### Changing Laws\n",
    "> In 2019 the German ANPR systems became contested, the German Constitutional Court ruled that mass registration of license plates infringes on the right to informational self-determination and limits individual freedoms"
   ]
  },
  {
   "cell_type": "markdown",
   "id": "7dceed84",
   "metadata": {
    "slideshow": {
     "slide_type": "slide"
    }
   },
   "source": [
    "#### International Regulartory Concerns\n",
    "\n",
    "> Police forces across Europe are mainly turning to Palantir , a big data analytics company from the US with a track record of contracting for police and secret services across the world, for the integration and searching of heterogeneous databases, and social graphing of suspects\n",
    "\n",
    "> European human rights groups, oversight committees, and scholars have been less vocal on the use of Palantir technologies by European police forces then they have been on the creation of databases, real time identification, and predictive policing systems. Concerns have been raised on the use of an American company for crunching French police data (Samama, 2018), how the use of Palantir software might not be in-line with national and European data protection regulation (EDRi, 2017; Technology World, 2018) or more fundamentally how the use of Hessendata by police to track suspects blurs the separation between the German police and secret service (Kurz, 2018). "
   ]
  },
  {
   "cell_type": "markdown",
   "id": "978f81bf",
   "metadata": {
    "slideshow": {
     "slide_type": "slide"
    }
   },
   "source": [
    "## Articles\n",
    "### References\n",
    "* Data Driven Policing in the Context of Europe, Fieke Jansen\n",
    "\n",
    "*  DO CRIMINALS DREAM OF ELECTRIC SHEEP?\n",
    "    * European Union Agency for Law Enforcement Cooperation 2019."
   ]
  },
  {
   "cell_type": "markdown",
   "id": "2b13806a",
   "metadata": {
    "slideshow": {
     "slide_type": "slide"
    }
   },
   "source": [
    "### Further Reading: General Topics\n",
    "·               HOW TO CATCH BAD GUYS WITH THE HELP OF DATA – THE RIGHT WAY. - https://www.europol.europa.eu/newsroom/news/how-to-catch-bad-guys-help-of-data-%E2%80%93-right-way \n",
    "\n",
    "·               Malicious Uses and Abuses of Artificial Intelligence - https://www.europol.europa.eu/sites/default/files/documents/malicious_uses_and_abuses_of_artificial_intelligence_europol.pdf  \n",
    "\n",
    "·               INTERNET ORGANISED CRIME THREAT ASSESSMENT (IOCTA) 2020: https://www.europol.europa.eu/activities-services/main-reports/internet-organised-crime-threat-assessment-iocta-2020\n",
    "\n",
    "\n",
    "·               Europol Innovation Lab - https://data.consilium.europa.eu/doc/document/ST-7829-2020-INIT/en/pdf"
   ]
  },
  {
   "cell_type": "markdown",
   "id": "f14fbbdc",
   "metadata": {
    "slideshow": {
     "slide_type": "slide"
    }
   },
   "source": [
    "Loeb, J. (2018). AI and the future of policing: algorithms on the beat https://eandt.theiet.org/content /articles/2018/04/ai-and-the-future-of-policing-algorithms-on-the-beat/\n",
    "\n",
    "Hardyns, W. & Rummens, A. (2017). Predictive Policing as a New Tool for Law Enforcement? Recent Developments and Challenges. European Journal on Criminal Policy and Research. https: //doi.org/10.1007/s10610-017-9361-2"
   ]
  },
  {
   "cell_type": "markdown",
   "id": "62bafedc",
   "metadata": {
    "slideshow": {
     "slide_type": "slide"
    }
   },
   "source": [
    "### Further Reading: Projects\n",
    "Kofman, A. (2018). Interpol Rolls Out International Voice Identification Database Using Samples From 192 Law Enforcement Agencies. The Intercept, June 25th 2018 https://theintercept.com/201 8/06/25/interpol-voice-identification-database/\n",
    "\n",
    "Gregorová, M. (2019). Tracking down license plate scanners (ANPR): Pirate Party publishes locations and presents detection device. European Pirate Party, February 4th 2019. https://europe an-pirateparty.eu/tracking-down-license-plate-scanners-anpr-pirate-party-publishes-locationsand-presents-detection-device/\n",
    "\n",
    "Vries, A. (2016) How big data is reducing burglaries in Amsterdam https://socialmediadna.org/howbig-data-is-reducing-burglaries-in-amsterdam/\n",
    "\n",
    "\n",
    "Professional Security (2018). New ‘ring of steel’ proposed. March 28th, 2018. http://www.profes sionalsecurity.co.uk/news/interviews/new-ring-of-steel-proposed/"
   ]
  },
  {
   "cell_type": "markdown",
   "id": "e125e4d9",
   "metadata": {
    "slideshow": {
     "slide_type": "slide"
    }
   },
   "source": [
    "WHITE PAPER On Artificial Intelligence - A European approach to excellence and trust - https://ec.europa.eu/info/sites/info/files/commission-white-paper-artificial-intelligence-feb2020_en.pdf\n",
    "\n",
    "AIDA Project - https://www.project-aida.eu/ Artificial Intelligence and advanced Data Analytics for Law Enforcement Agencies - https://cordis.europa.eu/project/id/883596\n",
    "\n",
    "INFINITY project - https://cordis.europa.eu/project/id/883293\n",
    "\n",
    "GRACE - https://www.grace-fct.eu/ Global Response Against Child Exploitation https://cordis.europa.eu/project/id/883341\n",
    " \n",
    "\n",
    " araniuk, C. (2018).\tExclusive: UK police wants AI to stop violent crime before it happens. NewScientist, November 26th 2018. https://www.newscientist.com/article/2186512-exclusiveuk-police-wants-ai-to-stop-violent-crime-before-it-happens/\n",
    "\n",
    "Gates, K. A. (2011). Our Biometric Future: Facial Recognition Technology and the Culture of Surveillance. New York: New York University Press"
   ]
  },
  {
   "cell_type": "markdown",
   "id": "c91dbd21",
   "metadata": {
    "slideshow": {
     "slide_type": "slide"
    }
   },
   "source": [
    "### Further Reading: Law & Ethics\n",
    "Mayor of London (2018a). Review of the MPS Gangs Matrix. December 21st 2018. https://www.lo ndon.gov.uk/mopac-publications-0/review-mps-gangs-matrix\n",
    "\n",
    "Mayor of London (2018b). Ethics Panel delivers recommendations for use of facial recognition. July 20th 2018. https://www.london.gov.uk/press-releases/mayoral/independent-panel-deliversreport-on-polices-use\n",
    "\n",
    "Monroy, M. (2018A). Suspicion files: German police databases on political activists. State Watch, April 2018. http://statewatch.org/analyses/no-326-germany-police-databases.pdf\n",
    "\n",
    "EDRi (2017). New legal framework for predictive policing in Denmark.\tFebruary 22nd 2017 https: //edri.org/new-legal-framework-for-predictive-policing-in-denmark/\n",
    "\n",
    "Couchman, H. (2019). Policing by Machine: predictive policing and the threats to our rights. Liberty https://www.libertyhumanrights.org.uk/sites/default/files/LIB%2011%20Predictive%2 0Policing%20Report%20WEB.pdf"
   ]
  },
  {
   "cell_type": "markdown",
   "id": "18edde88",
   "metadata": {
    "slideshow": {
     "slide_type": "slide"
    }
   },
   "source": [
    "Brayne, S., Rosenblat, A & Boyd, D. (2015). Predictive policing. In: Data & Civil Rights: A New Era of Policing and Justice\n",
    "\n",
    "\n",
    "Brayne, S. (2017). Big Data Surveillance: The Case of Policing. American Sociological Review 2017, Vol. 82(5) 977-1008\n",
    "\n",
    "Big Brother Watch (2018). Home Affairs Select Committee: Policing for the Future inquiry Big Brother Watch – Supplementary evidence. https://bigbrotherwatch.org.uk/wp-content/uploads/2018/0 7/Big-Brother-Watch-evidence-Policing-for-the-future-inquiry.pdf\n",
    "\n",
    "Dodd, V (2018). Police gang strategy ’targets people unlikely to commit violence’. The Guardian, May 7th 2018 https://www.theguardian.com/uk-news/2018/may/07/police-gang-violence-ma trix-strategy-haringey-london-assessments"
   ]
  },
  {
   "cell_type": "markdown",
   "id": "88b8738f",
   "metadata": {
    "slideshow": {
     "slide_type": "slide"
    }
   },
   "source": [
    "## News\n",
    "* https://projects.tampabay.com/projects/2020/investigations/police-pasco-sheriff-targeted/intelligence-led-policing/"
   ]
  },
  {
   "cell_type": "markdown",
   "id": "fe40428d",
   "metadata": {
    "slideshow": {
     "slide_type": "slide"
    }
   },
   "source": [
    "## Videos\n",
    "* Decision Quality in Predictive Policing / Prescriptive Analytics\n",
    "    * https://www.youtube.com/watch?v=96yW9u78swg\n",
    "* Big Data Predictive Policing Panel\n",
    "    * https://www.youtube.com/watch?v=T_JYA3QOCcc\n",
    "* Predictive Policing Goes Wroing (Ethics)\n",
    "    * https://www.youtube.com/watch?v=LM5MNOveTHM\n",
    "* West-Midlands Police: Data Insights (Case Study)\n",
    "    * https://www.youtube.com/watch?v=ECqV12ZvVak\n",
    "* Tyranny of the Algorithm (ethics)\n",
    "    * \"Human Rights Challenges in Predictive Analytics\"\n",
    "        * https://en.wikipedia.org/wiki/Latanya_Sweeney\n",
    "    * https://www.youtube.com/watch?v=rxuIL-EjyC4&list=PLJkLD_s9pYaY_WD6emzzqs3gjXBO2Zbyq\n",
    "* Crime Stats\n",
    "    * https://www.youtube.com/watch?v=SxNnQXdsrqY\n",
    "* Machine Learning in Child Social Care (Ethics)\n",
    "    * https://www.youtube.com/watch?v=R7gEOvfSOfY&list=PLuD_SqLtxSdUCiMvvRMcSVvMh1Dk5ZfQt\n",
    "    "
   ]
  },
  {
   "cell_type": "markdown",
   "id": "acc9ea3f",
   "metadata": {
    "slideshow": {
     "slide_type": "slide"
    }
   },
   "source": [
    "## Tools\n",
    "\n",
    "* Data Warehouse, Cataglogues and Lakes\n",
    "    * https://databricks.com/blog/2021/05/26/introducing-databricks-unity-catalog-fine-grained-governance-for-data-and-ai-on-the-lakehouse.html"
   ]
  }
 ],
 "metadata": {
  "celltoolbar": "Slideshow",
  "kernelspec": {
   "display_name": "Python 3",
   "language": "python",
   "name": "python3"
  },
  "language_info": {
   "codemirror_mode": {
    "name": "ipython",
    "version": 3
   },
   "file_extension": ".py",
   "mimetype": "text/x-python",
   "name": "python",
   "nbconvert_exporter": "python",
   "pygments_lexer": "ipython3",
   "version": "3.8.3"
  }
 },
 "nbformat": 4,
 "nbformat_minor": 5
}

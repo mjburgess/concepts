{
 "cells": [
  {
   "cell_type": "markdown",
   "metadata": {
    "slideshow": {
     "slide_type": "slide"
    }
   },
   "source": [
    "# Fundamental Concepts in Data Insight: \n",
    "## <font color=indigo> Policing with Data &amp; Case Studies in UK Policing </font>\n",
    "\n",
    "### Fundamentals for a General Audience\n",
    "---\n"
   ]
  },
  {
   "cell_type": "markdown",
   "metadata": {
    "slideshow": {
     "slide_type": "slide"
    }
   },
   "source": [
    "QA Ltd. owns the copyright and other intellectual property rights of this material and asserts its moral rights as the author. All rights reserved."
   ]
  },
  {
   "cell_type": "markdown",
   "metadata": {
    "slideshow": {
     "slide_type": "slide"
    }
   },
   "source": [
    "### **Policing with Data &amp; Case Studies in UK Policing**\n",
    "* Case Studies in Problems\n",
    "    * Challenges in Data Collection\n",
    "    * Case Study: House Burglery & Data Siloing\n",
    "* WB. Recording a Crime\n",
    "    * Review: Recording the Crime\n",
    "    * Review: Intelligence Gathering\n",
    "    * Review: Arrest\n",
    "* Challenges in Data Quality\n",
    "    * Problem: Structure\n",
    "    * Problem: Field Structure\n",
    "* Problems\n",
    "    * Problem: Uniqueness\n",
    "* Challenges in Modelling\n",
    "    * Problem: Behavioural Change\n",
    "    * WB. Future = Past?\n",
    "    * WB. Criminal Network Analysis\n",
    "        * Review: Problem: Network Analysis\n",
    "    * Problem: Priotisation of Offenders\n",
    "        * WB. Factor Analysis\n",
    "        "
   ]
  },
  {
   "cell_type": "markdown",
   "metadata": {
    "slideshow": {
     "slide_type": "slide"
    }
   },
   "source": [
    "* Challenges in Research & Experimentation\n",
    "    * Problem: Getting Data\n",
    "        * Problem: Unifying and Annoymising Data\n",
    "        * Projects: Europol EPRIS\n",
    "    * Problem: Decision Quality\n",
    "    * Break Exercise\n",
    "* Case Studies in Solutions\n",
    "    * Case Studies: Supervised Learning\n",
    "        * for Interview Crime Lists\n",
    "    * WB. Supervised Learning\n",
    "    * Case Studies: Unsupervised Learning\n",
    "        * for Early Detection of Crime Series\n",
    "    * WB. Unsupervised Learning"
   ]
  },
  {
   "cell_type": "code",
   "execution_count": 1,
   "metadata": {
    "slideshow": {
     "slide_type": "skip"
    }
   },
   "outputs": [],
   "source": [
    "import pandas as pd"
   ]
  },
  {
   "cell_type": "markdown",
   "metadata": {
    "slideshow": {
     "slide_type": "slide"
    }
   },
   "source": [
    "## Case Studies in Problems\n",
    "### Challenges in Data Collection"
   ]
  },
  {
   "cell_type": "markdown",
   "metadata": {
    "slideshow": {
     "slide_type": "slide"
    }
   },
   "source": [
    "### Case Study: House Burglery & Data Siloing"
   ]
  },
  {
   "cell_type": "markdown",
   "metadata": {
    "slideshow": {
     "slide_type": "slide"
    }
   },
   "source": [
    "## WB. Recording a Crime"
   ]
  },
  {
   "cell_type": "markdown",
   "metadata": {
    "slideshow": {
     "slide_type": "slide"
    }
   },
   "source": [
    "## WB. Recording a Crime"
   ]
  },
  {
   "cell_type": "markdown",
   "metadata": {
    "slideshow": {
     "slide_type": "slide"
    }
   },
   "source": [
    "## WB. Recording a Crime"
   ]
  },
  {
   "cell_type": "markdown",
   "metadata": {
    "slideshow": {
     "slide_type": "slide"
    }
   },
   "source": [
    "### Review: Recording the Crime\n",
    "* House Burgled\n",
    "    * Crime Reported \n",
    "    * Command & Control DB\n",
    "\n",
    "* Officer Attends Crime Scene\n",
    "    * Takes Details \n",
    "    * Crime Recording System\n",
    "        * Command & Control not sync'd\n",
    "\n",
    "* CSI attends Crime Scene\n",
    "    * CSI updates Forensic Reporting System (not sync'd)"
   ]
  },
  {
   "cell_type": "markdown",
   "metadata": {
    "slideshow": {
     "slide_type": "slide"
    }
   },
   "source": [
    "### Review: Intelligence Gathering\n",
    "* National Intelligence Model\n",
    "    * prescribes a tasking-and-coordinating session \n",
    "    * http://www.intelligenceanalysis.net/Legal%20-%20Gwent%20NIM%20policy.pdf\n",
    "    \n",
    "* eg., prescribe Stop & Search in areas\n",
    "    * Stop & Search System\n",
    "    * to Gather Intelligence, eg., \"Saw X near Y doing Z\"\n",
    "        * Intelligence Database\n",
    "        * National Grading model \n",
    "            * rating of intelligence (/5)\n",
    "            * who it can be shared with, quality, etc."
   ]
  },
  {
   "cell_type": "markdown",
   "metadata": {
    "slideshow": {
     "slide_type": "slide"
    }
   },
   "source": [
    "### Review: Arrest\n",
    "\n",
    "* Offender Arrested\n",
    "    * Custody System\n",
    "* Crime Colved\n",
    "    * Crime Nominals System \n",
    "        * suspects, victims, convicts\n",
    "    * Crime MOs registered\n",
    "\n",
    "* National Databses Sync'd\n",
    "    * https://en.wikipedia.org/wiki/Police_National_Computer\n",
    "    * https://en.wikipedia.org/wiki/Impact_Nominal_Index\n",
    "    \n",
    "    \n",
    "  "
   ]
  },
  {
   "cell_type": "markdown",
   "metadata": {
    "slideshow": {
     "slide_type": "slide"
    }
   },
   "source": [
    "## Challenges in Data Quality"
   ]
  },
  {
   "cell_type": "markdown",
   "metadata": {
    "slideshow": {
     "slide_type": "slide"
    }
   },
   "source": [
    "### Problem: Structure\n",
    "* structured data \n",
    "    * fields, etc. in the systems\n",
    "* semi-structured data\n",
    "    * field report forms -> automated ingest\n",
    "* unstructued data\n",
    "    * raw police officer notes\n",
    "    "
   ]
  },
  {
   "cell_type": "markdown",
   "metadata": {
    "slideshow": {
     "slide_type": "slide"
    }
   },
   "source": [
    "### Problem: Field Structure"
   ]
  },
  {
   "cell_type": "code",
   "execution_count": 4,
   "metadata": {
    "scrolled": true,
    "slideshow": {
     "slide_type": "fragment"
    }
   },
   "outputs": [
    {
     "data": {
      "text/html": [
       "<div>\n",
       "<style scoped>\n",
       "    .dataframe tbody tr th:only-of-type {\n",
       "        vertical-align: middle;\n",
       "    }\n",
       "\n",
       "    .dataframe tbody tr th {\n",
       "        vertical-align: top;\n",
       "    }\n",
       "\n",
       "    .dataframe thead th {\n",
       "        text-align: right;\n",
       "    }\n",
       "</style>\n",
       "<table border=\"1\" class=\"dataframe\">\n",
       "  <thead>\n",
       "    <tr style=\"text-align: right;\">\n",
       "      <th></th>\n",
       "      <th>Locations</th>\n",
       "      <th>MO Description</th>\n",
       "      <th>MO notes</th>\n",
       "      <th>Suspect Description</th>\n",
       "    </tr>\n",
       "    <tr>\n",
       "      <th>CRN</th>\n",
       "      <th></th>\n",
       "      <th></th>\n",
       "      <th></th>\n",
       "      <th></th>\n",
       "    </tr>\n",
       "  </thead>\n",
       "  <tbody>\n",
       "    <tr>\n",
       "      <th>ABC-1</th>\n",
       "      <td>leigh on sea, essex</td>\n",
       "      <td>WINDOW 3f SMASH NA NA NA NA</td>\n",
       "      <td>suspect seen fleeing scene</td>\n",
       "      <td>two susepcts c. 6ft brown hair</td>\n",
       "    </tr>\n",
       "    <tr>\n",
       "      <th>ABC-2</th>\n",
       "      <td>leagh on see</td>\n",
       "      <td>DOOR 5f FORCED NA NA ALL NA</td>\n",
       "      <td>only jewlery taken</td>\n",
       "      <td>6f and 5ft 6 seen together fleeing</td>\n",
       "    </tr>\n",
       "    <tr>\n",
       "      <th>ABC-2</th>\n",
       "      <td>leigh-on-sea</td>\n",
       "      <td>REAR WINDOW NA NA NA</td>\n",
       "      <td>took all cash</td>\n",
       "      <td>brown hair</td>\n",
       "    </tr>\n",
       "  </tbody>\n",
       "</table>\n",
       "</div>"
      ],
      "text/plain": [
       "                 Locations               MO Description  \\\n",
       "CRN                                                       \n",
       "ABC-1  leigh on sea, essex  WINDOW 3f SMASH NA NA NA NA   \n",
       "ABC-2         leagh on see  DOOR 5f FORCED NA NA ALL NA   \n",
       "ABC-2         leigh-on-sea         REAR WINDOW NA NA NA   \n",
       "\n",
       "                         MO notes                 Suspect Description  \n",
       "CRN                                                                    \n",
       "ABC-1  suspect seen fleeing scene      two susepcts c. 6ft brown hair  \n",
       "ABC-2          only jewlery taken  6f and 5ft 6 seen together fleeing  \n",
       "ABC-2               took all cash                          brown hair  "
      ]
     },
     "execution_count": 4,
     "metadata": {},
     "output_type": "execute_result"
    }
   ],
   "source": [
    "pd.read_csv('crimes_freetext.csv', index_col='CRN')"
   ]
  },
  {
   "cell_type": "markdown",
   "metadata": {
    "slideshow": {
     "slide_type": "slide"
    }
   },
   "source": [
    "## Problems\n",
    "\n",
    "* locations\n",
    "    * free text fields\n",
    "    * hard to parse names (comma, dash..)\n",
    "* MO description\n",
    "    * populated by forms\n",
    "        * repeated \"NOT KNOWN\"\n",
    "* MO notes\n",
    "    * free text\n",
    "    * NLP to parse MO notes \"Mosaic Project\" (UK)\n",
    "        * NLP company behind project at a loss on police data!\n",
    "* suspect descriptions\n",
    "    * free text\n",
    "    * 1m64,  5f5, etc.\n",
    "    * do the descriptions relate to a single offender, or multiple?\n",
    "        * \"how many nominals?\""
   ]
  },
  {
   "cell_type": "markdown",
   "metadata": {
    "slideshow": {
     "slide_type": "slide"
    }
   },
   "source": [
    "### Problem: Uniqueness\n",
    "\n",
    "* duplication \n",
    "    * unique reference number (URN) per person?\n",
    "        * no, operates create additional records \"for convenience\"\n",
    "    * https://www.experian.co.uk/business/glossary/golden-nominal/\n",
    "\n",
    "* \"golden nominal\" -- one identifier\n",
    "    * free text fields need matching\n",
    "        * phonetic matches?\n",
    "        * complex text matching: lucene\n",
    "        * https://lucene.apache.org/core/6_1_0/analyzers-phonetic/index.html\n",
    "        * https://en.wikipedia.org/wiki/Soundex\n",
    "    * quality? \n",
    "        * 98% per individual record match\n",
    "        * 85% in the aggregate\n",
    "            * compared to human performance"
   ]
  },
  {
   "cell_type": "markdown",
   "metadata": {
    "slideshow": {
     "slide_type": "slide"
    }
   },
   "source": [
    "## Challenges in Modelling"
   ]
  },
  {
   "cell_type": "markdown",
   "metadata": {
    "slideshow": {
     "slide_type": "slide"
    }
   },
   "source": [
    "### Problem: Behavioural Change\n",
    "* what are the statistical presumptions of predictive analysis?\n",
    "    * historical distribution matches future distribution\n",
    "* offenders learn from other offenders\n",
    "    * prison\n",
    "    * MO changes"
   ]
  },
  {
   "cell_type": "markdown",
   "metadata": {
    "slideshow": {
     "slide_type": "slide"
    }
   },
   "source": [
    "## WB. Future = Past?"
   ]
  },
  {
   "cell_type": "markdown",
   "metadata": {
    "slideshow": {
     "slide_type": "slide"
    }
   },
   "source": [
    "## WB. Criminal Network Analysis"
   ]
  },
  {
   "cell_type": "markdown",
   "metadata": {
    "slideshow": {
     "slide_type": "slide"
    }
   },
   "source": [
    "## WB. Criminal Network Analysis"
   ]
  },
  {
   "cell_type": "markdown",
   "metadata": {
    "slideshow": {
     "slide_type": "slide"
    }
   },
   "source": [
    "### Review: Problem: Network Analysis\n",
    "\n",
    "* criminal network analysis\n",
    "    *  https://www.ibm.com/security/intelligence-analysis/i2/law-enforcement\n",
    "    * overt = public social network, friends\n",
    "    * covert = contact events hidden from view\n",
    "        * connections only visible when suspects interact with police systems\n",
    "            * criminals work together on crimes\n",
    "            * two nominals against one crime\n",
    "                * aside: link to stop & search, other dbs\n",
    "        * social network algs don't work on covert networks\n",
    "    * who do you target in a network?\n",
    "        * degrees of separation\n",
    "            * exponential number of nodes included\n",
    "            * low-level crimes = 2deg\n",
    "            * high-level = maybe 6deg, ie. gloabl\n",
    "\n",
    "* consider organized crime network\n",
    "    * how do you disrupt?\n",
    "    * target by node centrality?\n",
    "        * eg., betweenness\n",
    "        * but centrality is often cooincidental\n",
    "            * ..in covert networks!"
   ]
  },
  {
   "cell_type": "markdown",
   "metadata": {
    "slideshow": {
     "slide_type": "slide"
    }
   },
   "source": [
    "### Problem: Priotisation of Offenders\n",
    "\n",
    "* very few single offenders\n",
    "    * vast majority repeats\n",
    "* automated process considers:\n",
    "    * MO, spatial & temporal factors\n",
    "    * high priority in overlap\n",
    "* how do you target?\n",
    "    * aside: targeting can be simple as sending letter, \"we are watching\"\n",
    "    "
   ]
  },
  {
   "cell_type": "markdown",
   "metadata": {
    "slideshow": {
     "slide_type": "slide"
    }
   },
   "source": [
    "## WB. Factor Analysis"
   ]
  },
  {
   "cell_type": "markdown",
   "metadata": {
    "slideshow": {
     "slide_type": "slide"
    }
   },
   "source": [
    "### Problem: Priotisation of Offenders\n",
    "* typical factor analysis, (run monthly?), risk score:\n",
    "    * https://www.gov.uk/guidance/risk-assessment-of-offenders\n",
    "    * l2 offender\n",
    "        * cross border, per crime per border\n",
    "    * offten priority\n",
    "        * high crime area, live\n",
    "    * live priority \n",
    "        * hime crime area, visit\n",
    "    * community saftey\n",
    "        * weapons, ...\n",
    "    * etc.\n",
    "    * (external: beat area crime)\n",
    "* resource & task modelling\n",
    "    * how do you get police in right place at right time?\n",
    "    * \"person flows\" through built-up areas\n",
    "        * criminal flows, enviromental modelling"
   ]
  },
  {
   "cell_type": "markdown",
   "metadata": {
    "slideshow": {
     "slide_type": "slide"
    }
   },
   "source": [
    "## Challenges in Research & Experimentation\n",
    "* goal: find operationally effective methods"
   ]
  },
  {
   "cell_type": "markdown",
   "metadata": {
    "slideshow": {
     "slide_type": "slide"
    }
   },
   "source": [
    "## Problem: Getting Data\n",
    "* excess of 200 databases\n",
    "    * joins taken in excel\n",
    "    * some systems cannot be automated\n",
    "    * built for *reporting* not insight\n",
    "    * legal data retention rates\n",
    "* national dbs often require special perm. to access\n",
    "    * national systems often uniform (home office, national police dbs, are uniform)\n",
    "    * one-off logins: login, export, logoff\n",
    "* locals all different\n",
    "    * some regional colab, \"7 force colab\"\n",
    "    * https://www.theguardian.com/government-computing-network/2012/feb/03/police-northgate-athena-it-framework\n",
    "    * https://www.bedfordshire.police.uk/information-and-services/About-us/Seven-Force-Strategic-Collaboration\n",
    "* multi-agency data\n",
    "    * data sharing agreement\n",
    "        * some agencies are reluctant to share"
   ]
  },
  {
   "cell_type": "markdown",
   "metadata": {
    "slideshow": {
     "slide_type": "slide"
    }
   },
   "source": [
    "### Problem: Unifying and Annoymising Data\n",
    "* unifying data across dbs,\n",
    "    * universal id for *a crime*\n",
    "        * very hard!\n",
    "    * associating: case data, witness statements\n",
    "        * against crimes, nominals, ANPRI, ...\n",
    "    * databases (+1m/db/yr)\n",
    "        * stop and search, crime, finance\n",
    "        * custody, anpr\n",
    "        * nominals (suspects, victims,...)\n",
    "        * command & control, property\n",
    "* can you annoymise data?\n",
    "    * pseudo-anon requires registering/legal"
   ]
  },
  {
   "cell_type": "markdown",
   "metadata": {
    "slideshow": {
     "slide_type": "slide"
    }
   },
   "source": [
    "### Projects: Europol EPRIS\n",
    "\n",
    "> Europol’s website does not have any current references to the Piracy database but has added the Travellers Database, which contains information on 34.000 “foreign fighters” (EUObserver, 2016). To increase the efficient exchange of police records for criminal activities that fall outside the scope of Europol, several European Member States have successfully lobbied for the creation of EPRIS (Focant et al, 2012). \n",
    "\n",
    "> Administered by Europol, the mandate of EPRIS is to provide police with a quick overview if and where police records on an individual can be found in Europe. As such Europol is developing EPRIS as an INDEX, which allows police forces to search in each other’s databases. The result will be ‘hit’/‘no hit’; in the case of a ‘hit’ the querying members state police department can then go through the proper judicial channels to gain access to the information (Jones, 2011). "
   ]
  },
  {
   "cell_type": "markdown",
   "metadata": {
    "slideshow": {
     "slide_type": "slide"
    }
   },
   "source": [
    "## Problem: Decision Quality\n",
    "* capturing investigative thought process\n",
    "    * eg., crimes occuring over 3mo\n",
    "        * breaking into vans\n",
    "        * taking sat navs\n",
    "        * 30+ crimes for one group\n",
    "        * single investigator\n",
    "            * how do they share their knowledge?\n",
    "* analyst end-user interfaces and visuals\n",
    "    * current systems often very manual, but high-quality\n",
    "        * consider eg., court room use\n",
    "    * \"analyst workbench\"\n",
    "        * https://www.ibm.com/uk-en/products/i2-analysts-notebook -- £8k!!!!/user\n",
    "    * visualization extremely important tool\n",
    "        * most UK analysts use Excel\n",
    "            * not sufficient for policing\n",
    "* the system itself will never be used in court\n",
    "    * so lower evidence-base required\n",
    "    * TRL framework: TRL 5/6\n",
    "    * https://en.wikipedia.org/wiki/Technology_readiness_level\n",
    "* serious and organized crime \"ecosystem\"  \n",
    "    * http://old.heuni.fi/material/attachments/heuni/papers/6Ktmwqur9/HEUNI_papers_26.pdf\n",
    "    "
   ]
  },
  {
   "cell_type": "markdown",
   "metadata": {
    "slideshow": {
     "slide_type": "slide"
    }
   },
   "source": [
    "## Break Exercise\n",
    "* What are problems?\n",
    "* How would you solve them?"
   ]
  },
  {
   "cell_type": "markdown",
   "metadata": {
    "slideshow": {
     "slide_type": "slide"
    }
   },
   "source": [
    "## Case Studies in Solutions"
   ]
  },
  {
   "cell_type": "markdown",
   "metadata": {
    "slideshow": {
     "slide_type": "fragment"
    }
   },
   "source": [
    "---"
   ]
  },
  {
   "cell_type": "markdown",
   "metadata": {
    "slideshow": {
     "slide_type": "slide"
    }
   },
   "source": [
    "## Case Studies: Supervised Learning\n",
    "#### for Interview Crime Lists\n",
    "\n",
    "* Suspects may find an advantage in admitting many crimes at once\n",
    "    * concurrent/reduced sentence vs. sequential\n",
    "* Problem: find related crimes\n",
    "    * analyst time constrained\n",
    "    * examine current crime, find some matches\n",
    "        * interviewer (officer) will go thru with suspect\n",
    "* Possible Solution: blackbox technique\n",
    "    * train on historical cases\n",
    "    * beat/crime/postcode/basic-command-unit (BCU)\n",
    "        * https://en.wikipedia.org/wiki/Basic_command_unit\n",
    "    * extant system\n",
    "* Results of modelling  \n",
    "    * \"accuracy\" > 75%\n",
    "    * 15min of computation time\n",
    "    * cross-reference with crime-nominals-system"
   ]
  },
  {
   "cell_type": "markdown",
   "metadata": {
    "slideshow": {
     "slide_type": "slide"
    }
   },
   "source": [
    "## WB. Supervised Learning"
   ]
  },
  {
   "cell_type": "markdown",
   "metadata": {
    "slideshow": {
     "slide_type": "slide"
    }
   },
   "source": [
    "## WB. Supervised Learning"
   ]
  },
  {
   "cell_type": "markdown",
   "metadata": {
    "slideshow": {
     "slide_type": "slide"
    }
   },
   "source": [
    "## Case Studies: Unsupervised Learning\n",
    "#### for Early Detection of Crime Series\n",
    "\n",
    "* Are crimes linked?\n",
    "    * Can we detected it?\n",
    "* Possible solution: unsupervised technique\n",
    "    * clustering\n",
    "        * last 3mo of crimes\n",
    "            * NLP/parse free text for keywords\n",
    "        * \"self-organizing map\" \n",
    "            * https://en.wikipedia.org/wiki/Self-organizing_map\n",
    "        * cluster size = quality of cluster\n",
    "            * 7 crimes good-quality\n",
    "            * 40, bad\n",
    "    * ie., basically clustering / factor analysis\n",
    "        * determines crime similarity scores\n",
    "        "
   ]
  },
  {
   "cell_type": "markdown",
   "metadata": {
    "slideshow": {
     "slide_type": "slide"
    }
   },
   "source": [
    "* produce list of crimes from clustering\n",
    "    * eg., MOs:\n",
    "        * entry = rear, side\n",
    "        * feature = window, door\n",
    "        * feature type = fixed, roller\n",
    "        * method = climbed, smash\n",
    "        * rooms = all, one, up, donw\n",
    "        * search type = tidy, untidy\n",
    "        * unique id, name, dob,...\n",
    "    * and thef., suggest *all* of the above for future crimes!\n",
    "        * requires analytical judgement\n",
    "* this is not *evidence*\n",
    "    * it is grounds for evidence collection!\n",
    "    * false positives, etc."
   ]
  },
  {
   "cell_type": "markdown",
   "metadata": {
    "slideshow": {
     "slide_type": "slide"
    }
   },
   "source": [
    "## WB. Unsupervised Learning"
   ]
  },
  {
   "cell_type": "markdown",
   "metadata": {
    "slideshow": {
     "slide_type": "slide"
    }
   },
   "source": [
    "## WB. Unsupervised Learning"
   ]
  },
  {
   "cell_type": "markdown",
   "metadata": {
    "slideshow": {
     "slide_type": "slide"
    }
   },
   "source": [
    "## WB. Unsupervised Learning"
   ]
  },
  {
   "cell_type": "markdown",
   "metadata": {
    "slideshow": {
     "slide_type": "slide"
    }
   },
   "source": [
    "## Appendix"
   ]
  },
  {
   "cell_type": "markdown",
   "metadata": {
    "slideshow": {
     "slide_type": "slide"
    }
   },
   "source": [
    "## DB Case Studies"
   ]
  },
  {
   "cell_type": "markdown",
   "metadata": {
    "slideshow": {
     "slide_type": "fragment"
    }
   },
   "source": [
    "#### Project: UK DB Interoperability\n",
    "\n",
    "> The U.K and Germany are making significant investments to update and increase interoperability\n",
    "between different police databases. The U.K has a federated law enforcement structure, which\n",
    "historically has provided local police forces autonomy to buy and implement their own policing\n",
    "technologies and has led to the proliferation of different databases and database structures."
   ]
  },
  {
   "cell_type": "markdown",
   "metadata": {
    "slideshow": {
     "slide_type": "slide"
    }
   },
   "source": [
    "#### Project: UK DB Interoperability\n",
    "\n",
    "> The Home Office is spearheading by the National Law Enforcement Data Programme (NLEPD), under which it aims to create the National Law Enforcement Data Service (NLEDS) , connecting the databases of the different U.K police forces into one centralized system."
   ]
  },
  {
   "cell_type": "markdown",
   "metadata": {
    "slideshow": {
     "slide_type": "slide"
    }
   },
   "source": [
    "#### Project: UK DB Interoperability\n",
    "\n",
    "> The national ANPR database receives around 50 million ANPR ‘reads’ a day (Police.uk, 2019; Surveillance Camera Commissioner, 2016: 23). IBM has been awarded the £12,000,000 contract to assist the NLEPD with the transformation of the existing systems into the NLEDS (Home Office, 2016B). "
   ]
  },
  {
   "cell_type": "markdown",
   "metadata": {
    "slideshow": {
     "slide_type": "skip"
    }
   },
   "source": [
    "---"
   ]
  },
  {
   "cell_type": "markdown",
   "metadata": {
    "slideshow": {
     "slide_type": "slide"
    }
   },
   "source": [
    "## Other Studies and Links"
   ]
  },
  {
   "cell_type": "markdown",
   "metadata": {
    "slideshow": {
     "slide_type": "fragment"
    }
   },
   "source": [
    "### Case Study: Valcri Analytics Projct\n",
    "* http://valcri.org/\n",
    "\n",
    "### Case Study: Accenture West Midlands Data Insight Project\n",
    "\n",
    "* https://www.accenture.com/gb-en/case-studies/cloud/west-midlands-police\n",
    "* https://west-midlands.police.uk/about-us/privacy-notice/national-data-analytics-solution"
   ]
  },
  {
   "cell_type": "markdown",
   "metadata": {
    "slideshow": {
     "slide_type": "skip"
    }
   },
   "source": [
    "### Examplar Data"
   ]
  },
  {
   "cell_type": "code",
   "execution_count": 2,
   "metadata": {
    "slideshow": {
     "slide_type": "skip"
    }
   },
   "outputs": [],
   "source": [
    "import pandas as pd\n",
    "\n",
    "pd.DataFrame({\n",
    "    'CRN': ['ABC-1', 'ABC-2', 'ABC-2'],\n",
    "    'Locations': ['leigh on sea, essex', 'leagh on see', 'leigh-on-sea'],\n",
    "    'MO Description': ['WINDOW 3f SMASH NA NA NA NA', 'DOOR 5f FORCED NA NA ALL NA', 'REAR WINDOW NA NA NA'],\n",
    "    'MO notes': ['suspect seen fleeing scene', 'only jewlery taken', 'took all cash'],\n",
    "    'Suspect Description': ['two susepcts c. 6ft brown hair', '6f and 5ft 6 seen together fleeing', 'brown hair']\n",
    "}).to_csv('crimes_freetext.csv', index=False)"
   ]
  }
 ],
 "metadata": {
  "kernelspec": {
   "display_name": "Python 3",
   "language": "python",
   "name": "python3"
  },
  "language_info": {
   "codemirror_mode": {
    "name": "ipython",
    "version": 3
   },
   "file_extension": ".py",
   "mimetype": "text/x-python",
   "name": "python",
   "nbconvert_exporter": "python",
   "pygments_lexer": "ipython3",
   "version": "3.8.3"
  }
 },
 "nbformat": 4,
 "nbformat_minor": 5
}

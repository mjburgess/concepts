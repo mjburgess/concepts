{
 "cells": [
  {
   "cell_type": "markdown",
   "metadata": {
    "slideshow": {
     "slide_type": "slide"
    }
   },
   "source": [
    "# Fundamental Concepts in Data Insight: \n",
    "## <font color=indigo> Data Insight </font>\n",
    "\n",
    "### Fundamentals for a General Audience\n",
    "\n",
    "---"
   ]
  },
  {
   "cell_type": "markdown",
   "metadata": {
    "slideshow": {
     "slide_type": "slide"
    }
   },
   "source": [
    "QA Ltd. owns the copyright and other intellectual property rights of this material and asserts its moral rights as the author. All rights reserved."
   ]
  },
  {
   "cell_type": "markdown",
   "metadata": {
    "slideshow": {
     "slide_type": "slide"
    }
   },
   "source": [
    "### **Data Insight**\n",
    "* Discuss: Why now?\n",
    "    * Case Study: Predictive Policing\n",
    "    * Where does the insight boom come from?\n",
    "    * When did data insight start?\n",
    "    * When did organizations start being data-driven?\n",
    "* What is Data Analysis, Science and Insight?\n",
    "    * What are traditional data practices?\n",
    "    * What are the new insight practices?\n",
    "* What is Data?\n",
    "    * What is Insight?\n",
    "    * What is inference?\n",
    "    * How do you get Data Insight from Raw Data?\n",
    "* What is a typical data insight workflow?\n",
    "    * What techniques and technologies support Insight?\n",
    "    * What tools does data insight require?\n",
    "* What roles do data insight functions require?\n",
    "    * How do you set up a data insight project?\n",
    "    * What questions should I ask of a data project?\n",
    "    * How do data practicioners solve problems?\n",
    "* WB. What is Probability?\n",
    "    * Review: What is probability?\n",
    "    * WB. Case Study: Forensic Risk Analysis\n",
    "* Group Discussion & Reflection\n"
   ]
  },
  {
   "cell_type": "markdown",
   "metadata": {
    "slideshow": {
     "slide_type": "slide"
    }
   },
   "source": [
    "## Overview"
   ]
  },
  {
   "cell_type": "markdown",
   "metadata": {
    "slideshow": {
     "slide_type": "slide"
    }
   },
   "source": [
    "## Discuss: Why now?"
   ]
  },
  {
   "cell_type": "markdown",
   "metadata": {
    "slideshow": {
     "slide_type": "slide"
    }
   },
   "source": [
    "## Case Study: Predictive Policing\n",
    "> The London MET developed the Gang Matrix to identify potential gang members and score them according to the risk they pose to society. Research by Amnesty International (2018) and Scott (2018) revealed the discriminatory nature of this predictive identification program, in which the majority of individuals were young black men. The MET was ordered to radically reform the matrix within a year by the Mayor of London, and are currently working on a new program called the ‘Concern Hub’ (Mayor or London, 2018a: Dodd, 2018; Crisp, 2019). \n",
    "\n",
    "* How could we approach automated risk profiling?\n",
    "    * risk of reoffence, victimization, gang membership"
   ]
  },
  {
   "cell_type": "markdown",
   "metadata": {
    "slideshow": {
     "slide_type": "slide"
    }
   },
   "source": [
    "## Where does the insight boom come from?\n",
    "* big data preceeds insight\n",
    "    * computational power secondary\n",
    "    * statistical techniques incredibly simple\n",
    "* big data sources"
   ]
  },
  {
   "cell_type": "markdown",
   "metadata": {
    "slideshow": {
     "slide_type": "slide"
    }
   },
   "source": [
    "## When did data insight start?\n",
    "* ancient?\n",
    "    * babylon\n",
    "    * tycho brahe\n",
    "    * francis bacon\n",
    "* \"big data\"\n",
    "    * late 90s/early 2000s\n",
    "* \"data science\" \n",
    "    * 2010s"
   ]
  },
  {
   "cell_type": "markdown",
   "metadata": {
    "slideshow": {
     "slide_type": "slide"
    }
   },
   "source": [
    "## When did organizations start being data-driven?\n",
    "* depends on market, organization type\n",
    "    * governments tried mid 90s to 2010s\n",
    "* many analytical problems require necessarily speculative methods\n",
    "    * data relevant to problem needs to exist"
   ]
  },
  {
   "cell_type": "markdown",
   "metadata": {
    "slideshow": {
     "slide_type": "slide"
    }
   },
   "source": [
    "## What is Data Analysis, Science and Insight?\n",
    "\n",
    "* data analysis = fact finding\n",
    "* predictive analysis = predictive **associations** \n",
    "* science = predictive **explanations**\n",
    "* insight = actionable conclusions"
   ]
  },
  {
   "cell_type": "markdown",
   "metadata": {
    "slideshow": {
     "slide_type": "slide"
    }
   },
   "source": [
    "## What are traditional data practices?\n",
    "* business intelligence\n",
    "    * data analysis\n",
    "    * relational\n",
    "    * historical\n",
    "    * factual\n",
    "* What are traditional practices used for?\n",
    "    * operational & retail data\n",
    "    * analysis of historical trends\n",
    "    * monitoring system performance\n",
    "* analysis is passed to executive decision making for insight\n",
    "    * data warehousing -> reporting -> business analysts\n",
    "    * business analysts -> executives -> decisions\n",
    "    "
   ]
  },
  {
   "cell_type": "markdown",
   "metadata": {
    "slideshow": {
     "slide_type": "slide"
    }
   },
   "source": [
    "## What are the new insight practices?\n",
    "* data science & big data\n",
    "    * predictive\n",
    "    * explanatory\n",
    "    * non-relational\n",
    "    * future\n",
    "    * probabilistic\n",
    "* insight is the result of automated processes:\n",
    "    * operational data -> predictive system -> realtime insight actions\n",
    "    * data warehouse -> explanatory system -> generated insight reports\n",
    "        * -> refined by scientists, analysts, ...\n",
    "    * reports -> data scientists -> executives"
   ]
  },
  {
   "cell_type": "markdown",
   "metadata": {
    "slideshow": {
     "slide_type": "slide"
    }
   },
   "source": [
    "## What is Data?\n",
    "* the measurement of an observable variable\n",
    "    * age, sales, height\n",
    "* a human categorization of bundles of such measurements\n",
    "    * sex, product, city\n",
    "* What is the value of Data?\n",
    "    * evidence-based action\n",
    "* How do you get data?\n",
    "    * experiment\n",
    "    * operational systems\n",
    "    * external sources\n",
    "    "
   ]
  },
  {
   "cell_type": "markdown",
   "metadata": {
    "slideshow": {
     "slide_type": "slide"
    }
   },
   "source": [
    "## What is Insight?\n",
    "* levels of insight:\n",
    "    * descriptive\n",
    "    * descriptive & characterising\n",
    "    * diagnostic, narrowly explanatory\n",
    "    * predictive\n",
    "        * associative (automation value)\n",
    "        * **explanatory** (insight value)\n",
    "    * **prescriptive**"
   ]
  },
  {
   "cell_type": "markdown",
   "metadata": {
    "slideshow": {
     "slide_type": "slide"
    }
   },
   "source": [
    "## What is inference?\n",
    "* inference, def.\n",
    "    * drawing conclusions\n",
    "        * ... from data\n",
    "\n",
    "* inference can be,\n",
    "    * description which generalises\n",
    "    * diagnosis \n",
    "    * predictive associations\n",
    "    * predictive explanations\n",
    "\n",
    "* all inferential questions are probabalistic\n",
    "    * (reliable, ) reporting yields true facts\n",
    "    * inference yields *claims* (\"conclusions\") which have a probability of being true"
   ]
  },
  {
   "cell_type": "markdown",
   "metadata": {
    "slideshow": {
     "slide_type": "slide"
    }
   },
   "source": [
    "## How do you get Data Insight from Raw Data?\n",
    "* How does data become suitable for analysis?\n",
    "    * raw data -> \n",
    "    * clean data -> \n",
    "    * problem-structured data -> \n",
    "    * enriched data \n",
    "    * ... -> analysis"
   ]
  },
  {
   "cell_type": "markdown",
   "metadata": {
    "slideshow": {
     "slide_type": "slide"
    }
   },
   "source": [
    "## What is a typical data insight workflow?\n",
    "* obtain data (raw data)\n",
    "* explore data (clean data)\n",
    "* transform data\n",
    "     * ETL transformation (problem-structured)\n",
    "     * modelling transformation (enriched)\n",
    "* model data\n",
    "* evaluate\n",
    "* deploy\n",
    "* monitor"
   ]
  },
  {
   "cell_type": "markdown",
   "metadata": {
    "slideshow": {
     "slide_type": "slide"
    }
   },
   "source": [
    "## What techniques and technologies support Insight?\n",
    "* Machine Learning (Low Quality, Automated)\n",
    "    * Deep Learning (often what's meant by \"Artifical Intelligence\")\n",
    "* Analytics (Medium Quality, Manual)\n",
    "    * Fact-Finding\n",
    "    * Diagnostics\n",
    "* Statistical Modelling (High Quality, Automated/Manual Mix)\n",
    "    * Experiment & Data Science \n",
    "* Big Data\n",
    "    * High complexity data sources"
   ]
  },
  {
   "cell_type": "markdown",
   "metadata": {
    "slideshow": {
     "slide_type": "slide"
    }
   },
   "source": [
    "## What tools does data insight require?\n",
    "* data analysis \n",
    "    * spreadsheets \n",
    "    * notebooks\n",
    "* data engineering \n",
    "    * the cloud\n",
    "    * databases & data systems\n",
    "    * ETL tools \n",
    "* automation, insight programming\n",
    "    * the cloud\n",
    "    * code editors"
   ]
  },
  {
   "cell_type": "markdown",
   "metadata": {
    "slideshow": {
     "slide_type": "slide"
    }
   },
   "source": [
    "## What roles do data insight functions require?\n",
    "* technical \n",
    "    * software engineer\n",
    "    * data engineer\n",
    "    * data analyst\n",
    "* strategic-technical\n",
    "    * data scientist\n",
    "* what is a data scientist?\n",
    "    * business analyst\n",
    "    * project leader\n",
    "    * software engineer\n",
    "    * data analyst\n",
    "    * data engineer"
   ]
  },
  {
   "cell_type": "markdown",
   "metadata": {
    "slideshow": {
     "slide_type": "slide"
    }
   },
   "source": [
    "## How do you set up a data insight project?\n",
    "\n",
    "* identify problem\n",
    "    * validate problem exists\n",
    "    * illustrate with data\n",
    "    * formulate hypothesis\n",
    "* consider solution space\n",
    "    * validate possible solution(s) \n",
    "        * show they could work\n",
    "        * formulate hypotheses\n",
    "    * validate ROI on possible solution(s)\n",
    "* define criteria for success\n",
    "    * qualitative criteria\n",
    "    * measurable metics"
   ]
  },
  {
   "cell_type": "markdown",
   "metadata": {},
   "source": [
    "## What questions should I ask of a data project?\n",
    "\n",
    "* How do existing systems/approaches/conditions fail?\n",
    "* What problem are we trying to solve?\n",
    "* How will we know when it is solved?\n",
    "* What existing systems/people does the probelm concern?\n",
    "* Who does the problem impact (and how)?\n",
    "* What possible solutions are there?\n",
    "* How would we select between solutions?"
   ]
  },
  {
   "cell_type": "markdown",
   "metadata": {
    "slideshow": {
     "slide_type": "slide"
    }
   },
   "source": [
    "## How do data practicioners solve problems?\n",
    "* investigation: what is the problem?\n",
    "    * Q. What steps are relevant?\n",
    "* ideation: what could we do to solve it?\n",
    "    * Q. What steps are relevant?\n",
    "* solution (design): what would a plausible solution look like?\n",
    "    * Q. What steps are relevant?\n",
    "* solution (build): how do we build it?\n",
    "    * Q. What steps are relevant?"
   ]
  },
  {
   "cell_type": "markdown",
   "metadata": {
    "slideshow": {
     "slide_type": "slide"
    }
   },
   "source": [
    "## How do data practicioners solve problems?\n",
    "* investigation: what is the problem?\n",
    "    * problem understanding\n",
    "        * domain\n",
    "        * objective\n",
    "        * impact \n",
    "    * quantification & measurement\n",
    "    * data exploration\n",
    "* ideation: what could we do to solve it?\n",
    "    * subproblems identified \n",
    "    * strategies to solve subproblems / problems\n",
    "    * hyopothesis generation\n",
    "* solution (design): what would a plausible solution look like?\n",
    "    * experimental design\n",
    "    * product/implementation design\n",
    "* solution (build): how do we build it?\n",
    "    * ..."
   ]
  },
  {
   "cell_type": "markdown",
   "metadata": {
    "slideshow": {
     "slide_type": "slide"
    }
   },
   "source": [
    "## WB. What is Probability?"
   ]
  },
  {
   "cell_type": "markdown",
   "metadata": {
    "slideshow": {
     "slide_type": "slide"
    }
   },
   "source": [
    "## WB. What is Probability?"
   ]
  },
  {
   "cell_type": "markdown",
   "metadata": {
    "slideshow": {
     "slide_type": "slide"
    }
   },
   "source": [
    "## Review: What is probability?"
   ]
  },
  {
   "cell_type": "markdown",
   "metadata": {
    "slideshow": {
     "slide_type": "fragment"
    }
   },
   "source": [
    "* All probabilities are *conditional* (on what you know)\n",
    "    * there is no such thing as **a** probability without qualification\n",
    "    * nature has no probabilities\n",
    "    "
   ]
  },
  {
   "cell_type": "markdown",
   "metadata": {
    "slideshow": {
     "slide_type": "fragment"
    }
   },
   "source": [
    "* $P(Claim | Evidence)$ aka. $P(Hypothesis | Evidence)$\n",
    "    * note: mathematical notation *is just a shorthand for ordinary language!*\n",
    "    "
   ]
  },
  {
   "cell_type": "markdown",
   "metadata": {
    "slideshow": {
     "slide_type": "fragment"
    }
   },
   "source": [
    "* This notation describes *a single number* between $0$ and $1$\n",
    "    * $P( ... )$ means \"probability of\"\n",
    "    * $P(X)$ means \"probability of X\" (here we *assume* some background information we're aware of)\n",
    "    * $P(X|Y)$ means \"probability of X given that we know that Y\"\n",
    "* eg., \n",
    "    * $P(Rain Tomorrow | Raining Now)$\n",
    "    * $P(Crime Rates = High | Local Survey of Residents)$"
   ]
  },
  {
   "cell_type": "markdown",
   "metadata": {
    "slideshow": {
     "slide_type": "slide"
    }
   },
   "source": [
    "## Review: What is Probability?\n",
    "* Common convention, $P(Y | X)$\n",
    "    * Y is what we are trying to understand (we don't know it, it's  **unobservable**)\n",
    "    * X is what we know (its direclty **observable**)"
   ]
  },
  {
   "cell_type": "markdown",
   "metadata": {
    "slideshow": {
     "slide_type": "fragment"
    }
   },
   "source": [
    "* Something is *random* **relative to a claim** if knowing it makes no difference to the claim,\n",
    "\n",
    "* $P(Coin = Heads | My Happiness) = P(Coin = Heads)$\n",
    "    * knowing how happy I am makes no difference to the outcome of the coin flip\n",
    "    * almost nothing affects coin flips, this is why we regard them as random\n",
    "    * $P(Coin = Heads | Heads-is-Magenet, I have a Magnet)$ is **not** $P(Coin = Heads)$!\n",
    "* $P(Crime is High) = P(Crime is High | Recent Newspaper Frontpage)$\n",
    "    * The probability *judgement* that crime is high *not knowing* the frontpage **is the same as** knowing it"
   ]
  },
  {
   "cell_type": "markdown",
   "metadata": {
    "slideshow": {
     "slide_type": "slide"
    }
   },
   "source": [
    "## Whiteboard: Case Study: Forensic Risk Analysis"
   ]
  },
  {
   "cell_type": "markdown",
   "metadata": {
    "slideshow": {
     "slide_type": "slide"
    }
   },
   "source": [
    "* Can we use behaviour characteristics of suspects to automate a risk assement?\n",
    "    * quick decision in the field based on local systems which can advise HIGH/LOW risk\n",
    "* Solution\n",
    "    * $Y \\in \\text{HIGH}, \\text{LOW}$\n",
    "    * $X$ observable features\n",
    "        * age\n",
    "        * location (ward boundary index, or postcode = latlong)\n",
    "        * clothing colours (, gang identifiers, etc.)\n",
    "        * ...\n",
    "    * plot $X_{age}$ vs *history* of $Y$\n",
    "        * interpolate `S`-curve\n",
    "        * read-off probability on the vertical \n",
    "* Goal of case study:\n",
    "    * illustrate the use of probability\n",
    "    * illustrate the role of data and relationships in computing probabilties\n",
    "* Refence Terms:\n",
    "    * Risk Analysis\n",
    "    * Binary Classification \n",
    "    * Logistic Regression\n",
    "    * Machine Learning"
   ]
  },
  {
   "cell_type": "markdown",
   "metadata": {
    "slideshow": {
     "slide_type": "slide"
    }
   },
   "source": [
    "## WB. Forensic Risk"
   ]
  },
  {
   "cell_type": "markdown",
   "metadata": {
    "slideshow": {
     "slide_type": "slide"
    }
   },
   "source": [
    "## WB. Forensic Risk"
   ]
  },
  {
   "cell_type": "markdown",
   "metadata": {
    "slideshow": {
     "slide_type": "slide"
    }
   },
   "source": [
    "## Group Discussion (25 min)\n",
    "* Consider a data problem from your own work environment\n",
    "    * What is the role of data here?\n",
    "        * What are the data assets?\n",
    "        * Where do they come from?\n",
    "        * How are they used?\n",
    "    * Brainstorm the ways data insight could solve the problem\n",
    "        \n",
    "    \n",
    "* What skills does data insight require?\n",
    "    * Consider:\n",
    "        * mindset (eg., creative)\n",
    "        * technical skills (eg., programming)\n",
    "        * non-technical skills\n",
    "        * technical knoweldge (eg., statistics)\n",
    "        * non-technical knowldge\n",
    "    * Consider:\n",
    "        * How  the roles mentioned help deliver insight?\n",
    "        * What skills does each use?"
   ]
  },
  {
   "cell_type": "markdown",
   "metadata": {
    "slideshow": {
     "slide_type": "slide"
    }
   },
   "source": [
    "## WB. Review"
   ]
  },
  {
   "cell_type": "markdown",
   "metadata": {
    "slideshow": {
     "slide_type": "slide"
    }
   },
   "source": [
    "## WB. Review"
   ]
  },
  {
   "cell_type": "markdown",
   "metadata": {
    "slideshow": {
     "slide_type": "slide"
    }
   },
   "source": [
    "## Reflection\n",
    "* The History of Data Insight\n",
    "* Data Analysis vs. Data Science\n",
    "    * The Hierachy of Interpretation\n",
    "    * Traditional vs. Big Data \n",
    "* Roles, Skills & Organizational Challenges"
   ]
  }
 ],
 "metadata": {
  "kernelspec": {
   "display_name": "Python 3",
   "language": "python",
   "name": "python3"
  },
  "language_info": {
   "codemirror_mode": {
    "name": "ipython",
    "version": 3
   },
   "file_extension": ".py",
   "mimetype": "text/x-python",
   "name": "python",
   "nbconvert_exporter": "python",
   "pygments_lexer": "ipython3",
   "version": "3.8.3"
  }
 },
 "nbformat": 4,
 "nbformat_minor": 5
}

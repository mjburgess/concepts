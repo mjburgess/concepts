{
 "cells": [
  {
   "cell_type": "markdown",
   "metadata": {
    "slideshow": {
     "slide_type": "slide"
    }
   },
   "source": [
    "# Fundamental Concepts in Data Insight: \n",
    "## <font color=indigo> Roundtable Questionaire: What interests you? </font>\n",
    "\n",
    "### Fundamentals for a General Audience\n",
    "\n",
    "---"
   ]
  },
  {
   "cell_type": "markdown",
   "metadata": {
    "slideshow": {
     "slide_type": "slide"
    }
   },
   "source": [
    "QA Ltd. owns the copyright and other intellectual property rights of this material and asserts its moral rights as the author. All rights reserved."
   ]
  },
  {
   "cell_type": "markdown",
   "metadata": {
    "slideshow": {
     "slide_type": "slide"
    }
   },
   "source": [
    "## Introductions\n",
    "* What's your name?\n",
    "* What's your role and background?\n",
    "* What are you looking to get out of this session?\n",
    "* How do you intend to apply your learning here?\n",
    "* Do you have any hobbies or interets you'd like to share?"
   ]
  },
  {
   "cell_type": "markdown",
   "metadata": {
    "slideshow": {
     "slide_type": "slide"
    }
   },
   "source": [
    "## Introduction to the Course\n",
    "* Purpose\n",
    "    * Objectives\n",
    "* Process\n",
    "    * Admin\n",
    "    * Learning\n",
    "    * Group and Individual Work\n",
    "    * Courseware & Files\n",
    "* Expectations\n",
    "    * Applications"
   ]
  },
  {
   "cell_type": "markdown",
   "metadata": {
    "slideshow": {
     "slide_type": "slide"
    }
   },
   "source": [
    "## Starting Questionaire\n",
    "\n",
    "#### Q. What would you like to know?\n",
    "Please update your diary (word document) as we go throughout the day, start by filling in inital questions; and include others in review at the end of modules.\n",
    "\n",
    "At the end of the day we will have a roundtable to consider all the questions you have that are unanswered by the end of the day.\n",
    "\n",
    "\n",
    "* Key Question\n",
    "    * What would you like to know about these areas that we haven't covered?\n"
   ]
  },
  {
   "cell_type": "markdown",
   "metadata": {
    "slideshow": {
     "slide_type": "slide"
    }
   },
   "source": [
    "### What interests you in...\n",
    "* data insight\n",
    "* data ethics & governance\n",
    "* artificial intelligence\n",
    "* big data\n",
    "* digital transformation\n",
    "* programming and automation\n",
    "* the cloud"
   ]
  },
  {
   "cell_type": "markdown",
   "metadata": {
    "slideshow": {
     "slide_type": "slide"
    }
   },
   "source": [
    "### Questions\n",
    "\n",
    "* Consider data systems you presently work with:\n",
    "    * Where do they succeed / fail?\n",
    "    * Do they enable data insight?\n",
    "    * what obstacles do you think your organization is facing in these areas?\n",
    "    * What ethical issues arise in your data work?\n",
    "    * What opportunities exist that are currently missed?\n",
    "    \n",
    "\n",
    "    "
   ]
  },
  {
   "cell_type": "markdown",
   "metadata": {},
   "source": [
    "## Admin\n",
    "\n",
    "* 9am to 4pm UK Time\n",
    "* Set Breaks Finishing\n",
    "    * c. 11am \n",
    "    * c. 12pm - 1pm\n",
    "    * c. 2.30pm \n",
    "* + breaks\n",
    "    * 5-10min frequently"
   ]
  },
  {
   "cell_type": "markdown",
   "metadata": {},
   "source": [
    "## Contact\n",
    "\n",
    "* michael.burgess@qa.com"
   ]
  },
  {
   "cell_type": "markdown",
   "metadata": {},
   "source": [
    "## Courseware & Tools"
   ]
  },
  {
   "cell_type": "markdown",
   "metadata": {},
   "source": [
    "* zip\n",
    "    * pdfs for every module\n",
    "        * one big pdf which combines all the others\n",
    "    * technical files\n",
    "        * '.ipynb'\n",
    "            * you cannot open these\n",
    "* https://mybinder.org/v2/gh/mjburgess/concepts/HEAD\n",
    "    * create a remote machine & install all necessary components\n",
    "    * you can use to run remote programming code\n",
    "        * which illustrates solutions to some analytical problems"
   ]
  },
  {
   "cell_type": "code",
   "execution_count": null,
   "metadata": {},
   "outputs": [],
   "source": []
  }
 ],
 "metadata": {
  "kernelspec": {
   "display_name": "Python 3",
   "language": "python",
   "name": "python3"
  },
  "language_info": {
   "codemirror_mode": {
    "name": "ipython",
    "version": 3
   },
   "file_extension": ".py",
   "mimetype": "text/x-python",
   "name": "python",
   "nbconvert_exporter": "python",
   "pygments_lexer": "ipython3",
   "version": "3.8.3"
  }
 },
 "nbformat": 4,
 "nbformat_minor": 5
}

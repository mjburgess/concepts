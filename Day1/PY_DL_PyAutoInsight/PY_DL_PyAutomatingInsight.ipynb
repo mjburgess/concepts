{
 "cells": [
  {
   "cell_type": "markdown",
   "id": "e2f1722a",
   "metadata": {
    "slideshow": {
     "slide_type": "slide"
    }
   },
   "source": [
    "# Fundamental Concepts in Data Insight: \n",
    "## <font color=indigo> Programming &amp; Automation </font>\n",
    "\n",
    "### Fundamentals for a General Audience\n",
    "\n",
    "---"
   ]
  },
  {
   "cell_type": "markdown",
   "id": "b00b8721",
   "metadata": {
    "slideshow": {
     "slide_type": "slide"
    }
   },
   "source": [
    "QA Ltd. owns the copyright and other intellectual property rights of this material and asserts its moral rights as the author. All rights reserved."
   ]
  },
  {
   "cell_type": "markdown",
   "id": "37db7225",
   "metadata": {
    "slideshow": {
     "slide_type": "slide"
    }
   },
   "source": [
    "### **Programming &amp; Automation**\n",
    "* What is Automation?\n",
    "    * How do organizations get an ROI on automation?\n",
    "    * What types of Insight can Automated?\n",
    "    * Why replace human-driven applications with programs?\n",
    "    * WB. What tools do analysts & scientists use?\n",
    "    * Review: What tools do analysts and scientists use?\n",
    "* Review: What is Python?\n",
    "    * Demo: How do you write a program?\n",
    "    * Demo: How do you use libraries in a program?\n",
    "    * Review: What are the advantages of python?\n",
    "    * Review:  What is Programming?\n",
    "    * Review: How do you program Insight?\n",
    "* Reflection\n",
    "    * Individual Project\n"
   ]
  },
  {
   "cell_type": "markdown",
   "id": "4d53476d",
   "metadata": {
    "slideshow": {
     "slide_type": "slide"
    }
   },
   "source": [
    "##  What is Automation?\n",
    "\n",
    "* automation is the process of replacing or assiting a human \n",
    "    * to increase the productivity of a task"
   ]
  },
  {
   "cell_type": "markdown",
   "id": "bceaa5a0",
   "metadata": {
    "slideshow": {
     "slide_type": "slide"
    }
   },
   "source": [
    "##  How do organizations get an ROI on automation?\n",
    "\n",
    "* many businesses process are very hard to automate \n",
    "    * requiring high-quality decision-making \n",
    "    * which cannot be automated\n",
    "\n",
    "* automation generates an ROI when \n",
    "    * the target process is low-producivity \n",
    "    * with human operators \n",
    "    * because of the rate/scale of decision-making or action"
   ]
  },
  {
   "cell_type": "markdown",
   "id": "f4b443c8",
   "metadata": {
    "slideshow": {
     "slide_type": "fragment"
    }
   },
   "source": [
    "##  What types of Insight can Automated?\n",
    "* operational systems\n",
    "    * real-time analytics \n",
    "    * monitoring \n",
    "    * prediction & adaption  \n",
    "    * intelligent services  \n",
    "\n",
    "* analytical systems\n",
    "    * trends, predictions, ...   \n",
    "    * evidence-based decision-making  \n",
    "    * fact-finding  \n",
    "    * business intelligence   \n",
    "\n",
    "* offline business process automation can be difficult\n",
    "    * existing processes can be in heavily graphical applications \n",
    "    * which require mouse/keyboard input from human operators...\n"
   ]
  },
  {
   "cell_type": "markdown",
   "id": "c4b1dbb0",
   "metadata": {
    "slideshow": {
     "slide_type": "slide"
    }
   },
   "source": [
    "##  Why replace human-driven applications with programs?\n",
    "\n",
    "* moving away from graphical user interfaces (\"gui\") \n",
    "    * is a major challenge for analysts\n",
    "\n",
    "* modern automation requires them to be programmers\n",
    "    * however they can be given limited code  \n"
   ]
  },
  {
   "cell_type": "markdown",
   "id": "ae291aad",
   "metadata": {
    "slideshow": {
     "slide_type": "slide"
    }
   },
   "source": [
    "## WB. What tools do analysts & scientists use?"
   ]
  },
  {
   "cell_type": "markdown",
   "id": "48aca30f",
   "metadata": {
    "slideshow": {
     "slide_type": "slide"
    }
   },
   "source": [
    "## WB. What tools do analysts & scientists use?"
   ]
  },
  {
   "cell_type": "markdown",
   "id": "c16bdd98",
   "metadata": {
    "slideshow": {
     "slide_type": "slide"
    }
   },
   "source": [
    "## Review: What tools do analysts and scientists use?\n",
    "* excel: spreadsheets\n",
    "    * spreadsheets hide formula\n",
    "    * expose values\n",
    "    * provide graphical exploration tools\n",
    "    * allow analysts to think visually \n",
    "        * and about data only\n",
    "* mssql: sql\n",
    "    * expose formula which can be shared easily\n",
    "    * produce tables\n",
    "    * no graphical tools\n",
    "    * often results imported into excel for exploration\n",
    "* jupyter: notebooks \n",
    "    * expose formula/algorithms which can be shared easily\n",
    "    * expose values\n",
    "    * provide graphical exploration tools\n",
    "    * allow analysts to think visually \n",
    "    * allow analysts to think algorithmically\n",
    "* pycharm: development environments\n",
    "    * raw text for specifying algorithms\n",
    "    * text editor also runs algorithms\n",
    "    * has features for software engineers\n",
    "    * used to build automation systems "
   ]
  },
  {
   "cell_type": "markdown",
   "id": "18153a5b",
   "metadata": {
    "slideshow": {
     "slide_type": "slide"
    }
   },
   "source": [
    "##  Demo: How do you write a program?"
   ]
  },
  {
   "cell_type": "markdown",
   "id": "17e3cc04",
   "metadata": {
    "slideshow": {
     "slide_type": "slide"
    }
   },
   "source": [
    "## Demo: How do you use libraries in a program?"
   ]
  },
  {
   "cell_type": "markdown",
   "id": "235ba2c3",
   "metadata": {
    "slideshow": {
     "slide_type": "slide"
    }
   },
   "source": [
    "##  Review: What is Python?\n",
    "\n",
    "python is one of the most popular human-readable languages for writing algorithms"
   ]
  },
  {
   "cell_type": "markdown",
   "id": "de79dc48",
   "metadata": {
    "slideshow": {
     "slide_type": "slide"
    }
   },
   "source": [
    "##  Review: What are the advantages of python?\n",
    "\n",
    "With wide adoption there are many available programmers.\n",
    "\n",
    "Python is regarded as very human-readable and therefore easier to pick up than altneratives.\n",
    "\n",
    "Python has been adapted with non-python state-of-the-art data tools which enable it to have best-in-class performance on data problems\n",
    "\n",
    "Many key insight organizations (google, facebook, et al.) build and release insight-focused libraries in python"
   ]
  },
  {
   "cell_type": "markdown",
   "id": "50216f14",
   "metadata": {
    "slideshow": {
     "slide_type": "slide"
    }
   },
   "source": [
    "## Review:  What is Programming?\n",
    "\n",
    "* digital computers are electrical systems \n",
    "    * which can affect electrical devices in programmable ways\n",
    "\n",
    "* we can alter the state of an lcd screen \n",
    "    * with a cpu and graphics card\n",
    "    * and we can change the behaviour of both devices with a program"
   ]
  },
  {
   "cell_type": "markdown",
   "id": "55ddaf64",
   "metadata": {
    "slideshow": {
     "slide_type": "slide"
    }
   },
   "source": [
    "## Review: How do you program Insight?\n",
    "\n",
    "an algorithm is a sequence of steps with a well-defined input and output\n",
    "\n",
    "algorithms are company-agnostic, they work if the input is correct\n",
    "\n",
    "libraries are pre-written bundles of algorithms which solve analytical problems\n",
    "\n",
    "the primary job of a programmer-analyst is to assmble pre-existing algorithms together in order to solve the business problem"
   ]
  },
  {
   "cell_type": "markdown",
   "id": "ea5f21e6",
   "metadata": {
    "slideshow": {
     "slide_type": "skip"
    }
   },
   "source": [
    "---"
   ]
  },
  {
   "cell_type": "markdown",
   "id": "80dba5f0",
   "metadata": {
    "slideshow": {
     "slide_type": "slide"
    }
   },
   "source": [
    "## Individual Project\n",
    "* walk throughs: consult the accompanying notebooks\n",
    "    * run each cell and interpret the output\n",
    "    * follow the exercise instructions\n",
    "    * extra: modify a cell, add in code...\n",
    "\n",
    "\n",
    "## Reflection\n",
    "* Automation as a Strategy\n",
    "* Programming as Automated Insight\n",
    "    * Excel vs. Notebooks\n",
    "    * Programs vs. Notebooks\n",
    "* Individual Project: Forensic Python Case Study\n",
    "    * Run the walkthrough code and interpret the output"
   ]
  },
  {
   "cell_type": "markdown",
   "id": "d934aa89",
   "metadata": {
    "slideshow": {
     "slide_type": "slide"
    }
   },
   "source": [
    "## Appendix"
   ]
  },
  {
   "cell_type": "markdown",
   "id": "2f68eee5",
   "metadata": {
    "slideshow": {
     "slide_type": "fragment"
    }
   },
   "source": [
    "An example of a python algorithm,"
   ]
  },
  {
   "cell_type": "code",
   "execution_count": 5,
   "id": "f97f874d",
   "metadata": {
    "slideshow": {
     "slide_type": "fragment"
    }
   },
   "outputs": [
    {
     "name": "stdout",
     "output_type": "stream",
     "text": [
      "7.2\n"
     ]
    }
   ],
   "source": [
    "def algorithm(input_data):\n",
    "    output = 0.2 * input_data + 1\n",
    "    return output\n",
    "\n",
    "x_age = 31\n",
    "y_profit = algorithm(x_age)\n",
    "\n",
    "print(y_profit)"
   ]
  },
  {
   "cell_type": "markdown",
   "id": "6ee6721d",
   "metadata": {
    "slideshow": {
     "slide_type": "fragment"
    }
   },
   "source": [
    "An example of using the numpy library,"
   ]
  },
  {
   "cell_type": "code",
   "execution_count": 6,
   "id": "2782cd40",
   "metadata": {
    "scrolled": true,
    "slideshow": {
     "slide_type": "fragment"
    }
   },
   "outputs": [
    {
     "name": "stdout",
     "output_type": "stream",
     "text": [
      "7.013757433418237\n",
      "x was 26, y will be  6\n",
      "x was 29, y will be  7\n",
      "x was 31, y will be  7\n",
      "x was 27, y will be  6\n",
      "x was 34, y will be  8\n"
     ]
    }
   ],
   "source": [
    "import numpy as np # load numpy\n",
    "\n",
    "x_age = np.random.normal(30, 5, 10_000) # simulate 10k ages\n",
    "\n",
    "y_profit = algorithm(x_age) # compute 10k predictions\n",
    "\n",
    "print(y_profit.mean()) # show mean prediction\n",
    "\n",
    "# for each of the first five xs and ys\n",
    "for x, y in zip(x_age[:5], y_profit[:5]):\n",
    "\n",
    "    # print each\n",
    "    print(f\"x was {x :.0f}, y will be {y: .0f}\")\n"
   ]
  }
 ],
 "metadata": {
  "celltoolbar": "Slideshow",
  "kernelspec": {
   "display_name": "Python 3",
   "language": "python",
   "name": "python3"
  },
  "language_info": {
   "codemirror_mode": {
    "name": "ipython",
    "version": 3
   },
   "file_extension": ".py",
   "mimetype": "text/x-python",
   "name": "python",
   "nbconvert_exporter": "python",
   "pygments_lexer": "ipython3",
   "version": "3.8.3"
  }
 },
 "nbformat": 4,
 "nbformat_minor": 5
}

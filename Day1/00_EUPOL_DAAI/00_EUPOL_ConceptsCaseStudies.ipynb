{
 "cells": [
  {
   "cell_type": "markdown",
   "id": "b644467e",
   "metadata": {
    "slideshow": {
     "slide_type": "slide"
    }
   },
   "source": [
    "# Data Insight: Concepts and Case Studies\n",
    "### for a General Audience\n",
    "\n",
    "\n",
    "<div style=\"background-color: #27cff8\"><img src=europol_logo.svg width=400px/></div>"
   ]
  },
  {
   "cell_type": "markdown",
   "id": "cc3f00c3",
   "metadata": {
    "slideshow": {
     "slide_type": "slide"
    }
   },
   "source": [
    "QA Ltd. owns the copyright and other intellectual property rights of this material and asserts its moral rights as the author. All rights reserved."
   ]
  },
  {
   "cell_type": "markdown",
   "id": "776fb956",
   "metadata": {
    "slideshow": {
     "slide_type": "slide"
    }
   },
   "source": [
    "## Overview\n",
    "\n",
    "#### Day 1: Data Insight\n",
    "* Policing with Data & Case Studies in UK Policing\n",
    "* Data Insight\n",
    "* Programming & Automation\n",
    "* Roundtable Close\n",
    "\n",
    "#### Day 2: Big Data & AI\n",
    "* Big Data\n",
    "* AI\n",
    "* Machine Learning\n",
    "* Natural Language Processing & Ethics\n",
    "\n",
    "#### Day 3: Mindset & Practice\n",
    "* Data Mindset & Storytelling\n",
    "* Data Ethics\n",
    "* Data Governance\n",
    "* Digital Transformation: Roundtables & Close"
   ]
  },
  {
   "cell_type": "markdown",
   "id": "6353d4ef",
   "metadata": {
    "slideshow": {
     "slide_type": "slide"
    }
   },
   "source": [
    "## <center> Day 1 </center>"
   ]
  },
  {
   "cell_type": "markdown",
   "id": "75bdfc12",
   "metadata": {
    "slideshow": {
     "slide_type": "slide"
    }
   },
   "source": [
    "### **Intro & Roundtable Questionaire: What interests you?**\n",
    "* Introductions\n",
    "* Starting Questionaire"
   ]
  },
  {
   "cell_type": "markdown",
   "id": "8d47616c",
   "metadata": {
    "slideshow": {
     "slide_type": "slide"
    }
   },
   "source": [
    "### **Policing with Data &amp; Case Studies in UK Policing**\n",
    "* Case Studies in Problems\n",
    "    * Challenges in Data Collection\n",
    "    * Case Study: House Burglery & Data Siloing\n",
    "* WB. Recording a Crime\n",
    "    * Review: Recording the Crime\n",
    "    * Review: Intelligence Gathering\n",
    "    * Review: Arrest\n",
    "* Challenges in Data Quality\n",
    "    * Problem: Structure\n",
    "    * Problem: Field Structure\n",
    "* Problems\n",
    "    * Problem: Uniqueness\n",
    "* Challenges in Modelling\n",
    "    * Problem: Behavioural Change\n",
    "    * WB. Future = Past?\n",
    "    * WB. Criminal Network Analysis\n",
    "        * Review: Problem: Network Analysis\n",
    "    * Problem: Priotisation of Offenders\n",
    "        * WB. Factor Analysis\n",
    "        "
   ]
  },
  {
   "cell_type": "markdown",
   "id": "14a6cf34",
   "metadata": {
    "slideshow": {
     "slide_type": "slide"
    }
   },
   "source": [
    "* Challenges in Research & Experimentation\n",
    "    * Problem: Getting Data\n",
    "        * Problem: Unifying and Annoymising Data\n",
    "        * Projects: Europol EPRIS\n",
    "    * Problem: Decision Quality\n",
    "    * Break Exercise\n",
    "* Case Studies in Solutions\n",
    "    * Case Studies: Supervised Learning\n",
    "        * for Interview Crime Lists\n",
    "    * WB. Supervised Learning\n",
    "    * Case Studies: Unsupervised Learning\n",
    "        * for Early Detection of Crime Series\n",
    "    * WB. Unsupervised Learning"
   ]
  },
  {
   "cell_type": "markdown",
   "id": "da656212",
   "metadata": {
    "slideshow": {
     "slide_type": "slide"
    }
   },
   "source": [
    "### **Data Insight**\n",
    "* Discuss: Why now?\n",
    "    * Case Study: Predictive Policing\n",
    "    * Where does the insight boom come from?\n",
    "    * When did data insight start?\n",
    "    * When did organizations start being data-driven?\n",
    "* What is Data Analysis, Science and Insight?\n",
    "    * What are traditional data practices?\n",
    "    * What are the new insight practices?\n",
    "* What is Data?\n",
    "    * What is Insight?\n",
    "    * What is inference?\n",
    "    * How do you get Data Insight from Raw Data?\n",
    "* What is a typical data insight workflow?\n",
    "    * What techniques and technologies support Insight?\n",
    "    * What tools does data insight require?\n",
    "* What roles do data insight functions require?\n",
    "    * How do you set up a data insight project?\n",
    "    * What questions should I ask of a data project?\n",
    "    * How do data practicioners solve problems?\n",
    "* WB. What is Probability?\n",
    "    * Review: What is probability?\n",
    "    * WB. Case Study: Forensic Risk Analysis\n",
    "* Group Discussion & Reflection\n"
   ]
  },
  {
   "cell_type": "markdown",
   "id": "aa5104ec",
   "metadata": {
    "slideshow": {
     "slide_type": "slide"
    }
   },
   "source": [
    "### **Programming &amp; Automation**\n",
    "* What is Automation?\n",
    "    * How do organizations get an ROI on automation?\n",
    "    * What types of Insight can Automated?\n",
    "    * Why replace human-driven applications with programs?\n",
    "    * WB. What tools do analysts & scientists use?\n",
    "    * Review: What tools do analysts and scientists use?\n",
    "* Review: What is Python?\n",
    "    * Demo: How do you write a program?\n",
    "    * Demo: How do you use libraries in a program?\n",
    "    * Review: What are the advantages of python?\n",
    "    * Review:  What is Programming?\n",
    "    * Review: How do you program Insight?\n",
    "* Reflection\n",
    "    * Individual Project\n"
   ]
  },
  {
   "cell_type": "markdown",
   "id": "62d84b4c",
   "metadata": {
    "slideshow": {
     "slide_type": "slide"
    }
   },
   "source": [
    "## <center>Day 2</center>"
   ]
  },
  {
   "cell_type": "markdown",
   "id": "cb7892d6",
   "metadata": {
    "slideshow": {
     "slide_type": "slide"
    }
   },
   "source": [
    "### **Introduction to Big Data**\n",
    "* Why now?\n",
    "    * Why is Big Data important?\n",
    "    * WB. Who cares about Big Data?\n",
    "* What is Big Data?\n",
    "    * How do we decide if a problem is Big Data?\n",
    "    * WB. When is a problem Big Data?\n",
    "    * WB. Are all Big Data Systems for Big Data?\n",
    "    * WB. What is a relational database?\n",
    "* The 3 Vs\n",
    "    * Velocity\n",
    "* Vairety\n",
    "    * WB. Variety: Relational & Non-Relational\n",
    "    * WB. Variety: K-V, Documents\n",
    "    * WB. Variety: Graphs\n",
    "    * WB. Variety: Columnar\n",
    "    * WB. Variety: Images & Audio\n",
    "* Volume\n",
    "* Review: What is a Data Model?\n",
    "* Review: What types of Big Data Systems are there?\n",
    "* WB. Data Archicture & Components  \n",
    "    * What does a modern data system need?\n",
    "    * Case Study: NoSQL vs. Relational \n",
    "* Individual Project (10 min)\n",
    "* Group Project (20 min)"
   ]
  },
  {
   "cell_type": "markdown",
   "id": "6f8496ce",
   "metadata": {
    "slideshow": {
     "slide_type": "slide"
    }
   },
   "source": [
    "* Appendix\n",
    "    * What is SQL?\n",
    "    * How do big data systems work together?\n",
    "        * What is a Traditional Data System?\n",
    "        * When do traditional systems win?\n",
    "        * When do traditional systems fail?\n",
    "        * When is a big data system needed?\n",
    "    * What roles enable big data?"
   ]
  },
  {
   "cell_type": "markdown",
   "id": "d6f36902",
   "metadata": {
    "slideshow": {
     "slide_type": "slide"
    }
   },
   "source": [
    "### **Introduction to Artifical Intelligence**\n",
    "* What is AI?\n",
    "    * WB. What is Automation, Augmentation, Assistance...\n",
    "    * WB. What is AI? Weak vs. Strong\n",
    "    * WB. What is Weak AI?\n",
    "    * WB. What is Strong AI?\n",
    "    * WB. What Weak Systems exist?\n",
    "    * WB. How have weak systems developed?\n",
    "    * Review: Weak AI, Strong AI\n",
    "    * Review: When did \"AI\" start?\n",
    "    * Review: What are symbolic AI systems?\n",
    "    * Review: What are statistical AI systems?\n",
    "    * Review: What is the value of AI?\n",
    "* Individual Project:  (10 min)\n",
    "* Group Project (20 min)\n",
    "    * WB. Review: AI Adoption\n",
    "    * WB. Review: AI Barriers\n",
    "    "
   ]
  },
  {
   "cell_type": "markdown",
   "id": "ca9a2ee0",
   "metadata": {
    "slideshow": {
     "slide_type": "slide"
    }
   },
   "source": [
    "* Reflection\n",
    "    * What are the challenges to AI adoption?\n",
    "    * What is Weak vs. Strong AI?\n",
    "    * What is Narrow Intelligence?\n",
    "    * What is General Intelligence?\n",
    "    * Is General Intelligence a form of Narrow Intelligence?\n",
    "    * Saftey\n",
    "        * How do we improve the safety of ML?\n",
    "        * What does intelligence?\n",
    "    * Robotics"
   ]
  },
  {
   "cell_type": "markdown",
   "id": "061c75cc",
   "metadata": {
    "slideshow": {
     "slide_type": "slide"
    }
   },
   "source": [
    "\n",
    "### **Applying Machine Learning**\n",
    " * Review: What is AI?\n",
    " * What is Machine Learning?\n",
    "    * What can Machine Learning do?\n",
    "    * WB. The types of Machine Learning\n",
    "    * WB. How does Machine Learning work?\n",
    "    * WB. Regression\n",
    "    * WB. Classification\n",
    "    * WB. Clustering\n",
    "    * Demo: How do you create machine learning systems?\n",
    "    * Review: How does Machine Learning work?\n",
    " * When can Machine Learning add value?\n",
    "    * Demo: sklearn Classifier Comparison\n",
    " * What is Deep Learning?\n",
    "    * Where is the business value in Deep Learning?\n",
    "    * Deep Learning: What is Natural Language Processing?\n",
    "    * Deep Learning: What is Computer Vision?\n",
    "    * Demo: AI as a Service: How can you deploy Deep Learning?\n",
    " * Case Studies\n",
    "    * Case Studies: Supervised Learning\n",
    "        * Automated Facial Recognition\n",
    "        * Voice Identification\n",
    "    * Case Study: Forensic Unsupervised Learning \n",
    "    * Predictive Identification\n",
    "* Individual & Group Project"
   ]
  },
  {
   "cell_type": "markdown",
   "id": "a90d0766",
   "metadata": {
    "slideshow": {
     "slide_type": "slide"
    }
   },
   "source": [
    "\n",
    "### **Natural Language Processing &amp; Ethics**\n",
    "* How are words represented to machines?\n",
    "    * WB. How do you compare words?\n",
    "* How do machines process Dostoevsky?\n",
    "    * Let's get Crime and Punishment\n",
    "    * Let's model a vocabulary \n",
    "    * Let's find out how Dostoevsky uses words\n",
    "    * Does the distributional hypothesis work?\n",
    "* Natural Languages\n",
    "    * What do words mean?\n",
    "    * Can we learn word meanings by parsing text?\n",
    "    * What can we learn from text?\n",
    "    * What is association?\n",
    "    * Are Human Implicit Associations expressed in Text?\n",
    "    * Is association part of semantics?\n",
    "* Bias\n",
    "    * What is Bias?\n",
    "    * WB. How do associations relate to prejudice?\n",
    "    * Review: How do associations relate to prejudice?\n",
    "    * Can machines detect stereotypes?\n",
    "    * Where does AI bias come from?\n",
    "    * Is AI racist just because we are?"
   ]
  },
  {
   "cell_type": "markdown",
   "id": "a1e5394a",
   "metadata": {
    "slideshow": {
     "slide_type": "slide"
    }
   },
   "source": [
    "## <center>Day 3</center>"
   ]
  },
  {
   "cell_type": "markdown",
   "id": "c9428ea0",
   "metadata": {
    "slideshow": {
     "slide_type": "slide"
    }
   },
   "source": [
    "### **Data Mindset &amp; Skills**\n",
    "* Why do you need a Data Mindset?\n",
    "    * Discuss: What are the components of a Data Mindset?\n",
    "    * Review: What are the components of a Data Mindset?\n",
    "    * What mindset does a data practicioner need?\n",
    "    * What mindsets does an organization need?\n",
    "* Reasoning\n",
    "    * What is Reasoning?\n",
    "    * What is(n't) Evidence-Based reasoning?\n",
    "        * Superstition\n",
    "        * Speculation\n",
    "        * Evidence-based reasoning\n",
    "    * What techniques and technologies support evidence-based reasoning?\n",
    "    * What are cognitive biases?\n",
    "        * Anchoring and Adjustment Effect\n",
    "        * Clustering illusion\n",
    "        * Framing Effect\n",
    "        * Availability heuristic\n",
    "        * Base rate fallacy\n",
    "        * Selective perception\n",
    "        * Group think\n",
    "    * How do you formulate a hypothesis?\n",
    "    * How does data distinguish between hypotheses?\n",
    "    * Demo: Amnes Room \n",
    "    "
   ]
  },
  {
   "cell_type": "markdown",
   "id": "e1d4de64",
   "metadata": {
    "slideshow": {
     "slide_type": "slide"
    }
   },
   "source": [
    "* Storytelling & Visualization\n",
    "    * What is Data Storytelling?\n",
    "        * Project Valcri\n",
    "    * What is a story?\n",
    "    * Why are data projects presented as stories?\n",
    "    * What is Visual Science?\n",
    "    * How do you create good visuals?\n",
    "    * DEMO: Ted Talk\n",
    "* Group Project: Write a Data Story (30 min)"
   ]
  },
  {
   "cell_type": "markdown",
   "id": "cdca0279",
   "metadata": {
    "slideshow": {
     "slide_type": "slide"
    }
   },
   "source": [
    "### **Data Ethics**\n",
    "* Why Data Ethics?\n",
    "    * What is Data Ethics?\n",
    "* Policing Case Studies: Motivations\n",
    "    * Data Storage\n",
    "    * Illegal Actions \n",
    "    * Bias \n",
    "* Mini Case Studies: Motivations & Problems\n",
    "    * Case Study: Tesla Crash (Responsibility)\n",
    "    * Case Study: `care.data` (Importance of Ethics)\n",
    "    * Case Study: Airport Threat Detection (Risks)\n",
    "    * Case Study: Unintended behaviour\n",
    "    * Case Study: Street Bump (Inequality)\n",
    "* Topics in Data Ethics\n",
    "    * Ethical Systems\n",
    "    * The Ethics of (Opaque) Algorithms\n",
    "    * Problem in Data Ethics\n",
    "        * Problems: Privacy\n",
    "        * Problems: Discrimination\n",
    "        * Problems: Auditing & Responsibility\n",
    "* Topic Focus: Accountability & Explanation\n",
    "    * Case Study: Compass Recidivisism System\n",
    "    * Why don't we get explanations?\n",
    "    * What is an Explanation of a Model?\n",
    "    * What is an Explanation?\n",
    "    * Counterfactual explanations of models\n",
    "* Group Exercise"
   ]
  },
  {
   "cell_type": "markdown",
   "id": "688f3dc7",
   "metadata": {
    "slideshow": {
     "slide_type": "slide"
    }
   },
   "source": [
    "* Appendix\n",
    "    * The Law\n",
    "    * Concerns\n",
    "        * Changing Laws\n",
    "        * International Regulartory Concerns\n",
    "    * GDPR\n",
    "    * Data Protection Directive (Not Legally Binding, presently) -- Art 12a\n",
    "    * Art 22 GDPR -- Automated Individual Decision-Making"
   ]
  },
  {
   "cell_type": "markdown",
   "id": "47735080",
   "metadata": {
    "slideshow": {
     "slide_type": "slide"
    }
   },
   "source": [
    "### **Data Governance**\n",
    "* What is Data?\n",
    "* What is Data Governance?\n",
    "    * WB. How do you manage data as an asset?\n",
    "    * WB. What does Data Governance oversee?\n",
    "    * What are the goals of Data Governance?\n",
    "    * WB. What areas does governance touch?\n",
    "    * Review: What topics does governance cover?\n",
    "* How does Data Governance relate to Compliance?\n",
    "    * Governing Organizations\n",
    "* How do we govern data systems?\n",
    "    * How does meta-data help govern data systems?\n",
    "    * WB. How are Data Governance roles defined?\n",
    "    * How do organizations implement Governance?\n",
    "    * What is Data Stewardship?\n",
    "* The Data in Data Governance\n",
    "    * How do you value data?\n",
    "    * How do we ensure data quality?\n",
    "    * How do you manage data security?\n",
    "* Group Exercise\n"
   ]
  },
  {
   "cell_type": "markdown",
   "id": "37e9b18b",
   "metadata": {
    "slideshow": {
     "slide_type": "slide"
    }
   },
   "source": [
    "### **Digital Transformation &amp; Data Insight**\n",
    "* Overview\n",
    "    * WB. What have we covered so far?\n",
    "    * Reflection: The topics so far\n",
    "* Data Insight Rewards & Risks\n",
    "    * What are the barriers to adopting insight practices?\n",
    "    * What are the strategic advantages from data insight?\n",
    "    * What are the risks of data insight projects?\n",
    "    * When will data insight be rewarding?\n",
    "* Group: Data & Digital Transformation\n",
    "    * WB. Risks & Rewards\n",
    "    * What are the organizational components of an insight culture?\n",
    "    * WB. The Organizational Structure for Digital Transformation\n",
    "* Data Insight Organizational Questions\n",
    "    * What is a data democracy?\n",
    "    * What do workers want from a data democracy?\n",
    "* Reflection: How do you implement a digital transformation?\n",
    "    * Roundtable\n",
    "        * WB. Roundtable\n",
    "* Case Study: When will data insight help?\n"
   ]
  },
  {
   "cell_type": "markdown",
   "id": "fd935c21",
   "metadata": {
    "slideshow": {
     "slide_type": "slide"
    }
   },
   "source": [
    "##  <center> Live Demonstrations </center>"
   ]
  },
  {
   "cell_type": "markdown",
   "id": "05f99558",
   "metadata": {
    "slideshow": {
     "slide_type": "slide"
    }
   },
   "source": [
    "* Fundamental Concepts in Data Insight: **Demo: NoSQL &amp; Non-Relational Data**\n",
    "    * What is a Key-Value model?\n",
    "    * What is a Document model?\n",
    "    * What is a Graph Data Model?\n",
    "    * What is a Columar Model?\n",
    "    * Appendix\n",
    "        * Hashes and Encodings"
   ]
  },
  {
   "cell_type": "markdown",
   "id": "1ec4a105",
   "metadata": {
    "slideshow": {
     "slide_type": "slide"
    }
   },
   "source": [
    "* Fundamental Concepts in Data Insight: **Demo: Relational Data &amp; SQL**\n",
    "    * How do you define data schema?\n",
    "    * How do you insert data?\n",
    "    * How do you query for data?\n",
    "    * How do you peform analytical queries?"
   ]
  },
  {
   "cell_type": "markdown",
   "id": "596c7b5a",
   "metadata": {
    "slideshow": {
     "slide_type": "slide"
    }
   },
   "source": [
    "* Fundamental Concepts in Data Insight: **Demo: Automating Insight**\n",
    "    * What are algorithms?\n",
    "        * How do you write an algorithm in python?\n",
    "    * How do you write calculative algorithms?\n",
    "    * How you access pre-defined algorithms?\n",
    "    * How do you combine business-specific and generic algorithms?"
   ]
  },
  {
   "cell_type": "markdown",
   "id": "31fab5ec",
   "metadata": {
    "slideshow": {
     "slide_type": "slide"
    }
   },
   "source": [
    "* Fundamental Concepts in Data Insight: **Demo: Automating Insight**\n",
    "    * The Simulation\n",
    "    * Descriptive Analytics\n",
    "    * How do you automate insight?\n",
    "    * Exercise"
   ]
  },
  {
   "cell_type": "markdown",
   "id": "c836dc87",
   "metadata": {
    "slideshow": {
     "slide_type": "slide"
    }
   },
   "source": [
    "* Fundamental Concepts in Data Insight: **Demo: Machine Learning Concepts**\n",
    "    * What dataset are we using?\n",
    "    * How do I query this dataset?\n",
    "    * How do I predict probability of a stop-and-search success?\n",
    "    * What's a k-NN query?\n",
    "    * How would we automate this analysis with python?\n",
    "    * Summary & Review"
   ]
  },
  {
   "cell_type": "markdown",
   "id": "3d6b7d04",
   "metadata": {
    "slideshow": {
     "slide_type": "slide"
    }
   },
   "source": [
    "* Fundamental Concepts in Data Insight: **Demo: Unsupervised Learning &amp; Network Science**\n",
    "    * Data\n",
    "    * Aside: Visualizing the Hierachy"
   ]
  },
  {
   "cell_type": "markdown",
   "id": "fc10edf9",
   "metadata": {
    "slideshow": {
     "slide_type": "slide"
    }
   },
   "source": [
    "* Fundamental Concepts in Data Insight: **Demo: AI &amp; Deep Learning**\n",
    "    * What data set are we analysing?\n",
    "    * What is sentiment analysis?\n",
    "    * What messages does the dataset contain?\n",
    "    * What sentiments does the dataset contain?"
   ]
  },
  {
   "cell_type": "markdown",
   "id": "01cd36a6",
   "metadata": {
    "slideshow": {
     "slide_type": "slide"
    }
   },
   "source": [
    "## Appendix Resources"
   ]
  },
  {
   "cell_type": "markdown",
   "id": "326475c1",
   "metadata": {
    "slideshow": {
     "slide_type": "fragment"
    }
   },
   "source": [
    "### **Case Studies in Police Data Systems**"
   ]
  },
  {
   "cell_type": "markdown",
   "id": "c2c280e3",
   "metadata": {
    "slideshow": {
     "slide_type": "slide"
    }
   },
   "source": [
    "* General Observations\n",
    "    * General Trends\n",
    "    * General Innovation Topics\n",
    "    * General Policing Areas\n",
    "    * General Ethical Topics\n",
    "    * General Organizational Challenges\n",
    "    * General Cultural Challenges\n",
    "    * General Regulatory Challenges\n",
    "    * General Technical Challenges\n",
    "    "
   ]
  },
  {
   "cell_type": "markdown",
   "id": "c4a33745",
   "metadata": {
    "slideshow": {
     "slide_type": "slide"
    }
   },
   "source": [
    "* Case Studies & Applications\n",
    "    * Data Collection\n",
    "    * Boders & Querying\n",
    "    * Automated Licence Plate Readers\n",
    "    * Automated Facial Recognition\n",
    "    * Voice Identification\n",
    "    * Predictive Mapping\n",
    "    * Predictive Identification\n",
    "    * Databases\n",
    "    * Hetrogenous Databases\n",
    "    * Mixing Data Systems\n",
    "    * UK DB Interoperability\n",
    "    * DB Proliferation\n",
    "    * Europol Databases\n",
    "    * Ethics\n",
    "    * Data Storage\n",
    "    * Law breaks the Law \n",
    "    * Extra-Legal Actions (no legal frameworks)\n",
    "    * Social Groups & Privacy\n",
    "    * Bias \n",
    "    "
   ]
  },
  {
   "cell_type": "markdown",
   "id": "acd3405a",
   "metadata": {
    "slideshow": {
     "slide_type": "slide"
    }
   },
   "source": [
    "* AI & Insight\n",
    "    * Predictive Policing\n",
    "    * Predictive Mapping\n",
    "    * Predictive Identification\n",
    "    * Real-time Identification\n",
    "    * Automated License Plate Readers\n",
    "    * Automated Facial Recognition\n",
    "    * Voice Identification \n",
    "    * Regulatory Challenges\n",
    "    * Changing Laws\n",
    "    * International Regulartory Concerns\n"
   ]
  },
  {
   "cell_type": "markdown",
   "id": "5edaf9f4",
   "metadata": {
    "slideshow": {
     "slide_type": "slide"
    }
   },
   "source": [
    "* Articles\n",
    "    * References\n",
    "    * Further Reading: General Topics\n",
    "    * Further Reading: Projects\n",
    "    * Further Reading: Law & Ethics\n",
    "* News\n",
    "* Videos\n",
    "* Tools"
   ]
  }
 ],
 "metadata": {
  "celltoolbar": "Slideshow",
  "kernelspec": {
   "display_name": "Python 3",
   "language": "python",
   "name": "python3"
  },
  "language_info": {
   "codemirror_mode": {
    "name": "ipython",
    "version": 3
   },
   "file_extension": ".py",
   "mimetype": "text/x-python",
   "name": "python",
   "nbconvert_exporter": "python",
   "pygments_lexer": "ipython3",
   "version": "3.8.3"
  }
 },
 "nbformat": 4,
 "nbformat_minor": 5
}
